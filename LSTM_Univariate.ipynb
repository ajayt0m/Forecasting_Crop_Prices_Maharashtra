{
 "cells": [
  {
   "cell_type": "code",
   "execution_count": 7,
   "metadata": {},
   "outputs": [],
   "source": [
    "import pandas as pd\n",
    "\n",
    "file_url = 'https://raw.githubusercontent.com/ajayt0m/Forecasting_Crop_Prices_Maharashtra/main/onion_daily_cleaned.csv'\n",
    "\n",
    "onion_df = pd.read_csv(file_url)"
   ]
  },
  {
   "cell_type": "code",
   "execution_count": 8,
   "metadata": {},
   "outputs": [],
   "source": [
    "#Set index as date\n",
    "onion_df.index  = pd.to_datetime(onion_df['date_arrival'], format = '%Y-%m-%d')"
   ]
  },
  {
   "cell_type": "code",
   "execution_count": 10,
   "metadata": {},
   "outputs": [],
   "source": [
    "#might be redundant\n",
    "onion_df['date_arrival'] = pd.to_datetime(onion_df['date_arrival'], format = '%Y-%m-%d')"
   ]
  },
  {
   "cell_type": "code",
   "execution_count": 11,
   "metadata": {},
   "outputs": [
    {
     "data": {
      "text/html": [
       "<div>\n",
       "<style scoped>\n",
       "    .dataframe tbody tr th:only-of-type {\n",
       "        vertical-align: middle;\n",
       "    }\n",
       "\n",
       "    .dataframe tbody tr th {\n",
       "        vertical-align: top;\n",
       "    }\n",
       "\n",
       "    .dataframe thead th {\n",
       "        text-align: right;\n",
       "    }\n",
       "</style>\n",
       "<table border=\"1\" class=\"dataframe\">\n",
       "  <thead>\n",
       "    <tr style=\"text-align: right;\">\n",
       "      <th></th>\n",
       "      <th>date_arrival</th>\n",
       "      <th>MIN</th>\n",
       "      <th>MAX</th>\n",
       "      <th>MODAL</th>\n",
       "      <th>Arrival</th>\n",
       "    </tr>\n",
       "    <tr>\n",
       "      <th>date_arrival</th>\n",
       "      <th></th>\n",
       "      <th></th>\n",
       "      <th></th>\n",
       "      <th></th>\n",
       "      <th></th>\n",
       "    </tr>\n",
       "  </thead>\n",
       "  <tbody>\n",
       "    <tr>\n",
       "      <th>2021-01-01</th>\n",
       "      <td>2021-01-01</td>\n",
       "      <td>865.15</td>\n",
       "      <td>2706.88</td>\n",
       "      <td>2060.60</td>\n",
       "      <td>11575.0</td>\n",
       "    </tr>\n",
       "    <tr>\n",
       "      <th>2021-01-02</th>\n",
       "      <td>2021-01-02</td>\n",
       "      <td>1105.07</td>\n",
       "      <td>2720.16</td>\n",
       "      <td>2181.84</td>\n",
       "      <td>15560.0</td>\n",
       "    </tr>\n",
       "    <tr>\n",
       "      <th>2021-01-03</th>\n",
       "      <td>2021-01-03</td>\n",
       "      <td>1129.41</td>\n",
       "      <td>2741.47</td>\n",
       "      <td>2141.18</td>\n",
       "      <td>3954.0</td>\n",
       "    </tr>\n",
       "    <tr>\n",
       "      <th>2021-01-04</th>\n",
       "      <td>2021-01-04</td>\n",
       "      <td>967.31</td>\n",
       "      <td>2754.16</td>\n",
       "      <td>2167.55</td>\n",
       "      <td>21441.0</td>\n",
       "    </tr>\n",
       "    <tr>\n",
       "      <th>2021-01-05</th>\n",
       "      <td>2021-01-05</td>\n",
       "      <td>1188.84</td>\n",
       "      <td>2793.71</td>\n",
       "      <td>2275.47</td>\n",
       "      <td>21526.0</td>\n",
       "    </tr>\n",
       "    <tr>\n",
       "      <th>2021-01-06</th>\n",
       "      <td>2021-01-06</td>\n",
       "      <td>1335.29</td>\n",
       "      <td>2698.00</td>\n",
       "      <td>2242.65</td>\n",
       "      <td>7103.0</td>\n",
       "    </tr>\n",
       "    <tr>\n",
       "      <th>2021-01-07</th>\n",
       "      <td>2021-01-07</td>\n",
       "      <td>1335.29</td>\n",
       "      <td>2698.00</td>\n",
       "      <td>2242.65</td>\n",
       "      <td>7103.0</td>\n",
       "    </tr>\n",
       "    <tr>\n",
       "      <th>2021-01-08</th>\n",
       "      <td>2021-01-08</td>\n",
       "      <td>1335.29</td>\n",
       "      <td>2698.00</td>\n",
       "      <td>2242.65</td>\n",
       "      <td>7103.0</td>\n",
       "    </tr>\n",
       "    <tr>\n",
       "      <th>2021-01-09</th>\n",
       "      <td>2021-01-09</td>\n",
       "      <td>1160.00</td>\n",
       "      <td>3223.00</td>\n",
       "      <td>2832.40</td>\n",
       "      <td>3389.0</td>\n",
       "    </tr>\n",
       "    <tr>\n",
       "      <th>2021-01-10</th>\n",
       "      <td>2021-01-10</td>\n",
       "      <td>633.33</td>\n",
       "      <td>3366.67</td>\n",
       "      <td>2375.00</td>\n",
       "      <td>394.0</td>\n",
       "    </tr>\n",
       "  </tbody>\n",
       "</table>\n",
       "</div>"
      ],
      "text/plain": [
       "             date_arrival      MIN      MAX    MODAL  Arrival\n",
       "date_arrival                                                 \n",
       "2021-01-01     2021-01-01   865.15  2706.88  2060.60  11575.0\n",
       "2021-01-02     2021-01-02  1105.07  2720.16  2181.84  15560.0\n",
       "2021-01-03     2021-01-03  1129.41  2741.47  2141.18   3954.0\n",
       "2021-01-04     2021-01-04   967.31  2754.16  2167.55  21441.0\n",
       "2021-01-05     2021-01-05  1188.84  2793.71  2275.47  21526.0\n",
       "2021-01-06     2021-01-06  1335.29  2698.00  2242.65   7103.0\n",
       "2021-01-07     2021-01-07  1335.29  2698.00  2242.65   7103.0\n",
       "2021-01-08     2021-01-08  1335.29  2698.00  2242.65   7103.0\n",
       "2021-01-09     2021-01-09  1160.00  3223.00  2832.40   3389.0\n",
       "2021-01-10     2021-01-10   633.33  3366.67  2375.00    394.0"
      ]
     },
     "metadata": {},
     "output_type": "display_data"
    }
   ],
   "source": [
    "with pd.option_context(\"display.max_columns\", None, \"display.max_rows\", None):\n",
    "    display(onion_df.head(10))"
   ]
  },
  {
   "cell_type": "code",
   "execution_count": 12,
   "metadata": {},
   "outputs": [
    {
     "name": "stdout",
     "output_type": "stream",
     "text": [
      "<class 'pandas.core.frame.DataFrame'>\n",
      "DatetimeIndex: 1004 entries, 2021-01-01 to 2023-10-01\n",
      "Data columns (total 5 columns):\n",
      " #   Column        Non-Null Count  Dtype         \n",
      "---  ------        --------------  -----         \n",
      " 0   date_arrival  1004 non-null   datetime64[ns]\n",
      " 1   MIN           1004 non-null   float64       \n",
      " 2   MAX           1004 non-null   float64       \n",
      " 3   MODAL         1004 non-null   float64       \n",
      " 4   Arrival       1004 non-null   float64       \n",
      "dtypes: datetime64[ns](1), float64(4)\n",
      "memory usage: 47.1 KB\n"
     ]
    }
   ],
   "source": [
    "onion_df.info()"
   ]
  },
  {
   "cell_type": "code",
   "execution_count": 14,
   "metadata": {},
   "outputs": [
    {
     "data": {
      "text/plain": [
       "<AxesSubplot: xlabel='date_arrival'>"
      ]
     },
     "execution_count": 14,
     "metadata": {},
     "output_type": "execute_result"
    },
    {
     "data": {
      "image/png": "[encoded data removed]",
      "text/plain": [
       "<Figure size 640x480 with 1 Axes>"
      ]
     },
     "metadata": {},
     "output_type": "display_data"
    }
   ],
   "source": [
    "price = onion_df['MODAL']\n",
    "price.plot()"
   ]
  },
  {
   "cell_type": "code",
   "execution_count": 15,
   "metadata": {},
   "outputs": [
    {
     "data": {
      "text/plain": [
       "date_arrival\n",
       "2021-01-01    2060.60\n",
       "2021-01-02    2181.84\n",
       "2021-01-03    2141.18\n",
       "2021-01-04    2167.55\n",
       "2021-01-05    2275.47\n",
       "2021-01-06    2242.65\n",
       "2021-01-07    2242.65\n",
       "2021-01-08    2242.65\n",
       "2021-01-09    2832.40\n",
       "2021-01-10    2375.00\n",
       "Name: MODAL, dtype: float64"
      ]
     },
     "metadata": {},
     "output_type": "display_data"
    }
   ],
   "source": [
    "with pd.option_context(\"display.max_columns\", None, \"display.max_rows\", None):\n",
    "    display(price.head(10))"
   ]
  },
  {
   "cell_type": "code",
   "execution_count": 16,
   "metadata": {},
   "outputs": [],
   "source": [
    "import numpy as np\n",
    "\n",
    "def df_to_X_y(df, window_size=5):\n",
    "  indices = df.index\n",
    "  df_as_np = df.to_numpy()\n",
    "  X = []\n",
    "  y = []\n",
    "  for i in range(len(df_as_np)-window_size):\n",
    "    row = [[a] for a in df_as_np[i:i+window_size]]\n",
    "    X.append(row)\n",
    "    label = df_as_np[i+window_size]\n",
    "    y.append(label)\n",
    "  return np.array(X), np.array(y), indices"
   ]
  },
  {
   "cell_type": "code",
   "execution_count": 17,
   "metadata": {},
   "outputs": [
    {
     "data": {
      "text/plain": [
       "((989, 15, 1), (989,))"
      ]
     },
     "execution_count": 17,
     "metadata": {},
     "output_type": "execute_result"
    }
   ],
   "source": [
    "WINDOW_SIZE = 15\n",
    "X, y, indices  = df_to_X_y(price, WINDOW_SIZE)\n",
    "X.shape, y.shape"
   ]
  },
  {
   "cell_type": "code",
   "execution_count": 18,
   "metadata": {},
   "outputs": [
    {
     "data": {
      "text/plain": [
       "array([[[2060.6 ],\n",
       "        [2181.84],\n",
       "        [2141.18],\n",
       "        ...,\n",
       "        [2076.5 ],\n",
       "        [2319.16],\n",
       "        [2391.25]],\n",
       "\n",
       "       [[2181.84],\n",
       "        [2141.18],\n",
       "        [2167.55],\n",
       "        ...,\n",
       "        [2319.16],\n",
       "        [2391.25],\n",
       "        [2394.59]],\n",
       "\n",
       "       [[2141.18],\n",
       "        [2167.55],\n",
       "        [2275.47],\n",
       "        ...,\n",
       "        [2391.25],\n",
       "        [2394.59],\n",
       "        [2298.81]],\n",
       "\n",
       "       ...,\n",
       "\n",
       "       [[1738.89],\n",
       "        [1765.26],\n",
       "        [1811.44],\n",
       "        ...,\n",
       "        [1878.12],\n",
       "        [1978.39],\n",
       "        [2104.41]],\n",
       "\n",
       "       [[1765.26],\n",
       "        [1811.44],\n",
       "        [1678.89],\n",
       "        ...,\n",
       "        [1978.39],\n",
       "        [2104.41],\n",
       "        [1874.3 ]],\n",
       "\n",
       "       [[1811.44],\n",
       "        [1678.89],\n",
       "        [1819.26],\n",
       "        ...,\n",
       "        [2104.41],\n",
       "        [1874.3 ],\n",
       "        [1982.  ]]])"
      ]
     },
     "execution_count": 18,
     "metadata": {},
     "output_type": "execute_result"
    }
   ],
   "source": [
    "X"
   ]
  },
  {
   "cell_type": "code",
   "execution_count": 19,
   "metadata": {},
   "outputs": [
    {
     "data": {
      "text/plain": [
       "((800, 15, 1), (800,), (100, 15, 1), (100,), (89, 15, 1), (89,))"
      ]
     },
     "execution_count": 19,
     "metadata": {},
     "output_type": "execute_result"
    }
   ],
   "source": [
    "X_train, y_train = X[:800], y[:800]\n",
    "X_val, y_val = X[800:900], y[800:900]\n",
    "X_test, y_test = X[900:], y[900:]\n",
    "X_train.shape, y_train.shape, X_val.shape, y_val.shape, X_test.shape, y_test.shape"
   ]
  },
  {
   "cell_type": "code",
   "execution_count": 20,
   "metadata": {},
   "outputs": [
    {
     "data": {
      "text/plain": [
       "array([1245.83, 1291.2 , 1210.6 , 1206.83, 1252.27, 1108.48, 1195.57,\n",
       "       1171.26, 1185.87, 1143.76, 1148.9 , 1326.93, 1149.9 , 1256.03,\n",
       "       1202.81, 1212.54, 1414.06, 1129.23, 1248.93, 1162.05, 1166.28,\n",
       "       1184.36, 1191.72, 1204.6 , 1162.71, 1304.72, 1184.25, 1256.28,\n",
       "       1261.52, 1306.15, 1535.75, 1373.94, 1406.93, 1521.04, 1535.14,\n",
       "       1526.87, 1629.05, 1765.82, 1803.41, 1866.24, 1940.02, 1598.5 ,\n",
       "       1846.82, 1901.62, 1858.09, 1802.04, 1750.25, 1840.98, 1831.78,\n",
       "       1861.85, 1817.04, 1862.65, 1826.  , 1788.54, 1810.16, 1906.7 ,\n",
       "       1725.  , 1837.94, 1828.39, 1957.6 , 1820.24, 1889.37, 1898.  ,\n",
       "       1926.74, 1929.74, 1819.7 , 1851.77, 1762.44, 1850.85, 1820.98,\n",
       "       1843.26, 1738.89, 1765.26, 1811.44, 1678.89, 1819.26, 1818.48,\n",
       "       1821.37, 1801.32, 1785.52, 1840.66, 1968.27, 1912.86, 1878.12,\n",
       "       1978.39, 2104.41, 1874.3 , 1982.  , 1840.33])"
      ]
     },
     "execution_count": 20,
     "metadata": {},
     "output_type": "execute_result"
    }
   ],
   "source": [
    "y_test"
   ]
  },
  {
   "cell_type": "code",
   "execution_count": 21,
   "metadata": {},
   "outputs": [],
   "source": [
    "price_training_mean = np.mean(X_train[:, :, 0]).round(2)\n",
    "price_training_std = np.std(X_train[:, :, 0]).round(2)\n",
    "\n",
    "def preprocess(X):\n",
    "  X[:, :, 0] = (X[:, :, 0] - price_training_mean) / price_training_std\n",
    "  return X"
   ]
  },
  {
   "cell_type": "code",
   "execution_count": 22,
   "metadata": {},
   "outputs": [
    {
     "data": {
      "text/plain": [
       "1463.23"
      ]
     },
     "execution_count": 22,
     "metadata": {},
     "output_type": "execute_result"
    }
   ],
   "source": [
    "price_training_mean"
   ]
  },
  {
   "cell_type": "code",
   "execution_count": 23,
   "metadata": {},
   "outputs": [
    {
     "data": {
      "text/plain": [
       "array([[[-1.01822268],\n",
       "        [-1.05914411],\n",
       "        [-1.00206012],\n",
       "        ...,\n",
       "        [-0.44358086],\n",
       "        [-0.58649686],\n",
       "        [-0.43391703]],\n",
       "\n",
       "       [[-1.05914411],\n",
       "        [-1.00206012],\n",
       "        [-1.00129226],\n",
       "        ...,\n",
       "        [-0.58649686],\n",
       "        [-0.43391703],\n",
       "        [-0.40715423]],\n",
       "\n",
       "       [[-1.00206012],\n",
       "        [-1.00129226],\n",
       "        [-1.05045416],\n",
       "        ...,\n",
       "        [-0.43391703],\n",
       "        [-0.40715423],\n",
       "        [-0.32218373]],\n",
       "\n",
       "       ...,\n",
       "\n",
       "       [[ 0.51626557],\n",
       "        [ 0.56565221],\n",
       "        [ 0.65213971],\n",
       "        ...,\n",
       "        [ 0.77702032],\n",
       "        [ 0.96480944],\n",
       "        [ 1.20082405]],\n",
       "\n",
       "       [[ 0.56565221],\n",
       "        [ 0.65213971],\n",
       "        [ 0.4038955 ],\n",
       "        ...,\n",
       "        [ 0.96480944],\n",
       "        [ 1.20082405],\n",
       "        [ 0.76986609]],\n",
       "\n",
       "       [[ 0.65213971],\n",
       "        [ 0.4038955 ],\n",
       "        [ 0.66678528],\n",
       "        ...,\n",
       "        [ 1.20082405],\n",
       "        [ 0.76986609],\n",
       "        [ 0.97157037]]])"
      ]
     },
     "execution_count": 23,
     "metadata": {},
     "output_type": "execute_result"
    }
   ],
   "source": [
    "preprocess(X_train)\n",
    "preprocess(X_val)\n",
    "preprocess(X_test)"
   ]
  },
  {
   "cell_type": "code",
   "execution_count": 24,
   "metadata": {},
   "outputs": [],
   "source": [
    "def preprocess_output(y):\n",
    "  y[:,] = (y[:,] - price_training_mean) / price_training_std \n",
    "  return y"
   ]
  },
  {
   "cell_type": "code",
   "execution_count": 44,
   "metadata": {},
   "outputs": [
    {
     "data": {
      "text/plain": [
       "array([ 1.74428317,  1.56490308,  1.61337204,  1.92364454,  1.88543871,\n",
       "        2.02348535,  1.60071168,  1.56278678,  1.37381777,  1.18396854,\n",
       "        0.73476917,  1.27680494,  1.44315011,  1.54014421,  1.61694915,\n",
       "        1.23938571,  2.61352187,  2.74113681,  2.87393951,  2.53194119,\n",
       "        2.27377095,  2.22316696,  2.10815619,  2.58318195,  2.83245622,\n",
       "        3.05412492,  3.09830508,  3.08431501,  2.86875176,  2.480869  ,\n",
       "        2.93821519,  3.03183819,  3.34220433,  3.35113775,  2.8518026 ,\n",
       "        3.23365484,  3.01312857,  3.70431688,  3.25300122,  2.78458657,\n",
       "        1.94977058,  1.26847083,  0.85109093,  0.85440584,  1.33572432,\n",
       "        1.46112932,  1.39323907,  0.9688173 ,  0.4440678 ,  0.64329993,\n",
       "        0.75353498, -0.02324188, -0.24813185, -0.44322502, -0.2569529 ,\n",
       "       -0.44459219, -0.21593782, -0.15400318, -0.35814215, -0.14182976,\n",
       "       -0.14182976, -0.14182976, -0.82410338, -0.89532728, -0.56889222,\n",
       "       -0.86618597, -0.88189905, -0.88450229, -0.93990074, -0.92332615,\n",
       "       -0.92117239, -0.7162843 , -0.8344227 , -0.80088023, -0.85805787,\n",
       "       -0.93907669, -0.8449293 , -0.81556325, -0.77220714, -1.13443206,\n",
       "       -1.20275307, -1.14636202, -1.17089615, -1.16454724, -1.11626557,\n",
       "       -0.642813  , -1.14875925, -1.17602772, -1.01136811, -1.10058994,\n",
       "       -1.10371758, -0.98078472, -0.88032587, -1.0937541 , -1.05200862,\n",
       "       -1.00262197, -1.04146456, -1.0144021 , -1.01119955, -1.12194026,\n",
       "       -0.91986141, -1.01256672, -0.94143646, -0.91467366, -0.91375597,\n",
       "       -0.94559416, -0.7988763 , -0.89021444, -0.83015264, -0.87113026,\n",
       "       -0.92913194, -0.86635453, -0.83457253, -0.75671879, -0.91808222,\n",
       "       -0.73673565, -0.71793239, -0.90397977, -0.79009271, -0.87925836,\n",
       "       -0.68098137, -0.90047757, -0.90472891, -0.83848675, -0.80355839,\n",
       "       -0.73761588, -0.55385336, -0.49922277, -0.47107407, -0.36563349,\n",
       "       -0.36713175, -0.27858414, -0.26367637, -0.23022755, -0.40745388,\n",
       "       -0.06953835,  0.0114992 ,  0.08571964,  0.13660455,  0.01728626,\n",
       "        0.02610731,  0.13793426,  0.05146549,  0.05839498,  0.15508943,\n",
       "        0.03410432,  0.13960109,  0.24788838, -0.10173237,  0.04558479,\n",
       "        0.15014514,  0.18005431,  0.19460624,  0.21483285,  0.21696788,\n",
       "        0.1110029 ,  0.23659519,  0.30583388,  0.33443206,  0.10795018,\n",
       "        0.13684802,  0.22593876,  0.05301995,  0.10070231,  0.11928083,\n",
       "        0.23874895,  0.12559228,  0.09598277,  0.17793801,  0.04389924,\n",
       "        0.19827699,  0.15351625,  0.1468115 ,  0.17806911,  0.0477011 ,\n",
       "        0.18252645,  0.02447795,  0.08630022, -0.01912164,  0.09045791,\n",
       "       -0.04874988, -0.0864875 , -0.01773574, -0.08264819, -0.04614664,\n",
       "       -0.04180167,  0.07564379,  0.08995224,  0.04706433,  0.19440022,\n",
       "        0.06770297,  0.2057496 ,  0.1215095 ,  0.23509692,  0.25049162,\n",
       "        0.08152449,  0.07152355,  0.05215844,  0.00863377, -0.02893529,\n",
       "        0.11362487,  0.10319318,  0.04431127,  0.04442364, -0.00760371,\n",
       "        0.04470456, -0.01121828,  0.06667291,  0.10916753, -0.08448357,\n",
       "        0.0505478 , -0.13308362,  0.0852327 ,  0.09169398,  0.21743609,\n",
       "        0.08455848, -0.01082498,  0.17570934,  0.14143646,  0.03768143,\n",
       "        0.04758873,  0.0494241 , -0.11916846, -0.27098043, -0.19205918,\n",
       "       -0.20305272, -0.17492275, -0.18739582, -0.14875925, -0.20280925,\n",
       "       -0.26901395, -0.14050005,  0.01683678, -0.21558198, -0.08332241,\n",
       "       -0.00485064, -0.06523083, -0.26524956, -0.10944845, -0.0461841 ,\n",
       "       -0.2807379 , -0.35050098, -0.18844461, -0.21923401, -0.22859818,\n",
       "       -0.17904298, -0.13649218,  0.0426819 ,  0.03552767,  0.28718045,\n",
       "        0.43502201,  0.47837813,  0.2777039 ,  0.12710928,  0.35774885,\n",
       "        0.45390018,  0.72338234,  0.93965727,  1.14696133,  1.12806443,\n",
       "        1.14894653,  2.20990729,  2.07654275,  1.93083622,  2.17205731,\n",
       "        2.30811874,  2.26172863,  2.10098324,  1.78042888,  2.89843618,\n",
       "        2.70100197,  2.12701564,  1.97700159,  2.28412773,  1.82693136,\n",
       "        2.01428973,  1.88088772,  2.05605394,  1.54388988,  1.52551737,\n",
       "        1.6807379 ,  1.28504542,  1.46974436,  1.5337953 ,  1.44226988,\n",
       "        1.24800075,  1.0274183 ,  1.13570559,  1.06867684,  0.87418298,\n",
       "        0.91094672,  0.79926959,  1.17919281,  0.85034179,  1.06251522,\n",
       "        1.2117614 ,  1.4702313 ,  1.84665231,  2.06043637,  1.76347973,\n",
       "        1.39144115,  1.51806349,  1.41885944,  1.00357711,  1.04266317,\n",
       "        0.89160034,  0.8116303 ,  0.6085214 ,  0.88380935,  0.7443019 ,\n",
       "        1.23550894,  1.15962169,  1.14297219,  0.7647158 ,  0.66431314,\n",
       "        0.62562038,  0.57820021,  0.46169117,  0.2192902 ,  0.2473078 ,\n",
       "        0.65258919,  0.91976777,  0.83895496,  0.92267066,  0.44374941,\n",
       "        0.54171739,  0.822268  ,  0.90514093,  1.14293473,  0.90574024,\n",
       "        1.02681899,  1.16666355,  1.10289353,  1.076112  ,  0.87186066,\n",
       "        0.6496863 ,  0.66777788,  0.59646034,  0.82653807,  0.81747355,\n",
       "        1.02457159,  0.91841933,  0.79683491,  0.78458657,  0.73911415,\n",
       "        0.89021444,  0.71559135,  0.75894747,  0.7045229 ,  0.63507819,\n",
       "        0.5433093 ,  0.42996535,  0.7192621 ,  0.76349845,  0.87586853,\n",
       "        0.98475513,  0.71360614,  0.81060024,  0.87661766,  0.85221463,\n",
       "        0.63477854,  0.61874707,  0.56917314,  0.47000655,  0.58436183,\n",
       "        0.59232138,  0.693623  ,  0.66367637,  0.72892593,  0.83974155,\n",
       "        0.68862253,  0.73851484,  0.50480382,  0.85079127,  0.79711583,\n",
       "        0.36102631,  0.67388332,  0.63326154,  0.53733496,  0.59964416,\n",
       "        0.48028842,  0.45867591,  0.61998314,  0.55205544,  0.53044293,\n",
       "        0.65384399,  0.66869557,  0.94139901,  0.90858695,  1.1606892 ,\n",
       "        1.31454256,  1.27813466,  1.16351718,  1.07725442,  1.17715142,\n",
       "        1.13499391,  1.06727222,  1.27422043,  1.16434123,  1.16915442,\n",
       "        1.16593314,  1.17123326,  1.06787152,  1.20728533,  1.01415863,\n",
       "        0.90793145,  0.88375316,  0.36688829,  0.43505946,  0.36173799,\n",
       "        0.24213878,  0.1605581 , -0.02095702,  0.00398914,  0.07319037,\n",
       "       -0.33471299, -0.30733215, -0.2933608 , -0.28854762, -0.39284577,\n",
       "       -0.43773762, -0.47504448, -0.70137653, -0.65440584, -0.71231389,\n",
       "       -0.78511097, -0.56215001, -0.7752224 , -0.84271936, -0.97539095,\n",
       "       -1.06380747, -1.05129694, -0.99344508, -0.98741455, -1.06187845,\n",
       "       -0.98808877, -1.0663358 , -0.99376346, -1.07290945, -0.75662515,\n",
       "       -0.89495271, -1.16166308, -0.67006274, -1.19114149, -1.126922  ,\n",
       "       -1.00824047, -1.11177077, -1.16331117, -1.22511471, -1.04815058,\n",
       "       -1.29622624, -1.25817024, -1.22335425, -1.24992977, -1.28139339,\n",
       "       -1.18842588, -1.1774698 , -1.10766926, -1.15510816, -1.1644536 ,\n",
       "       -1.19166589, -1.22505853, -1.22897275, -1.06650435, -1.14815994,\n",
       "       -1.23367356, -1.19543028, -1.20279052, -1.17254425, -1.16158816,\n",
       "       -1.17758217, -1.20732278, -1.24271936, -1.16627025, -1.14246652,\n",
       "       -1.13136061, -1.23569623, -1.23114524, -1.21990823, -1.20552486,\n",
       "       -1.18168368, -1.14847832, -1.31787621, -1.2832475 , -1.21393389,\n",
       "       -1.31188314, -1.29386647, -1.25062272, -1.24123982, -1.29133814,\n",
       "       -1.31141493, -1.13523738, -1.29720011, -1.22790523, -1.15701845,\n",
       "       -1.12195898, -1.14355277, -1.15924712, -1.08442738, -1.02061991,\n",
       "       -1.04936792, -0.88328495, -0.89199363, -0.96900459, -1.04112745,\n",
       "       -1.02361644, -1.03080813, -1.00310891, -0.97992321, -0.87676749,\n",
       "       -0.76819927, -0.84897462, -0.51036614, -0.60535631, -0.64687705,\n",
       "       -0.69862347, -0.63256859, -0.68894091, -0.73343946, -0.69013953,\n",
       "       -0.73862721, -0.66925742, -0.66082967, -0.58423073, -0.5766083 ,\n",
       "       -0.55190561, -0.49611387, -0.61717389, -0.57215095, -0.6341605 ,\n",
       "       -0.59595468, -0.64198895, -0.68229235, -0.63344882, -0.71574117,\n",
       "       -0.64933046, -0.53671692, -0.58185223, -0.59981272, -0.66878921,\n",
       "       -0.59642289, -0.55462122, -0.65494897, -0.5216406 , -0.61352187,\n",
       "       -0.5759528 , -0.61015076, -0.58662796, -0.67942691, -0.71349377,\n",
       "       -0.70240659, -0.71349377, -0.65405   , -0.83955427, -0.69047664,\n",
       "       -0.8484315 , -0.82400974, -0.64178294, -0.72201517, -0.82230546,\n",
       "       -0.78213316, -0.5928645 , -0.72521772, -0.75769267, -0.70926117,\n",
       "       -0.70309954, -0.76286169, -0.78597247, -0.61846615, -0.84923682,\n",
       "       -0.81428973, -0.69656335, -0.3996067 , -0.75280457, -0.74904017,\n",
       "       -0.48461466, -0.57975466, -0.68892218, -0.60515029, -0.54703624,\n",
       "       -0.64153947, -0.69789306, -0.40294035, -0.70937354, -0.72405656,\n",
       "       -0.61451447, -0.68688079, -0.78291975, -0.81005712, -0.52246465,\n",
       "       -0.71148984, -0.77793801, -0.69364173, -0.82459032, -0.7345257 ,\n",
       "       -0.76406031, -0.74031276, -0.82794269, -0.8604551 , -0.83271842,\n",
       "       -0.80456972, -0.67511939, -0.73658582, -0.4201517 , -0.79732185,\n",
       "       -0.69337953, -0.74269126, -0.78625339, -0.79263976, -0.87802229,\n",
       "       -0.5077629 , -0.81412117, -0.87504448, -0.74666167, -0.81230452,\n",
       "       -0.77569061, -0.94935855, -0.5398071 , -0.63477854, -0.55194307,\n",
       "       -0.42717483, -0.3618129 , -0.25717764, -0.40676093, -0.10950464,\n",
       "       -0.43431033, -0.27678622, -0.26787152, -0.12141586, -0.02693136,\n",
       "        0.01571308,  0.26199082,  0.30405469,  0.44914318,  0.36286169,\n",
       "        0.38739582,  0.36031464,  0.33744733,  0.38958704,  0.39419421,\n",
       "        0.43260605,  0.44652121,  0.29101976,  0.43365484,  0.23858039,\n",
       "        0.39661017,  0.14845959,  0.26863939,  0.4366701 ,  0.45738365,\n",
       "        0.77731997,  0.91546025,  1.36748759,  1.38492368,  1.43659519,\n",
       "        1.54988295,  1.42723101,  1.35840434,  1.13825265,  1.21640603,\n",
       "        0.9511752 ,  0.76171926,  0.65918157,  0.71045978,  0.57432344,\n",
       "        0.68438992,  0.88041951,  0.63573368,  0.35409683,  0.34270999,\n",
       "        0.16185036, -0.26292724, -0.03715704,  0.15611949, -0.20176046,\n",
       "       -0.20192902, -0.11310048, -0.10336174, -0.12725911,  0.03938571,\n",
       "       -0.07519431, -0.35773012, -0.34306583, -0.29341699, -0.35053844,\n",
       "       -0.44011612, -0.34124918, -0.42430939, -0.69787433, -0.55838562,\n",
       "       -0.51643412, -0.51886881, -0.5216406 , -0.38788276, -0.37988576,\n",
       "       -0.53909542, -0.49515872, -0.57825639, -0.5244124 , -0.52448731,\n",
       "       -0.4214065 , -0.58956831, -0.30323064, -0.21618129, -0.09931642,\n",
       "        0.0223991 ,  0.08907201,  0.05755221,  0.05326341,  0.00809065,\n",
       "       -0.00855885, -0.09532728, -0.18557917, -0.32888847, -0.2901208 ,\n",
       "       -0.16572713, -0.190486  , -0.23213784, -0.11092799, -0.1764772 ,\n",
       "       -0.36827418, -0.28388426, -0.34471392, -0.49298623, -0.42369136,\n",
       "       -0.30111434, -0.34874052, -0.46489372, -0.27319037, -0.26968817,\n",
       "       -0.48517651, -0.41421481, -0.35136249, -0.26026782, -0.28551362,\n",
       "       -0.28407154, -0.24708306, -0.36147579, -0.38119674, -0.37936136,\n",
       "       -0.29970971, -0.51079689, -0.60569342, -0.47815339, -0.67483847,\n",
       "       -0.69736867, -0.52094765, -0.72233355, -0.69240566, -0.72602304,\n",
       "       -0.54188594, -0.76132597, -0.78690889, -0.74329057, -0.80153572,\n",
       "       -1.00322128, -1.05901302, -0.69298623, -1.06560539, -1.07249742,\n",
       "       -1.06200955, -1.14063115, -1.30250023, -1.07856541, -0.92862628,\n",
       "       -1.16810563, -1.28013859, -1.31441146,  1.3676936 , -1.4070044 ,\n",
       "       -1.29871711, -1.14495739, -1.35036988, -1.37696414, -1.32489934,\n",
       "       -1.32827044, -1.26672909, -1.24661485, -1.08283547, -1.21925274,\n",
       "       -1.05476168, -1.17209477, -1.09038299, -1.16349845, -1.18720854,\n",
       "       -1.00528139, -1.23502201, -1.19677872, -1.20556232, -1.1881075 ,\n",
       "       -1.18999906, -1.20863377, -1.0201517 , -1.22769922, -1.2126229 ,\n",
       "       -1.12948778, -1.1440397 , -1.26953835, -1.29806162, -1.04957393])"
      ]
     },
     "execution_count": 44,
     "metadata": {},
     "output_type": "execute_result"
    }
   ],
   "source": [
    "y_train"
   ]
  },
  {
   "cell_type": "code",
   "execution_count": 25,
   "metadata": {},
   "outputs": [
    {
     "data": {
      "text/plain": [
       "array([-0.40715423, -0.32218373, -0.47313419, -0.48019477, -0.39509317,\n",
       "       -0.66438805, -0.50128289, -0.5468115 , -0.51944939, -0.59831445,\n",
       "       -0.58868808, -0.25526735, -0.58681524, -0.38805132, -0.48772357,\n",
       "       -0.46950089, -0.09208727, -0.62552673, -0.40134844, -0.56406031,\n",
       "       -0.55613822, -0.52227737, -0.5084933 , -0.4843712 , -0.56282423,\n",
       "       -0.296863  , -0.52248338, -0.38758311, -0.37776945, -0.29418485,\n",
       "        0.13581796, -0.1672254 , -0.10544058,  0.10826856,  0.13467553,\n",
       "        0.11918719,  0.31055342,  0.566701  ,  0.63710085,  0.75477105,\n",
       "        0.89294878,  0.25333833,  0.7184006 ,  0.82103193,  0.73950744,\n",
       "        0.63453507,  0.53754097,  0.70746325,  0.69023317,  0.7465493 ,\n",
       "        0.66262759,  0.74804757,  0.67940818,  0.6092518 ,  0.64974249,\n",
       "        0.83054593,  0.4902519 ,  0.70176983,  0.68388426,  0.92587321,\n",
       "        0.66862066,  0.79808971,  0.81425227,  0.86807754,  0.87369604,\n",
       "        0.66760933,  0.72767113,  0.56037082,  0.72594812,  0.67000655,\n",
       "        0.71173331,  0.51626557,  0.56565221,  0.65213971,  0.4038955 ,\n",
       "        0.66678528,  0.66532447,  0.67073696,  0.63318663,  0.60359584,\n",
       "        0.70686394,  0.94585635,  0.84208259,  0.77702032,  0.96480944,\n",
       "        1.20082405,  0.76986609,  0.97157037,  0.7062459 ])"
      ]
     },
     "execution_count": 25,
     "metadata": {},
     "output_type": "execute_result"
    }
   ],
   "source": [
    "preprocess_output(y_train)\n",
    "preprocess_output(y_val)\n",
    "preprocess_output(y_test)"
   ]
  },
  {
   "cell_type": "code",
   "execution_count": 26,
   "metadata": {},
   "outputs": [
    {
     "name": "stdout",
     "output_type": "stream",
     "text": [
      "Model: \"sequential\"\n",
      "_________________________________________________________________\n",
      " Layer (type)                Output Shape              Param #   \n",
      "=================================================================\n",
      " lstm (LSTM)                 (None, 136)               75072     \n",
      "                                                                 \n",
      " dense (Dense)               (None, 1)                 137       \n",
      "                                                                 \n",
      "=================================================================\n",
      "Total params: 75209 (293.79 KB)\n",
      "Trainable params: 75209 (293.79 KB)\n",
      "Non-trainable params: 0 (0.00 Byte)\n",
      "_________________________________________________________________\n"
     ]
    }
   ],
   "source": [
    "from tensorflow.keras.models import Sequential\n",
    "from tensorflow.keras.layers import *\n",
    "from tensorflow.keras.callbacks import ModelCheckpoint\n",
    "from tensorflow.keras.losses import MeanSquaredError\n",
    "from tensorflow.keras.metrics import RootMeanSquaredError\n",
    "from tensorflow.keras.optimizers import Adam\n",
    "\n",
    "model1 = Sequential()\n",
    "model1.add(InputLayer((15, 1)))\n",
    "model1.add(LSTM(136, activation='relu'))\n",
    "model1.add(Dense(1))\n",
    "\n",
    "model1.summary()"
   ]
  },
  {
   "cell_type": "code",
   "execution_count": 28,
   "metadata": {},
   "outputs": [],
   "source": [
    "cp1 = ModelCheckpoint('model1', save_best_only=True)\n",
    "model1.compile(loss=MeanSquaredError(), optimizer=Adam(learning_rate=0.0001), metrics=[RootMeanSquaredError()])"
   ]
  },
  {
   "cell_type": "code",
   "execution_count": 29,
   "metadata": {},
   "outputs": [
    {
     "name": "stdout",
     "output_type": "stream",
     "text": [
      "Epoch 1/20\n",
      "22/25 [=========================>....] - ETA: 0s - loss: 0.8506 - root_mean_squared_error: 0.9223INFO:tensorflow:Assets written to: model1\\assets\n"
     ]
    },
    {
     "name": "stderr",
     "output_type": "stream",
     "text": [
      "INFO:tensorflow:Assets written to: model1\\assets\n"
     ]
    },
    {
     "name": "stdout",
     "output_type": "stream",
     "text": [
      "25/25 [==============================] - 4s 120ms/step - loss: 0.8238 - root_mean_squared_error: 0.9076 - val_loss: 1.3806 - val_root_mean_squared_error: 1.1750\n",
      "Epoch 2/20\n",
      "25/25 [==============================] - ETA: 0s - loss: 0.6693 - root_mean_squared_error: 0.8181INFO:tensorflow:Assets written to: model1\\assets\n"
     ]
    },
    {
     "name": "stderr",
     "output_type": "stream",
     "text": [
      "INFO:tensorflow:Assets written to: model1\\assets\n"
     ]
    },
    {
     "name": "stdout",
     "output_type": "stream",
     "text": [
      "25/25 [==============================] - 2s 72ms/step - loss: 0.6693 - root_mean_squared_error: 0.8181 - val_loss: 1.0493 - val_root_mean_squared_error: 1.0244\n",
      "Epoch 3/20\n",
      "25/25 [==============================] - ETA: 0s - loss: 0.4956 - root_mean_squared_error: 0.7040INFO:tensorflow:Assets written to: model1\\assets\n"
     ]
    },
    {
     "name": "stderr",
     "output_type": "stream",
     "text": [
      "INFO:tensorflow:Assets written to: model1\\assets\n"
     ]
    },
    {
     "name": "stdout",
     "output_type": "stream",
     "text": [
      "25/25 [==============================] - 2s 85ms/step - loss: 0.4956 - root_mean_squared_error: 0.7040 - val_loss: 0.6348 - val_root_mean_squared_error: 0.7968\n",
      "Epoch 4/20\n",
      "22/25 [=========================>....] - ETA: 0s - loss: 0.3041 - root_mean_squared_error: 0.5514INFO:tensorflow:Assets written to: model1\\assets\n"
     ]
    },
    {
     "name": "stderr",
     "output_type": "stream",
     "text": [
      "INFO:tensorflow:Assets written to: model1\\assets\n"
     ]
    },
    {
     "name": "stdout",
     "output_type": "stream",
     "text": [
      "25/25 [==============================] - 2s 72ms/step - loss: 0.2930 - root_mean_squared_error: 0.5412 - val_loss: 0.1246 - val_root_mean_squared_error: 0.3531\n",
      "Epoch 5/20\n",
      "23/25 [==========================>...] - ETA: 0s - loss: 0.1543 - root_mean_squared_error: 0.3929INFO:tensorflow:Assets written to: model1\\assets\n"
     ]
    },
    {
     "name": "stderr",
     "output_type": "stream",
     "text": [
      "INFO:tensorflow:Assets written to: model1\\assets\n"
     ]
    },
    {
     "name": "stdout",
     "output_type": "stream",
     "text": [
      "25/25 [==============================] - 2s 83ms/step - loss: 0.1584 - root_mean_squared_error: 0.3981 - val_loss: 0.0950 - val_root_mean_squared_error: 0.3083\n",
      "Epoch 6/20\n",
      "24/25 [===========================>..] - ETA: 0s - loss: 0.1348 - root_mean_squared_error: 0.3671INFO:tensorflow:Assets written to: model1\\assets\n"
     ]
    },
    {
     "name": "stderr",
     "output_type": "stream",
     "text": [
      "INFO:tensorflow:Assets written to: model1\\assets\n"
     ]
    },
    {
     "name": "stdout",
     "output_type": "stream",
     "text": [
      "25/25 [==============================] - 2s 87ms/step - loss: 0.1363 - root_mean_squared_error: 0.3692 - val_loss: 0.0355 - val_root_mean_squared_error: 0.1885\n",
      "Epoch 7/20\n",
      "25/25 [==============================] - 0s 15ms/step - loss: 0.1223 - root_mean_squared_error: 0.3497 - val_loss: 0.0428 - val_root_mean_squared_error: 0.2068\n",
      "Epoch 8/20\n",
      "25/25 [==============================] - 0s 19ms/step - loss: 0.1105 - root_mean_squared_error: 0.3324 - val_loss: 0.0439 - val_root_mean_squared_error: 0.2096\n",
      "Epoch 9/20\n",
      "25/25 [==============================] - 0s 18ms/step - loss: 0.1013 - root_mean_squared_error: 0.3183 - val_loss: 0.0448 - val_root_mean_squared_error: 0.2116\n",
      "Epoch 10/20\n",
      "25/25 [==============================] - 0s 18ms/step - loss: 0.0991 - root_mean_squared_error: 0.3148 - val_loss: 0.0498 - val_root_mean_squared_error: 0.2231\n",
      "Epoch 11/20\n",
      "23/25 [==========================>...] - ETA: 0s - loss: 0.0846 - root_mean_squared_error: 0.2909INFO:tensorflow:Assets written to: model1\\assets\n"
     ]
    },
    {
     "name": "stderr",
     "output_type": "stream",
     "text": [
      "INFO:tensorflow:Assets written to: model1\\assets\n"
     ]
    },
    {
     "name": "stdout",
     "output_type": "stream",
     "text": [
      "25/25 [==============================] - 3s 105ms/step - loss: 0.0947 - root_mean_squared_error: 0.3077 - val_loss: 0.0282 - val_root_mean_squared_error: 0.1679\n",
      "Epoch 12/20\n",
      "25/25 [==============================] - 0s 14ms/step - loss: 0.0942 - root_mean_squared_error: 0.3070 - val_loss: 0.0535 - val_root_mean_squared_error: 0.2313\n",
      "Epoch 13/20\n",
      "25/25 [==============================] - 0s 14ms/step - loss: 0.0928 - root_mean_squared_error: 0.3046 - val_loss: 0.0386 - val_root_mean_squared_error: 0.1964\n",
      "Epoch 14/20\n",
      "25/25 [==============================] - 0s 12ms/step - loss: 0.0865 - root_mean_squared_error: 0.2941 - val_loss: 0.0284 - val_root_mean_squared_error: 0.1685\n",
      "Epoch 15/20\n",
      "25/25 [==============================] - 0s 13ms/step - loss: 0.0860 - root_mean_squared_error: 0.2932 - val_loss: 0.0407 - val_root_mean_squared_error: 0.2016\n",
      "Epoch 16/20\n",
      "24/25 [===========================>..] - ETA: 0s - loss: 0.0797 - root_mean_squared_error: 0.2824INFO:tensorflow:Assets written to: model1\\assets\n"
     ]
    },
    {
     "name": "stderr",
     "output_type": "stream",
     "text": [
      "INFO:tensorflow:Assets written to: model1\\assets\n"
     ]
    },
    {
     "name": "stdout",
     "output_type": "stream",
     "text": [
      "25/25 [==============================] - 4s 162ms/step - loss: 0.0830 - root_mean_squared_error: 0.2881 - val_loss: 0.0235 - val_root_mean_squared_error: 0.1534\n",
      "Epoch 17/20\n",
      "25/25 [==============================] - 0s 17ms/step - loss: 0.0816 - root_mean_squared_error: 0.2856 - val_loss: 0.0247 - val_root_mean_squared_error: 0.1571\n",
      "Epoch 18/20\n",
      "25/25 [==============================] - 0s 15ms/step - loss: 0.0815 - root_mean_squared_error: 0.2855 - val_loss: 0.0255 - val_root_mean_squared_error: 0.1597\n",
      "Epoch 19/20\n",
      "25/25 [==============================] - 0s 15ms/step - loss: 0.0795 - root_mean_squared_error: 0.2819 - val_loss: 0.0275 - val_root_mean_squared_error: 0.1659\n",
      "Epoch 20/20\n",
      "24/25 [===========================>..] - ETA: 0s - loss: 0.0815 - root_mean_squared_error: 0.2855INFO:tensorflow:Assets written to: model1\\assets\n"
     ]
    },
    {
     "name": "stderr",
     "output_type": "stream",
     "text": [
      "INFO:tensorflow:Assets written to: model1\\assets\n"
     ]
    },
    {
     "name": "stdout",
     "output_type": "stream",
     "text": [
      "25/25 [==============================] - 3s 111ms/step - loss: 0.0796 - root_mean_squared_error: 0.2821 - val_loss: 0.0155 - val_root_mean_squared_error: 0.1247\n"
     ]
    },
    {
     "data": {
      "text/plain": [
       "<keras.src.callbacks.History at 0x211078f4b50>"
      ]
     },
     "execution_count": 29,
     "metadata": {},
     "output_type": "execute_result"
    }
   ],
   "source": [
    "model1.fit(X_train, y_train, validation_data=(X_val, y_val), epochs=20, callbacks=[cp1])"
   ]
  },
  {
   "cell_type": "code",
   "execution_count": 45,
   "metadata": {},
   "outputs": [
    {
     "name": "stdout",
     "output_type": "stream",
     "text": [
      "Mean of y_train: -0.02871703811218275\n"
     ]
    }
   ],
   "source": [
    "# Calculate the mean\n",
    "mean_y_train = np.mean(y_train)\n",
    "\n",
    "# Print the result\n",
    "print(\"Mean of y_train:\", mean_y_train)"
   ]
  },
  {
   "cell_type": "code",
   "execution_count": 30,
   "metadata": {},
   "outputs": [
    {
     "data": {
      "text/plain": [
       "[<matplotlib.lines.Line2D at 0x2110daeab20>]"
      ]
     },
     "execution_count": 30,
     "metadata": {},
     "output_type": "execute_result"
    },
    {
     "data": {
      "image/png": "[encoded data removed]",
      "text/plain": [
       "<Figure size 640x480 with 1 Axes>"
      ]
     },
     "metadata": {},
     "output_type": "display_data"
    }
   ],
   "source": [
    "import matplotlib.pyplot as plt\n",
    "\n",
    "loss_per_epoch = model1.history.history['loss']\n",
    "plt.plot(range(len(loss_per_epoch)), loss_per_epoch)"
   ]
  },
  {
   "cell_type": "code",
   "execution_count": 31,
   "metadata": {},
   "outputs": [],
   "source": [
    "def postprocess(arr):\n",
    "  arr = (arr*price_training_std) + price_training_mean\n",
    "  return arr.round(3)"
   ]
  },
  {
   "cell_type": "code",
   "execution_count": 32,
   "metadata": {},
   "outputs": [],
   "source": [
    "def get_predictions_postprocessed(model, X, y):\n",
    "  predictions = model.predict(X).flatten()\n",
    "  price_preds = postprocess(predictions)\n",
    "  price_actuals = postprocess(y)\n",
    "  df = pd.DataFrame(data={'Price Predictions': price_preds,\n",
    "                          'Price Actuals':price_actuals,\n",
    "                          })\n",
    "  df.index = indices[-len(predictions):]\n",
    "  return df"
   ]
  },
  {
   "cell_type": "code",
   "execution_count": 33,
   "metadata": {},
   "outputs": [
    {
     "name": "stdout",
     "output_type": "stream",
     "text": [
      "3/3 [==============================] - 0s 7ms/step\n"
     ]
    },
    {
     "data": {
      "text/html": [
       "<div>\n",
       "<style scoped>\n",
       "    .dataframe tbody tr th:only-of-type {\n",
       "        vertical-align: middle;\n",
       "    }\n",
       "\n",
       "    .dataframe tbody tr th {\n",
       "        vertical-align: top;\n",
       "    }\n",
       "\n",
       "    .dataframe thead th {\n",
       "        text-align: right;\n",
       "    }\n",
       "</style>\n",
       "<table border=\"1\" class=\"dataframe\">\n",
       "  <thead>\n",
       "    <tr style=\"text-align: right;\">\n",
       "      <th></th>\n",
       "      <th>Price Predictions</th>\n",
       "      <th>Price Actuals</th>\n",
       "    </tr>\n",
       "    <tr>\n",
       "      <th>date_arrival</th>\n",
       "      <th></th>\n",
       "      <th></th>\n",
       "    </tr>\n",
       "  </thead>\n",
       "  <tbody>\n",
       "    <tr>\n",
       "      <th>2023-07-05</th>\n",
       "      <td>1165.188965</td>\n",
       "      <td>1245.83</td>\n",
       "    </tr>\n",
       "    <tr>\n",
       "      <th>2023-07-06</th>\n",
       "      <td>1185.531006</td>\n",
       "      <td>1291.20</td>\n",
       "    </tr>\n",
       "    <tr>\n",
       "      <th>2023-07-07</th>\n",
       "      <td>1211.011963</td>\n",
       "      <td>1210.60</td>\n",
       "    </tr>\n",
       "    <tr>\n",
       "      <th>2023-07-08</th>\n",
       "      <td>1220.281982</td>\n",
       "      <td>1206.83</td>\n",
       "    </tr>\n",
       "    <tr>\n",
       "      <th>2023-07-09</th>\n",
       "      <td>1227.329956</td>\n",
       "      <td>1252.27</td>\n",
       "    </tr>\n",
       "    <tr>\n",
       "      <th>...</th>\n",
       "      <td>...</td>\n",
       "      <td>...</td>\n",
       "    </tr>\n",
       "    <tr>\n",
       "      <th>2023-09-27</th>\n",
       "      <td>1870.107056</td>\n",
       "      <td>1978.39</td>\n",
       "    </tr>\n",
       "    <tr>\n",
       "      <th>2023-09-28</th>\n",
       "      <td>1893.744995</td>\n",
       "      <td>2104.41</td>\n",
       "    </tr>\n",
       "    <tr>\n",
       "      <th>2023-09-29</th>\n",
       "      <td>1935.022949</td>\n",
       "      <td>1874.30</td>\n",
       "    </tr>\n",
       "    <tr>\n",
       "      <th>2023-09-30</th>\n",
       "      <td>1933.719971</td>\n",
       "      <td>1982.00</td>\n",
       "    </tr>\n",
       "    <tr>\n",
       "      <th>2023-10-01</th>\n",
       "      <td>1947.081055</td>\n",
       "      <td>1840.33</td>\n",
       "    </tr>\n",
       "  </tbody>\n",
       "</table>\n",
       "<p>89 rows × 2 columns</p>\n",
       "</div>"
      ],
      "text/plain": [
       "              Price Predictions  Price Actuals\n",
       "date_arrival                                  \n",
       "2023-07-05          1165.188965        1245.83\n",
       "2023-07-06          1185.531006        1291.20\n",
       "2023-07-07          1211.011963        1210.60\n",
       "2023-07-08          1220.281982        1206.83\n",
       "2023-07-09          1227.329956        1252.27\n",
       "...                         ...            ...\n",
       "2023-09-27          1870.107056        1978.39\n",
       "2023-09-28          1893.744995        2104.41\n",
       "2023-09-29          1935.022949        1874.30\n",
       "2023-09-30          1933.719971        1982.00\n",
       "2023-10-01          1947.081055        1840.33\n",
       "\n",
       "[89 rows x 2 columns]"
      ]
     },
     "execution_count": 33,
     "metadata": {},
     "output_type": "execute_result"
    }
   ],
   "source": [
    "post_processed_df = get_predictions_postprocessed(model1, X_test, y_test)\n",
    "post_processed_df"
   ]
  },
  {
   "cell_type": "code",
   "execution_count": 34,
   "metadata": {},
   "outputs": [
    {
     "data": {
      "image/png": "[encoded data removed]",
      "text/plain": [
       "<Figure size 640x480 with 1 Axes>"
      ]
     },
     "metadata": {},
     "output_type": "display_data"
    }
   ],
   "source": [
    "import matplotlib.pyplot as plt\n",
    "\n",
    "plt.plot(post_processed_df.index, post_processed_df['Price Predictions'], label='Price Predictions')\n",
    "plt.plot(post_processed_df.index, post_processed_df['Price Actuals'], label='Price Actuals')\n",
    "\n",
    "\n",
    "plt.xlabel('Date')\n",
    "plt.ylabel('Price')\n",
    "plt.title('Actual vs Predicted Price Over Time')\n",
    "plt.legend()\n",
    "\n",
    "plt.xticks(rotation=45)\n",
    "plt.tight_layout()\n",
    "plt.show()"
   ]
  },
  {
   "cell_type": "code",
   "execution_count": 35,
   "metadata": {},
   "outputs": [
    {
     "data": {
      "text/html": [
       "<div>\n",
       "<style scoped>\n",
       "    .dataframe tbody tr th:only-of-type {\n",
       "        vertical-align: middle;\n",
       "    }\n",
       "\n",
       "    .dataframe tbody tr th {\n",
       "        vertical-align: top;\n",
       "    }\n",
       "\n",
       "    .dataframe thead th {\n",
       "        text-align: right;\n",
       "    }\n",
       "</style>\n",
       "<table border=\"1\" class=\"dataframe\">\n",
       "  <thead>\n",
       "    <tr style=\"text-align: right;\">\n",
       "      <th></th>\n",
       "      <th>Price Predictions</th>\n",
       "      <th>Price Actuals</th>\n",
       "    </tr>\n",
       "    <tr>\n",
       "      <th>date_arrival</th>\n",
       "      <th></th>\n",
       "      <th></th>\n",
       "    </tr>\n",
       "  </thead>\n",
       "  <tbody>\n",
       "    <tr>\n",
       "      <th>2023-07-05</th>\n",
       "      <td>1165.188965</td>\n",
       "      <td>1245.83</td>\n",
       "    </tr>\n",
       "    <tr>\n",
       "      <th>2023-07-06</th>\n",
       "      <td>1185.531006</td>\n",
       "      <td>1291.20</td>\n",
       "    </tr>\n",
       "    <tr>\n",
       "      <th>2023-07-07</th>\n",
       "      <td>1211.011963</td>\n",
       "      <td>1210.60</td>\n",
       "    </tr>\n",
       "    <tr>\n",
       "      <th>2023-07-08</th>\n",
       "      <td>1220.281982</td>\n",
       "      <td>1206.83</td>\n",
       "    </tr>\n",
       "    <tr>\n",
       "      <th>2023-07-09</th>\n",
       "      <td>1227.329956</td>\n",
       "      <td>1252.27</td>\n",
       "    </tr>\n",
       "    <tr>\n",
       "      <th>...</th>\n",
       "      <td>...</td>\n",
       "      <td>...</td>\n",
       "    </tr>\n",
       "    <tr>\n",
       "      <th>2023-09-27</th>\n",
       "      <td>1870.107056</td>\n",
       "      <td>1978.39</td>\n",
       "    </tr>\n",
       "    <tr>\n",
       "      <th>2023-09-28</th>\n",
       "      <td>1893.744995</td>\n",
       "      <td>2104.41</td>\n",
       "    </tr>\n",
       "    <tr>\n",
       "      <th>2023-09-29</th>\n",
       "      <td>1935.022949</td>\n",
       "      <td>1874.30</td>\n",
       "    </tr>\n",
       "    <tr>\n",
       "      <th>2023-09-30</th>\n",
       "      <td>1933.719971</td>\n",
       "      <td>1982.00</td>\n",
       "    </tr>\n",
       "    <tr>\n",
       "      <th>2023-10-01</th>\n",
       "      <td>1947.081055</td>\n",
       "      <td>1840.33</td>\n",
       "    </tr>\n",
       "  </tbody>\n",
       "</table>\n",
       "<p>89 rows × 2 columns</p>\n",
       "</div>"
      ],
      "text/plain": [
       "              Price Predictions  Price Actuals\n",
       "date_arrival                                  \n",
       "2023-07-05          1165.188965        1245.83\n",
       "2023-07-06          1185.531006        1291.20\n",
       "2023-07-07          1211.011963        1210.60\n",
       "2023-07-08          1220.281982        1206.83\n",
       "2023-07-09          1227.329956        1252.27\n",
       "...                         ...            ...\n",
       "2023-09-27          1870.107056        1978.39\n",
       "2023-09-28          1893.744995        2104.41\n",
       "2023-09-29          1935.022949        1874.30\n",
       "2023-09-30          1933.719971        1982.00\n",
       "2023-10-01          1947.081055        1840.33\n",
       "\n",
       "[89 rows x 2 columns]"
      ]
     },
     "execution_count": 35,
     "metadata": {},
     "output_type": "execute_result"
    }
   ],
   "source": [
    "post_processed_df"
   ]
  },
  {
   "cell_type": "code",
   "execution_count": 36,
   "metadata": {},
   "outputs": [
    {
     "name": "stdout",
     "output_type": "stream",
     "text": [
      "31/31 [==============================] - 0s 10ms/step\n"
     ]
    },
    {
     "data": {
      "text/html": [
       "<div>\n",
       "<style scoped>\n",
       "    .dataframe tbody tr th:only-of-type {\n",
       "        vertical-align: middle;\n",
       "    }\n",
       "\n",
       "    .dataframe tbody tr th {\n",
       "        vertical-align: top;\n",
       "    }\n",
       "\n",
       "    .dataframe thead th {\n",
       "        text-align: right;\n",
       "    }\n",
       "</style>\n",
       "<table border=\"1\" class=\"dataframe\">\n",
       "  <thead>\n",
       "    <tr style=\"text-align: right;\">\n",
       "      <th></th>\n",
       "      <th>Price Predictions</th>\n",
       "      <th>Price Actuals</th>\n",
       "    </tr>\n",
       "    <tr>\n",
       "      <th>date_arrival</th>\n",
       "      <th></th>\n",
       "      <th></th>\n",
       "    </tr>\n",
       "  </thead>\n",
       "  <tbody>\n",
       "    <tr>\n",
       "      <th>2021-01-16</th>\n",
       "      <td>2378.502930</td>\n",
       "      <td>2394.59</td>\n",
       "    </tr>\n",
       "    <tr>\n",
       "      <th>2021-01-17</th>\n",
       "      <td>2379.053955</td>\n",
       "      <td>2298.81</td>\n",
       "    </tr>\n",
       "    <tr>\n",
       "      <th>2021-01-18</th>\n",
       "      <td>2359.157959</td>\n",
       "      <td>2324.69</td>\n",
       "    </tr>\n",
       "    <tr>\n",
       "      <th>2021-01-19</th>\n",
       "      <td>2344.875977</td>\n",
       "      <td>2490.36</td>\n",
       "    </tr>\n",
       "    <tr>\n",
       "      <th>2021-01-20</th>\n",
       "      <td>2366.097900</td>\n",
       "      <td>2469.96</td>\n",
       "    </tr>\n",
       "    <tr>\n",
       "      <th>...</th>\n",
       "      <td>...</td>\n",
       "      <td>...</td>\n",
       "    </tr>\n",
       "    <tr>\n",
       "      <th>2023-09-27</th>\n",
       "      <td>1870.107056</td>\n",
       "      <td>1978.39</td>\n",
       "    </tr>\n",
       "    <tr>\n",
       "      <th>2023-09-28</th>\n",
       "      <td>1893.744995</td>\n",
       "      <td>2104.41</td>\n",
       "    </tr>\n",
       "    <tr>\n",
       "      <th>2023-09-29</th>\n",
       "      <td>1935.022949</td>\n",
       "      <td>1874.30</td>\n",
       "    </tr>\n",
       "    <tr>\n",
       "      <th>2023-09-30</th>\n",
       "      <td>1933.719971</td>\n",
       "      <td>1982.00</td>\n",
       "    </tr>\n",
       "    <tr>\n",
       "      <th>2023-10-01</th>\n",
       "      <td>1947.081055</td>\n",
       "      <td>1840.33</td>\n",
       "    </tr>\n",
       "  </tbody>\n",
       "</table>\n",
       "<p>989 rows × 2 columns</p>\n",
       "</div>"
      ],
      "text/plain": [
       "              Price Predictions  Price Actuals\n",
       "date_arrival                                  \n",
       "2021-01-16          2378.502930        2394.59\n",
       "2021-01-17          2379.053955        2298.81\n",
       "2021-01-18          2359.157959        2324.69\n",
       "2021-01-19          2344.875977        2490.36\n",
       "2021-01-20          2366.097900        2469.96\n",
       "...                         ...            ...\n",
       "2023-09-27          1870.107056        1978.39\n",
       "2023-09-28          1893.744995        2104.41\n",
       "2023-09-29          1935.022949        1874.30\n",
       "2023-09-30          1933.719971        1982.00\n",
       "2023-10-01          1947.081055        1840.33\n",
       "\n",
       "[989 rows x 2 columns]"
      ]
     },
     "execution_count": 36,
     "metadata": {},
     "output_type": "execute_result"
    }
   ],
   "source": [
    "#Full data points\n",
    "post_processed_fulldf = get_predictions_postprocessed(model1, X, y)\n",
    "post_processed_fulldf"
   ]
  },
  {
   "cell_type": "code",
   "execution_count": 37,
   "metadata": {},
   "outputs": [
    {
     "data": {
      "image/png": "[encoded data removed]",
      "text/plain": [
       "<Figure size 640x480 with 1 Axes>"
      ]
     },
     "metadata": {},
     "output_type": "display_data"
    }
   ],
   "source": [
    "import matplotlib.pyplot as plt\n",
    "\n",
    "plt.plot(post_processed_fulldf.index, post_processed_fulldf['Price Predictions'], label='Price Predictions')\n",
    "plt.plot(post_processed_fulldf.index, post_processed_fulldf['Price Actuals'], label='Price Actuals')\n",
    "\n",
    "\n",
    "plt.xlabel('Date')\n",
    "plt.ylabel('Price')\n",
    "plt.title('Actual vs Predicted Price Over Time')\n",
    "plt.legend()\n",
    "\n",
    "plt.xticks(rotation=45)\n",
    "plt.tight_layout()\n",
    "plt.show()"
   ]
  },
  {
   "cell_type": "code",
   "execution_count": 41,
   "metadata": {},
   "outputs": [
    {
     "name": "stdout",
     "output_type": "stream",
     "text": [
      "1/1 [==============================] - 0s 41ms/step\n",
      "1/1 [==============================] - 0s 53ms/step\n",
      "1/1 [==============================] - 0s 35ms/step\n",
      "1/1 [==============================] - 0s 32ms/step\n",
      "1/1 [==============================] - 0s 28ms/step\n",
      "1/1 [==============================] - 0s 27ms/step\n",
      "1/1 [==============================] - 0s 33ms/step\n",
      "1/1 [==============================] - 0s 59ms/step\n",
      "1/1 [==============================] - 0s 39ms/step\n",
      "1/1 [==============================] - 0s 34ms/step\n",
      "1/1 [==============================] - 0s 104ms/step\n",
      "1/1 [==============================] - 0s 38ms/step\n",
      "1/1 [==============================] - 0s 46ms/step\n",
      "1/1 [==============================] - 0s 37ms/step\n",
      "1/1 [==============================] - 0s 26ms/step\n",
      "1/1 [==============================] - 0s 27ms/step\n",
      "1/1 [==============================] - 0s 30ms/step\n",
      "1/1 [==============================] - 0s 33ms/step\n",
      "1/1 [==============================] - 0s 32ms/step\n",
      "1/1 [==============================] - 0s 33ms/step\n",
      "1/1 [==============================] - 0s 46ms/step\n",
      "1/1 [==============================] - 0s 27ms/step\n",
      "1/1 [==============================] - 0s 33ms/step\n",
      "1/1 [==============================] - 0s 27ms/step\n",
      "1/1 [==============================] - 0s 27ms/step\n",
      "1/1 [==============================] - 0s 25ms/step\n",
      "1/1 [==============================] - 0s 28ms/step\n",
      "1/1 [==============================] - 0s 39ms/step\n",
      "1/1 [==============================] - 0s 26ms/step\n",
      "1/1 [==============================] - 0s 26ms/step\n",
      "1/1 [==============================] - 0s 43ms/step\n",
      "1/1 [==============================] - 0s 29ms/step\n",
      "1/1 [==============================] - 0s 45ms/step\n",
      "1/1 [==============================] - 0s 33ms/step\n",
      "1/1 [==============================] - 0s 43ms/step\n",
      "1/1 [==============================] - 0s 39ms/step\n",
      "1/1 [==============================] - 0s 50ms/step\n",
      "1/1 [==============================] - 0s 41ms/step\n",
      "1/1 [==============================] - 0s 44ms/step\n",
      "1/1 [==============================] - 0s 45ms/step\n",
      "1/1 [==============================] - 0s 31ms/step\n",
      "1/1 [==============================] - 0s 32ms/step\n",
      "1/1 [==============================] - 0s 32ms/step\n",
      "1/1 [==============================] - 0s 36ms/step\n",
      "1/1 [==============================] - 0s 52ms/step\n",
      "1/1 [==============================] - 0s 38ms/step\n",
      "1/1 [==============================] - 0s 26ms/step\n",
      "1/1 [==============================] - 0s 29ms/step\n",
      "1/1 [==============================] - 0s 31ms/step\n",
      "1/1 [==============================] - 0s 30ms/step\n",
      "1/1 [==============================] - 0s 34ms/step\n",
      "1/1 [==============================] - 0s 30ms/step\n",
      "1/1 [==============================] - 0s 37ms/step\n",
      "1/1 [==============================] - 0s 47ms/step\n",
      "1/1 [==============================] - 0s 24ms/step\n",
      "1/1 [==============================] - 0s 27ms/step\n",
      "1/1 [==============================] - 0s 30ms/step\n",
      "1/1 [==============================] - 0s 27ms/step\n",
      "1/1 [==============================] - 0s 27ms/step\n",
      "1/1 [==============================] - 0s 43ms/step\n",
      "1/1 [==============================] - 0s 56ms/step\n",
      "1/1 [==============================] - 0s 34ms/step\n",
      "1/1 [==============================] - 0s 32ms/step\n",
      "1/1 [==============================] - 0s 38ms/step\n",
      "1/1 [==============================] - 0s 35ms/step\n",
      "1/1 [==============================] - 0s 30ms/step\n",
      "1/1 [==============================] - 0s 37ms/step\n",
      "1/1 [==============================] - 0s 40ms/step\n",
      "1/1 [==============================] - 0s 28ms/step\n",
      "1/1 [==============================] - 0s 30ms/step\n",
      "1/1 [==============================] - 0s 33ms/step\n",
      "1/1 [==============================] - 0s 33ms/step\n",
      "1/1 [==============================] - 0s 31ms/step\n",
      "1/1 [==============================] - 0s 27ms/step\n",
      "1/1 [==============================] - 0s 63ms/step\n",
      "1/1 [==============================] - 0s 33ms/step\n",
      "1/1 [==============================] - 0s 26ms/step\n",
      "1/1 [==============================] - 0s 38ms/step\n",
      "1/1 [==============================] - 0s 70ms/step\n",
      "1/1 [==============================] - 0s 61ms/step\n",
      "1/1 [==============================] - 0s 29ms/step\n",
      "1/1 [==============================] - 0s 35ms/step\n",
      "1/1 [==============================] - 0s 27ms/step\n",
      "1/1 [==============================] - 0s 29ms/step\n",
      "1/1 [==============================] - 0s 32ms/step\n",
      "1/1 [==============================] - 0s 27ms/step\n",
      "1/1 [==============================] - 0s 31ms/step\n",
      "1/1 [==============================] - 0s 41ms/step\n",
      "1/1 [==============================] - 0s 28ms/step\n",
      "1/1 [==============================] - 0s 25ms/step\n",
      "                 Date  Forecasted_Modal_Price\n",
      "Date                                         \n",
      "2023-10-02 2023-10-02             1933.505981\n",
      "2023-10-03 2023-10-03             1935.147949\n",
      "2023-10-04 2023-10-04             1935.963989\n",
      "2023-10-05 2023-10-05             1936.410034\n",
      "2023-10-06 2023-10-06             1936.286987\n",
      "...               ...                     ...\n",
      "2023-12-26 2023-12-26             2030.995972\n",
      "2023-12-27 2023-12-27             2031.915039\n",
      "2023-12-28 2023-12-28             2032.829956\n",
      "2023-12-29 2023-12-29             2033.739990\n",
      "2023-12-30 2023-12-30             2034.645996\n",
      "\n",
      "[90 rows x 2 columns]\n"
     ]
    }
   ],
   "source": [
    "import numpy as np\n",
    "\n",
    "# Define the number of days to forecast\n",
    "forecast_days = 90\n",
    "\n",
    "# Initialize an empty array to store forecasted prices\n",
    "forecasted_prices = []\n",
    "\n",
    "# Get the last n_input days from your test data as the initial input\n",
    "current_batch = y[-WINDOW_SIZE:].reshape((1, WINDOW_SIZE, 1))\n",
    "\n",
    "# Make predictions for the next 30 days\n",
    "for _ in range(forecast_days):\n",
    "    # Predict the next day's prices\n",
    "    current_pred = model1.predict(current_batch)[0]\n",
    "    \n",
    "    # Append the prediction to the forecasted_prices array\n",
    "    forecasted_prices.append(current_pred)\n",
    "    \n",
    "    # Update the current_batch with the predicted values\n",
    "    current_batch = np.append(current_batch[:, 1:, :], [[current_pred]], axis=1)\n",
    "\n",
    "# Convert the list of NumPy arrays to a single NumPy array\n",
    "forecasted_prices = np.array(forecasted_prices)\n",
    "# Inverse transform the forecasted prices to get the actual values\n",
    "forecasted_prices = postprocess(forecasted_prices)\n",
    "\n",
    "# Create a date range for the next 30 days\n",
    "from datetime import timedelta\n",
    "last_date = post_processed_fulldf.index[-1]\n",
    "forecast_dates = [last_date + timedelta(days=i) for i in range(1, forecast_days+1)]\n",
    "\n",
    "# Create a DataFrame to store the forecasted prices\n",
    "forecast_df = pd.DataFrame({\n",
    "    'Date': forecast_dates,\n",
    "    'Forecasted_Modal_Price':  forecasted_prices[:, 0]  # Assuming the third column is MODAL Price\n",
    "})\n",
    "\n",
    "forecast_df.index = pd.to_datetime(forecast_df['Date'], format = '%Y-%m-%d')\n",
    "\n",
    "# Print or use forecast_df as needed\n",
    "print(forecast_df)"
   ]
  },
  {
   "cell_type": "code",
   "execution_count": 48,
   "metadata": {},
   "outputs": [
    {
     "data": {
      "text/html": [
       "<div>\n",
       "<style scoped>\n",
       "    .dataframe tbody tr th:only-of-type {\n",
       "        vertical-align: middle;\n",
       "    }\n",
       "\n",
       "    .dataframe tbody tr th {\n",
       "        vertical-align: top;\n",
       "    }\n",
       "\n",
       "    .dataframe thead th {\n",
       "        text-align: right;\n",
       "    }\n",
       "</style>\n",
       "<table border=\"1\" class=\"dataframe\">\n",
       "  <thead>\n",
       "    <tr style=\"text-align: right;\">\n",
       "      <th></th>\n",
       "      <th>Date</th>\n",
       "      <th>Forecasted_Modal_Price</th>\n",
       "    </tr>\n",
       "    <tr>\n",
       "      <th>Date</th>\n",
       "      <th></th>\n",
       "      <th></th>\n",
       "    </tr>\n",
       "  </thead>\n",
       "  <tbody>\n",
       "    <tr>\n",
       "      <th>2023-10-02</th>\n",
       "      <td>2023-10-02</td>\n",
       "      <td>1933.505981</td>\n",
       "    </tr>\n",
       "    <tr>\n",
       "      <th>2023-10-03</th>\n",
       "      <td>2023-10-03</td>\n",
       "      <td>1935.147949</td>\n",
       "    </tr>\n",
       "    <tr>\n",
       "      <th>2023-10-04</th>\n",
       "      <td>2023-10-04</td>\n",
       "      <td>1935.963989</td>\n",
       "    </tr>\n",
       "    <tr>\n",
       "      <th>2023-10-05</th>\n",
       "      <td>2023-10-05</td>\n",
       "      <td>1936.410034</td>\n",
       "    </tr>\n",
       "    <tr>\n",
       "      <th>2023-10-06</th>\n",
       "      <td>2023-10-06</td>\n",
       "      <td>1936.286987</td>\n",
       "    </tr>\n",
       "  </tbody>\n",
       "</table>\n",
       "</div>"
      ],
      "text/plain": [
       "                 Date  Forecasted_Modal_Price\n",
       "Date                                         \n",
       "2023-10-02 2023-10-02             1933.505981\n",
       "2023-10-03 2023-10-03             1935.147949\n",
       "2023-10-04 2023-10-04             1935.963989\n",
       "2023-10-05 2023-10-05             1936.410034\n",
       "2023-10-06 2023-10-06             1936.286987"
      ]
     },
     "metadata": {},
     "output_type": "display_data"
    }
   ],
   "source": [
    "with pd.option_context(\"display.max_columns\", None, \"display.max_rows\", None):\n",
    "    display(forecast_df.head())"
   ]
  },
  {
   "cell_type": "code",
   "execution_count": 43,
   "metadata": {},
   "outputs": [
    {
     "data": {
      "image/png": "[encoded data removed]",
      "text/plain": [
       "<Figure size 640x480 with 1 Axes>"
      ]
     },
     "metadata": {},
     "output_type": "display_data"
    }
   ],
   "source": [
    "import matplotlib.pyplot as plt\n",
    "\n",
    "plt.plot(forecast_df.index, forecast_df['Forecasted_Modal_Price'], label='Forecasted')\n",
    "plt.plot(post_processed_fulldf.index, post_processed_fulldf['Price Actuals'], label='Historical')\n",
    "\n",
    "\n",
    "plt.xlabel('Date')\n",
    "plt.ylabel('Price')\n",
    "plt.title('Actual vs Predicted Price Over Time')\n",
    "plt.legend()\n",
    "\n",
    "plt.xticks(rotation=45)\n",
    "plt.tight_layout()\n",
    "plt.show()"
   ]
  },
  {
   "cell_type": "code",
   "execution_count": 49,
   "metadata": {},
   "outputs": [],
   "source": [
    "file_url = r'C:\\Users\\imaja\\OneDrive\\Desktop\\MBA 2022 -2024\\T5\\MLA2\\ETE\\forecast.csv'\n",
    "\n",
    "forecast_df.to_csv(file_url, index=False)"
   ]
  }
 ],
 "metadata": {
  "kernelspec": {
   "display_name": "Python 3",
   "language": "python",
   "name": "python3"
  },
  "language_info": {
   "codemirror_mode": {
    "name": "ipython",
    "version": 3
   },
   "file_extension": ".py",
   "mimetype": "text/x-python",
   "name": "python",
   "nbconvert_exporter": "python",
   "pygments_lexer": "ipython3",
   "version": "3.9.0"
  },
  "orig_nbformat": 4
 },
 "nbformat": 4,
 "nbformat_minor": 2
}
