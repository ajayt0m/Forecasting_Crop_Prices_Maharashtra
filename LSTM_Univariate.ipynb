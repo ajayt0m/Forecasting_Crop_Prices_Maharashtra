{
 "cells": [
  {
   "cell_type": "code",
   "execution_count": 2,
   "metadata": {},
   "outputs": [],
   "source": [
    "import pandas as pd\n",
    "\n",
    "file_url = 'https://raw.githubusercontent.com/ajayt0m/Forecasting_Crop_Prices_Maharashtra/main/onion_daily_cleaned.csv'\n",
    "\n",
    "onion_df = pd.read_csv(file_url)"
   ]
  },
  {
   "cell_type": "code",
   "execution_count": 3,
   "metadata": {},
   "outputs": [],
   "source": [
    "#Set index as date\n",
    "onion_df.index  = pd.to_datetime(onion_df['date_arrival'], format = '%Y-%m-%d')"
   ]
  },
  {
   "cell_type": "code",
   "execution_count": 4,
   "metadata": {},
   "outputs": [],
   "source": [
    "onion_df['date_arrival'] = pd.to_datetime(onion_df['date_arrival'], format = '%Y-%m-%d')"
   ]
  },
  {
   "cell_type": "code",
   "execution_count": 5,
   "metadata": {},
   "outputs": [
    {
     "data": {
      "text/html": [
       "<div>\n",
       "<style scoped>\n",
       "    .dataframe tbody tr th:only-of-type {\n",
       "        vertical-align: middle;\n",
       "    }\n",
       "\n",
       "    .dataframe tbody tr th {\n",
       "        vertical-align: top;\n",
       "    }\n",
       "\n",
       "    .dataframe thead th {\n",
       "        text-align: right;\n",
       "    }\n",
       "</style>\n",
       "<table border=\"1\" class=\"dataframe\">\n",
       "  <thead>\n",
       "    <tr style=\"text-align: right;\">\n",
       "      <th></th>\n",
       "      <th>date_arrival</th>\n",
       "      <th>MIN</th>\n",
       "      <th>MAX</th>\n",
       "      <th>MODAL</th>\n",
       "      <th>Arrival</th>\n",
       "    </tr>\n",
       "    <tr>\n",
       "      <th>date_arrival</th>\n",
       "      <th></th>\n",
       "      <th></th>\n",
       "      <th></th>\n",
       "      <th></th>\n",
       "      <th></th>\n",
       "    </tr>\n",
       "  </thead>\n",
       "  <tbody>\n",
       "    <tr>\n",
       "      <th>2021-01-01</th>\n",
       "      <td>2021-01-01</td>\n",
       "      <td>865.15</td>\n",
       "      <td>2706.88</td>\n",
       "      <td>2060.60</td>\n",
       "      <td>11575.0</td>\n",
       "    </tr>\n",
       "    <tr>\n",
       "      <th>2021-01-02</th>\n",
       "      <td>2021-01-02</td>\n",
       "      <td>1105.07</td>\n",
       "      <td>2720.16</td>\n",
       "      <td>2181.84</td>\n",
       "      <td>15560.0</td>\n",
       "    </tr>\n",
       "    <tr>\n",
       "      <th>2021-01-03</th>\n",
       "      <td>2021-01-03</td>\n",
       "      <td>1129.41</td>\n",
       "      <td>2741.47</td>\n",
       "      <td>2141.18</td>\n",
       "      <td>3954.0</td>\n",
       "    </tr>\n",
       "    <tr>\n",
       "      <th>2021-01-04</th>\n",
       "      <td>2021-01-04</td>\n",
       "      <td>967.31</td>\n",
       "      <td>2754.16</td>\n",
       "      <td>2167.55</td>\n",
       "      <td>21441.0</td>\n",
       "    </tr>\n",
       "    <tr>\n",
       "      <th>2021-01-05</th>\n",
       "      <td>2021-01-05</td>\n",
       "      <td>1188.84</td>\n",
       "      <td>2793.71</td>\n",
       "      <td>2275.47</td>\n",
       "      <td>21526.0</td>\n",
       "    </tr>\n",
       "    <tr>\n",
       "      <th>2021-01-06</th>\n",
       "      <td>2021-01-06</td>\n",
       "      <td>1335.29</td>\n",
       "      <td>2698.00</td>\n",
       "      <td>2242.65</td>\n",
       "      <td>7103.0</td>\n",
       "    </tr>\n",
       "    <tr>\n",
       "      <th>2021-01-07</th>\n",
       "      <td>2021-01-07</td>\n",
       "      <td>1335.29</td>\n",
       "      <td>2698.00</td>\n",
       "      <td>2242.65</td>\n",
       "      <td>7103.0</td>\n",
       "    </tr>\n",
       "    <tr>\n",
       "      <th>2021-01-08</th>\n",
       "      <td>2021-01-08</td>\n",
       "      <td>1335.29</td>\n",
       "      <td>2698.00</td>\n",
       "      <td>2242.65</td>\n",
       "      <td>7103.0</td>\n",
       "    </tr>\n",
       "    <tr>\n",
       "      <th>2021-01-09</th>\n",
       "      <td>2021-01-09</td>\n",
       "      <td>1160.00</td>\n",
       "      <td>3223.00</td>\n",
       "      <td>2832.40</td>\n",
       "      <td>3389.0</td>\n",
       "    </tr>\n",
       "    <tr>\n",
       "      <th>2021-01-10</th>\n",
       "      <td>2021-01-10</td>\n",
       "      <td>633.33</td>\n",
       "      <td>3366.67</td>\n",
       "      <td>2375.00</td>\n",
       "      <td>394.0</td>\n",
       "    </tr>\n",
       "  </tbody>\n",
       "</table>\n",
       "</div>"
      ],
      "text/plain": [
       "             date_arrival      MIN      MAX    MODAL  Arrival\n",
       "date_arrival                                                 \n",
       "2021-01-01     2021-01-01   865.15  2706.88  2060.60  11575.0\n",
       "2021-01-02     2021-01-02  1105.07  2720.16  2181.84  15560.0\n",
       "2021-01-03     2021-01-03  1129.41  2741.47  2141.18   3954.0\n",
       "2021-01-04     2021-01-04   967.31  2754.16  2167.55  21441.0\n",
       "2021-01-05     2021-01-05  1188.84  2793.71  2275.47  21526.0\n",
       "2021-01-06     2021-01-06  1335.29  2698.00  2242.65   7103.0\n",
       "2021-01-07     2021-01-07  1335.29  2698.00  2242.65   7103.0\n",
       "2021-01-08     2021-01-08  1335.29  2698.00  2242.65   7103.0\n",
       "2021-01-09     2021-01-09  1160.00  3223.00  2832.40   3389.0\n",
       "2021-01-10     2021-01-10   633.33  3366.67  2375.00    394.0"
      ]
     },
     "metadata": {},
     "output_type": "display_data"
    }
   ],
   "source": [
    "with pd.option_context(\"display.max_columns\", None, \"display.max_rows\", None):\n",
    "    display(onion_df.head(10))"
   ]
  },
  {
   "cell_type": "code",
   "execution_count": 6,
   "metadata": {},
   "outputs": [
    {
     "name": "stdout",
     "output_type": "stream",
     "text": [
      "<class 'pandas.core.frame.DataFrame'>\n",
      "DatetimeIndex: 1004 entries, 2021-01-01 to 2023-10-01\n",
      "Data columns (total 5 columns):\n",
      " #   Column        Non-Null Count  Dtype         \n",
      "---  ------        --------------  -----         \n",
      " 0   date_arrival  1004 non-null   datetime64[ns]\n",
      " 1   MIN           1004 non-null   float64       \n",
      " 2   MAX           1004 non-null   float64       \n",
      " 3   MODAL         1004 non-null   float64       \n",
      " 4   Arrival       1004 non-null   float64       \n",
      "dtypes: datetime64[ns](1), float64(4)\n",
      "memory usage: 47.1 KB\n"
     ]
    }
   ],
   "source": [
    "onion_df.info()"
   ]
  },
  {
   "cell_type": "code",
   "execution_count": 7,
   "metadata": {},
   "outputs": [
    {
     "data": {
      "text/plain": [
       "<AxesSubplot: xlabel='date_arrival'>"
      ]
     },
     "execution_count": 7,
     "metadata": {},
     "output_type": "execute_result"
    },
    {
     "data": {
      "image/png": "[encoded data removed]",
      "text/plain": [
       "<Figure size 640x480 with 1 Axes>"
      ]
     },
     "metadata": {},
     "output_type": "display_data"
    }
   ],
   "source": [
    "price = onion_df['MODAL']\n",
    "price.plot()"
   ]
  },
  {
   "cell_type": "code",
   "execution_count": 8,
   "metadata": {},
   "outputs": [
    {
     "data": {
      "text/plain": [
       "date_arrival\n",
       "2021-01-01    2060.60\n",
       "2021-01-02    2181.84\n",
       "2021-01-03    2141.18\n",
       "2021-01-04    2167.55\n",
       "2021-01-05    2275.47\n",
       "2021-01-06    2242.65\n",
       "2021-01-07    2242.65\n",
       "2021-01-08    2242.65\n",
       "2021-01-09    2832.40\n",
       "2021-01-10    2375.00\n",
       "Name: MODAL, dtype: float64"
      ]
     },
     "metadata": {},
     "output_type": "display_data"
    }
   ],
   "source": [
    "with pd.option_context(\"display.max_columns\", None, \"display.max_rows\", None):\n",
    "    display(price.head(10))"
   ]
  },
  {
   "cell_type": "code",
   "execution_count": 9,
   "metadata": {},
   "outputs": [],
   "source": [
    "import numpy as np\n",
    "\n",
    "def df_to_X_y(df, window_size=5):\n",
    "  indices = df.index\n",
    "  df_as_np = df.to_numpy()\n",
    "  X = []\n",
    "  y = []\n",
    "  for i in range(len(df_as_np)-window_size):\n",
    "    row = [[a] for a in df_as_np[i:i+window_size]]\n",
    "    X.append(row)\n",
    "    label = df_as_np[i+window_size]\n",
    "    y.append(label)\n",
    "  return np.array(X), np.array(y), indices"
   ]
  },
  {
   "cell_type": "code",
   "execution_count": 10,
   "metadata": {},
   "outputs": [
    {
     "data": {
      "text/plain": [
       "((989, 15, 1), (989,))"
      ]
     },
     "execution_count": 10,
     "metadata": {},
     "output_type": "execute_result"
    }
   ],
   "source": [
    "WINDOW_SIZE = 15\n",
    "X, y, indices  = df_to_X_y(price, WINDOW_SIZE)\n",
    "X.shape, y.shape"
   ]
  },
  {
   "cell_type": "code",
   "execution_count": 184,
   "metadata": {},
   "outputs": [
    {
     "data": {
      "text/plain": [
       "array([[[2060.6 ],\n",
       "        [2181.84],\n",
       "        [2141.18],\n",
       "        ...,\n",
       "        [2076.5 ],\n",
       "        [2319.16],\n",
       "        [2391.25]],\n",
       "\n",
       "       [[2181.84],\n",
       "        [2141.18],\n",
       "        [2167.55],\n",
       "        ...,\n",
       "        [2319.16],\n",
       "        [2391.25],\n",
       "        [2394.59]],\n",
       "\n",
       "       [[2141.18],\n",
       "        [2167.55],\n",
       "        [2275.47],\n",
       "        ...,\n",
       "        [2391.25],\n",
       "        [2394.59],\n",
       "        [2298.81]],\n",
       "\n",
       "       ...,\n",
       "\n",
       "       [[1738.89],\n",
       "        [1765.26],\n",
       "        [1811.44],\n",
       "        ...,\n",
       "        [1878.12],\n",
       "        [1978.39],\n",
       "        [2104.41]],\n",
       "\n",
       "       [[1765.26],\n",
       "        [1811.44],\n",
       "        [1678.89],\n",
       "        ...,\n",
       "        [1978.39],\n",
       "        [2104.41],\n",
       "        [1874.3 ]],\n",
       "\n",
       "       [[1811.44],\n",
       "        [1678.89],\n",
       "        [1819.26],\n",
       "        ...,\n",
       "        [2104.41],\n",
       "        [1874.3 ],\n",
       "        [1982.  ]]])"
      ]
     },
     "execution_count": 184,
     "metadata": {},
     "output_type": "execute_result"
    }
   ],
   "source": [
    "X"
   ]
  },
  {
   "cell_type": "code",
   "execution_count": 11,
   "metadata": {},
   "outputs": [
    {
     "data": {
      "text/plain": [
       "((800, 15, 1), (800,), (100, 15, 1), (100,), (89, 15, 1), (89,))"
      ]
     },
     "execution_count": 11,
     "metadata": {},
     "output_type": "execute_result"
    }
   ],
   "source": [
    "X_train, y_train = X[:800], y[:800]\n",
    "X_val, y_val = X[800:900], y[800:900]\n",
    "X_test, y_test = X[900:], y[900:]\n",
    "X_train.shape, y_train.shape, X_val.shape, y_val.shape, X_test.shape, y_test.shape"
   ]
  },
  {
   "cell_type": "code",
   "execution_count": 186,
   "metadata": {},
   "outputs": [
    {
     "data": {
      "text/plain": [
       "array([1245.83, 1291.2 , 1210.6 , 1206.83, 1252.27, 1108.48, 1195.57,\n",
       "       1171.26, 1185.87, 1143.76, 1148.9 , 1326.93, 1149.9 , 1256.03,\n",
       "       1202.81, 1212.54, 1414.06, 1129.23, 1248.93, 1162.05, 1166.28,\n",
       "       1184.36, 1191.72, 1204.6 , 1162.71, 1304.72, 1184.25, 1256.28,\n",
       "       1261.52, 1306.15, 1535.75, 1373.94, 1406.93, 1521.04, 1535.14,\n",
       "       1526.87, 1629.05, 1765.82, 1803.41, 1866.24, 1940.02, 1598.5 ,\n",
       "       1846.82, 1901.62, 1858.09, 1802.04, 1750.25, 1840.98, 1831.78,\n",
       "       1861.85, 1817.04, 1862.65, 1826.  , 1788.54, 1810.16, 1906.7 ,\n",
       "       1725.  , 1837.94, 1828.39, 1957.6 , 1820.24, 1889.37, 1898.  ,\n",
       "       1926.74, 1929.74, 1819.7 , 1851.77, 1762.44, 1850.85, 1820.98,\n",
       "       1843.26, 1738.89, 1765.26, 1811.44, 1678.89, 1819.26, 1818.48,\n",
       "       1821.37, 1801.32, 1785.52, 1840.66, 1968.27, 1912.86, 1878.12,\n",
       "       1978.39, 2104.41, 1874.3 , 1982.  , 1840.33])"
      ]
     },
     "execution_count": 186,
     "metadata": {},
     "output_type": "execute_result"
    }
   ],
   "source": [
    "y_test"
   ]
  },
  {
   "cell_type": "code",
   "execution_count": 12,
   "metadata": {},
   "outputs": [],
   "source": [
    "price_training_mean = np.mean(X_train[:, :, 0]).round(2)\n",
    "price_training_std = np.std(X_train[:, :, 0]).round(2)\n",
    "\n",
    "def preprocess(X):\n",
    "  X[:, :, 0] = (X[:, :, 0] - price_training_mean) / price_training_std\n",
    "  return X"
   ]
  },
  {
   "cell_type": "code",
   "execution_count": 188,
   "metadata": {},
   "outputs": [
    {
     "data": {
      "text/plain": [
       "1463.23"
      ]
     },
     "execution_count": 188,
     "metadata": {},
     "output_type": "execute_result"
    }
   ],
   "source": [
    "price_training_mean"
   ]
  },
  {
   "cell_type": "code",
   "execution_count": 13,
   "metadata": {},
   "outputs": [
    {
     "data": {
      "text/plain": [
       "array([[[-1.01822268],\n",
       "        [-1.05914411],\n",
       "        [-1.00206012],\n",
       "        ...,\n",
       "        [-0.44358086],\n",
       "        [-0.58649686],\n",
       "        [-0.43391703]],\n",
       "\n",
       "       [[-1.05914411],\n",
       "        [-1.00206012],\n",
       "        [-1.00129226],\n",
       "        ...,\n",
       "        [-0.58649686],\n",
       "        [-0.43391703],\n",
       "        [-0.40715423]],\n",
       "\n",
       "       [[-1.00206012],\n",
       "        [-1.00129226],\n",
       "        [-1.05045416],\n",
       "        ...,\n",
       "        [-0.43391703],\n",
       "        [-0.40715423],\n",
       "        [-0.32218373]],\n",
       "\n",
       "       ...,\n",
       "\n",
       "       [[ 0.51626557],\n",
       "        [ 0.56565221],\n",
       "        [ 0.65213971],\n",
       "        ...,\n",
       "        [ 0.77702032],\n",
       "        [ 0.96480944],\n",
       "        [ 1.20082405]],\n",
       "\n",
       "       [[ 0.56565221],\n",
       "        [ 0.65213971],\n",
       "        [ 0.4038955 ],\n",
       "        ...,\n",
       "        [ 0.96480944],\n",
       "        [ 1.20082405],\n",
       "        [ 0.76986609]],\n",
       "\n",
       "       [[ 0.65213971],\n",
       "        [ 0.4038955 ],\n",
       "        [ 0.66678528],\n",
       "        ...,\n",
       "        [ 1.20082405],\n",
       "        [ 0.76986609],\n",
       "        [ 0.97157037]]])"
      ]
     },
     "execution_count": 13,
     "metadata": {},
     "output_type": "execute_result"
    }
   ],
   "source": [
    "preprocess(X_train)\n",
    "preprocess(X_val)\n",
    "preprocess(X_test)"
   ]
  },
  {
   "cell_type": "code",
   "execution_count": 14,
   "metadata": {},
   "outputs": [],
   "source": [
    "def preprocess_output(y):\n",
    "  y[:,] = (y[:,] - price_training_mean) / price_training_std \n",
    "  return y"
   ]
  },
  {
   "cell_type": "code",
   "execution_count": 15,
   "metadata": {},
   "outputs": [
    {
     "data": {
      "text/plain": [
       "array([-0.40715423, -0.32218373, -0.47313419, -0.48019477, -0.39509317,\n",
       "       -0.66438805, -0.50128289, -0.5468115 , -0.51944939, -0.59831445,\n",
       "       -0.58868808, -0.25526735, -0.58681524, -0.38805132, -0.48772357,\n",
       "       -0.46950089, -0.09208727, -0.62552673, -0.40134844, -0.56406031,\n",
       "       -0.55613822, -0.52227737, -0.5084933 , -0.4843712 , -0.56282423,\n",
       "       -0.296863  , -0.52248338, -0.38758311, -0.37776945, -0.29418485,\n",
       "        0.13581796, -0.1672254 , -0.10544058,  0.10826856,  0.13467553,\n",
       "        0.11918719,  0.31055342,  0.566701  ,  0.63710085,  0.75477105,\n",
       "        0.89294878,  0.25333833,  0.7184006 ,  0.82103193,  0.73950744,\n",
       "        0.63453507,  0.53754097,  0.70746325,  0.69023317,  0.7465493 ,\n",
       "        0.66262759,  0.74804757,  0.67940818,  0.6092518 ,  0.64974249,\n",
       "        0.83054593,  0.4902519 ,  0.70176983,  0.68388426,  0.92587321,\n",
       "        0.66862066,  0.79808971,  0.81425227,  0.86807754,  0.87369604,\n",
       "        0.66760933,  0.72767113,  0.56037082,  0.72594812,  0.67000655,\n",
       "        0.71173331,  0.51626557,  0.56565221,  0.65213971,  0.4038955 ,\n",
       "        0.66678528,  0.66532447,  0.67073696,  0.63318663,  0.60359584,\n",
       "        0.70686394,  0.94585635,  0.84208259,  0.77702032,  0.96480944,\n",
       "        1.20082405,  0.76986609,  0.97157037,  0.7062459 ])"
      ]
     },
     "execution_count": 15,
     "metadata": {},
     "output_type": "execute_result"
    }
   ],
   "source": [
    "preprocess_output(y_train)\n",
    "preprocess_output(y_val)\n",
    "preprocess_output(y_test)"
   ]
  },
  {
   "cell_type": "code",
   "execution_count": 16,
   "metadata": {},
   "outputs": [
    {
     "name": "stdout",
     "output_type": "stream",
     "text": [
      "Model: \"sequential\"\n",
      "_________________________________________________________________\n",
      " Layer (type)                Output Shape              Param #   \n",
      "=================================================================\n",
      " lstm (LSTM)                 (None, 136)               75072     \n",
      "                                                                 \n",
      " dense (Dense)               (None, 1)                 137       \n",
      "                                                                 \n",
      "=================================================================\n",
      "Total params: 75209 (293.79 KB)\n",
      "Trainable params: 75209 (293.79 KB)\n",
      "Non-trainable params: 0 (0.00 Byte)\n",
      "_________________________________________________________________\n"
     ]
    }
   ],
   "source": [
    "from tensorflow.keras.models import Sequential\n",
    "from tensorflow.keras.layers import *\n",
    "from tensorflow.keras.callbacks import ModelCheckpoint\n",
    "from tensorflow.keras.losses import MeanSquaredError\n",
    "from tensorflow.keras.metrics import RootMeanSquaredError\n",
    "from tensorflow.keras.optimizers import Adam\n",
    "\n",
    "model1 = Sequential()\n",
    "model1.add(InputLayer((15, 1)))\n",
    "model1.add(LSTM(136, activation='relu'))\n",
    "model1.add(Dense(1))\n",
    "\n",
    "model1.summary()"
   ]
  },
  {
   "cell_type": "code",
   "execution_count": 17,
   "metadata": {},
   "outputs": [],
   "source": [
    "cp1 = ModelCheckpoint('model1/', save_best_only=True)\n",
    "model1.compile(loss=MeanSquaredError(), optimizer=Adam(learning_rate=0.0001), metrics=[RootMeanSquaredError()])"
   ]
  },
  {
   "cell_type": "code",
   "execution_count": 18,
   "metadata": {},
   "outputs": [
    {
     "name": "stdout",
     "output_type": "stream",
     "text": [
      "Epoch 1/20\n",
      "24/25 [===========================>..] - ETA: 0s - loss: 0.9208 - root_mean_squared_error: 0.9596INFO:tensorflow:Assets written to: model1\\assets\n"
     ]
    },
    {
     "name": "stderr",
     "output_type": "stream",
     "text": [
      "INFO:tensorflow:Assets written to: model1\\assets\n"
     ]
    },
    {
     "name": "stdout",
     "output_type": "stream",
     "text": [
      "25/25 [==============================] - 4s 103ms/step - loss: 0.9202 - root_mean_squared_error: 0.9593 - val_loss: 1.3979 - val_root_mean_squared_error: 1.1823\n",
      "Epoch 2/20\n",
      "24/25 [===========================>..] - ETA: 0s - loss: 0.7757 - root_mean_squared_error: 0.8807INFO:tensorflow:Assets written to: model1\\assets\n"
     ]
    },
    {
     "name": "stderr",
     "output_type": "stream",
     "text": [
      "INFO:tensorflow:Assets written to: model1\\assets\n"
     ]
    },
    {
     "name": "stdout",
     "output_type": "stream",
     "text": [
      "25/25 [==============================] - 2s 65ms/step - loss: 0.7559 - root_mean_squared_error: 0.8694 - val_loss: 1.0179 - val_root_mean_squared_error: 1.0089\n",
      "Epoch 3/20\n",
      "23/25 [==========================>...] - ETA: 0s - loss: 0.5784 - root_mean_squared_error: 0.7605INFO:tensorflow:Assets written to: model1\\assets\n"
     ]
    },
    {
     "name": "stderr",
     "output_type": "stream",
     "text": [
      "INFO:tensorflow:Assets written to: model1\\assets\n"
     ]
    },
    {
     "name": "stdout",
     "output_type": "stream",
     "text": [
      "25/25 [==============================] - 2s 62ms/step - loss: 0.5712 - root_mean_squared_error: 0.7558 - val_loss: 0.5893 - val_root_mean_squared_error: 0.7677\n",
      "Epoch 4/20\n",
      "22/25 [=========================>....] - ETA: 0s - loss: 0.3700 - root_mean_squared_error: 0.6083INFO:tensorflow:Assets written to: model1\\assets\n"
     ]
    },
    {
     "name": "stderr",
     "output_type": "stream",
     "text": [
      "INFO:tensorflow:Assets written to: model1\\assets\n"
     ]
    },
    {
     "name": "stdout",
     "output_type": "stream",
     "text": [
      "25/25 [==============================] - 2s 66ms/step - loss: 0.3589 - root_mean_squared_error: 0.5991 - val_loss: 0.1379 - val_root_mean_squared_error: 0.3713\n",
      "Epoch 5/20\n",
      "25/25 [==============================] - ETA: 0s - loss: 0.1952 - root_mean_squared_error: 0.4419INFO:tensorflow:Assets written to: model1\\assets\n"
     ]
    },
    {
     "name": "stderr",
     "output_type": "stream",
     "text": [
      "INFO:tensorflow:Assets written to: model1\\assets\n"
     ]
    },
    {
     "name": "stdout",
     "output_type": "stream",
     "text": [
      "25/25 [==============================] - 2s 64ms/step - loss: 0.1952 - root_mean_squared_error: 0.4419 - val_loss: 0.0854 - val_root_mean_squared_error: 0.2922\n",
      "Epoch 6/20\n",
      "25/25 [==============================] - ETA: 0s - loss: 0.1612 - root_mean_squared_error: 0.4015INFO:tensorflow:Assets written to: model1\\assets\n"
     ]
    },
    {
     "name": "stderr",
     "output_type": "stream",
     "text": [
      "INFO:tensorflow:Assets written to: model1\\assets\n"
     ]
    },
    {
     "name": "stdout",
     "output_type": "stream",
     "text": [
      "25/25 [==============================] - 2s 64ms/step - loss: 0.1612 - root_mean_squared_error: 0.4015 - val_loss: 0.0288 - val_root_mean_squared_error: 0.1697\n",
      "Epoch 7/20\n",
      "25/25 [==============================] - 0s 12ms/step - loss: 0.1416 - root_mean_squared_error: 0.3762 - val_loss: 0.0487 - val_root_mean_squared_error: 0.2206\n",
      "Epoch 8/20\n",
      "25/25 [==============================] - 0s 14ms/step - loss: 0.1245 - root_mean_squared_error: 0.3529 - val_loss: 0.0425 - val_root_mean_squared_error: 0.2062\n",
      "Epoch 9/20\n",
      "20/25 [=======================>......] - ETA: 0s - loss: 0.1119 - root_mean_squared_error: 0.3345INFO:tensorflow:Assets written to: model1\\assets\n"
     ]
    },
    {
     "name": "stderr",
     "output_type": "stream",
     "text": [
      "INFO:tensorflow:Assets written to: model1\\assets\n"
     ]
    },
    {
     "name": "stdout",
     "output_type": "stream",
     "text": [
      "25/25 [==============================] - 2s 72ms/step - loss: 0.1150 - root_mean_squared_error: 0.3391 - val_loss: 0.0244 - val_root_mean_squared_error: 0.1563\n",
      "Epoch 10/20\n",
      "25/25 [==============================] - 0s 13ms/step - loss: 0.1084 - root_mean_squared_error: 0.3293 - val_loss: 0.0277 - val_root_mean_squared_error: 0.1664\n",
      "Epoch 11/20\n",
      "25/25 [==============================] - 0s 11ms/step - loss: 0.1025 - root_mean_squared_error: 0.3202 - val_loss: 0.0454 - val_root_mean_squared_error: 0.2130\n",
      "Epoch 12/20\n",
      "25/25 [==============================] - ETA: 0s - loss: 0.0972 - root_mean_squared_error: 0.3118INFO:tensorflow:Assets written to: model1\\assets\n"
     ]
    },
    {
     "name": "stderr",
     "output_type": "stream",
     "text": [
      "INFO:tensorflow:Assets written to: model1\\assets\n"
     ]
    },
    {
     "name": "stdout",
     "output_type": "stream",
     "text": [
      "25/25 [==============================] - 2s 63ms/step - loss: 0.0972 - root_mean_squared_error: 0.3118 - val_loss: 0.0210 - val_root_mean_squared_error: 0.1450\n",
      "Epoch 13/20\n",
      "25/25 [==============================] - 0s 13ms/step - loss: 0.0941 - root_mean_squared_error: 0.3068 - val_loss: 0.0408 - val_root_mean_squared_error: 0.2019\n",
      "Epoch 14/20\n",
      "25/25 [==============================] - 1s 25ms/step - loss: 0.0914 - root_mean_squared_error: 0.3023 - val_loss: 0.0269 - val_root_mean_squared_error: 0.1641\n",
      "Epoch 15/20\n",
      "25/25 [==============================] - 0s 17ms/step - loss: 0.0886 - root_mean_squared_error: 0.2976 - val_loss: 0.0252 - val_root_mean_squared_error: 0.1589\n",
      "Epoch 16/20\n",
      "25/25 [==============================] - 0s 14ms/step - loss: 0.0868 - root_mean_squared_error: 0.2947 - val_loss: 0.0263 - val_root_mean_squared_error: 0.1622\n",
      "Epoch 17/20\n",
      "25/25 [==============================] - 0s 15ms/step - loss: 0.0850 - root_mean_squared_error: 0.2915 - val_loss: 0.0245 - val_root_mean_squared_error: 0.1566\n",
      "Epoch 18/20\n",
      "25/25 [==============================] - 0s 19ms/step - loss: 0.0829 - root_mean_squared_error: 0.2879 - val_loss: 0.0217 - val_root_mean_squared_error: 0.1472\n",
      "Epoch 19/20\n",
      "21/25 [========================>.....] - ETA: 0s - loss: 0.0815 - root_mean_squared_error: 0.2854INFO:tensorflow:Assets written to: model1\\assets\n"
     ]
    },
    {
     "name": "stderr",
     "output_type": "stream",
     "text": [
      "INFO:tensorflow:Assets written to: model1\\assets\n"
     ]
    },
    {
     "name": "stdout",
     "output_type": "stream",
     "text": [
      "25/25 [==============================] - 3s 116ms/step - loss: 0.0834 - root_mean_squared_error: 0.2888 - val_loss: 0.0198 - val_root_mean_squared_error: 0.1407\n",
      "Epoch 20/20\n",
      "25/25 [==============================] - 1s 27ms/step - loss: 0.0815 - root_mean_squared_error: 0.2855 - val_loss: 0.0274 - val_root_mean_squared_error: 0.1657\n"
     ]
    },
    {
     "data": {
      "text/plain": [
       "<keras.src.callbacks.History at 0x1426fe3fa90>"
      ]
     },
     "execution_count": 18,
     "metadata": {},
     "output_type": "execute_result"
    }
   ],
   "source": [
    "model1.fit(X_train, y_train, validation_data=(X_val, y_val), epochs=20, callbacks=[cp1])"
   ]
  },
  {
   "cell_type": "code",
   "execution_count": 19,
   "metadata": {},
   "outputs": [
    {
     "data": {
      "text/plain": [
       "[<matplotlib.lines.Line2D at 0x14273200b80>]"
      ]
     },
     "execution_count": 19,
     "metadata": {},
     "output_type": "execute_result"
    },
    {
     "data": {
      "image/png": "[encoded data removed]",
      "text/plain": [
       "<Figure size 640x480 with 1 Axes>"
      ]
     },
     "metadata": {},
     "output_type": "display_data"
    }
   ],
   "source": [
    "import matplotlib.pyplot as plt\n",
    "\n",
    "loss_per_epoch = model1.history.history['loss']\n",
    "plt.plot(range(len(loss_per_epoch)), loss_per_epoch)"
   ]
  },
  {
   "cell_type": "code",
   "execution_count": 20,
   "metadata": {},
   "outputs": [],
   "source": [
    "def postprocess(arr):\n",
    "  arr = (arr*price_training_std) + price_training_mean\n",
    "  return arr.round(3)"
   ]
  },
  {
   "cell_type": "code",
   "execution_count": 21,
   "metadata": {},
   "outputs": [],
   "source": [
    "def get_predictions_postprocessed(model, X, y):\n",
    "  predictions = model.predict(X).flatten()\n",
    "  price_preds = postprocess(predictions)\n",
    "  price_actuals = postprocess(y)\n",
    "  df = pd.DataFrame(data={'Price Predictions': price_preds,\n",
    "                          'Price Actuals':price_actuals,\n",
    "                          })\n",
    "  df.index = indices[-len(predictions):]\n",
    "  return df"
   ]
  },
  {
   "cell_type": "code",
   "execution_count": 22,
   "metadata": {},
   "outputs": [
    {
     "name": "stdout",
     "output_type": "stream",
     "text": [
      "3/3 [==============================] - 0s 27ms/step\n"
     ]
    },
    {
     "data": {
      "text/html": [
       "<div>\n",
       "<style scoped>\n",
       "    .dataframe tbody tr th:only-of-type {\n",
       "        vertical-align: middle;\n",
       "    }\n",
       "\n",
       "    .dataframe tbody tr th {\n",
       "        vertical-align: top;\n",
       "    }\n",
       "\n",
       "    .dataframe thead th {\n",
       "        text-align: right;\n",
       "    }\n",
       "</style>\n",
       "<table border=\"1\" class=\"dataframe\">\n",
       "  <thead>\n",
       "    <tr style=\"text-align: right;\">\n",
       "      <th></th>\n",
       "      <th>Price Predictions</th>\n",
       "      <th>Price Actuals</th>\n",
       "    </tr>\n",
       "    <tr>\n",
       "      <th>date_arrival</th>\n",
       "      <th></th>\n",
       "      <th></th>\n",
       "    </tr>\n",
       "  </thead>\n",
       "  <tbody>\n",
       "    <tr>\n",
       "      <th>2023-07-05</th>\n",
       "      <td>1132.446045</td>\n",
       "      <td>1245.83</td>\n",
       "    </tr>\n",
       "    <tr>\n",
       "      <th>2023-07-06</th>\n",
       "      <td>1154.281006</td>\n",
       "      <td>1291.20</td>\n",
       "    </tr>\n",
       "    <tr>\n",
       "      <th>2023-07-07</th>\n",
       "      <td>1181.333008</td>\n",
       "      <td>1210.60</td>\n",
       "    </tr>\n",
       "    <tr>\n",
       "      <th>2023-07-08</th>\n",
       "      <td>1192.737061</td>\n",
       "      <td>1206.83</td>\n",
       "    </tr>\n",
       "    <tr>\n",
       "      <th>2023-07-09</th>\n",
       "      <td>1202.250000</td>\n",
       "      <td>1252.27</td>\n",
       "    </tr>\n",
       "    <tr>\n",
       "      <th>...</th>\n",
       "      <td>...</td>\n",
       "      <td>...</td>\n",
       "    </tr>\n",
       "    <tr>\n",
       "      <th>2023-09-27</th>\n",
       "      <td>1832.712036</td>\n",
       "      <td>1978.39</td>\n",
       "    </tr>\n",
       "    <tr>\n",
       "      <th>2023-09-28</th>\n",
       "      <td>1855.900024</td>\n",
       "      <td>2104.41</td>\n",
       "    </tr>\n",
       "    <tr>\n",
       "      <th>2023-09-29</th>\n",
       "      <td>1896.379028</td>\n",
       "      <td>1874.30</td>\n",
       "    </tr>\n",
       "    <tr>\n",
       "      <th>2023-09-30</th>\n",
       "      <td>1895.170044</td>\n",
       "      <td>1982.00</td>\n",
       "    </tr>\n",
       "    <tr>\n",
       "      <th>2023-10-01</th>\n",
       "      <td>1908.214966</td>\n",
       "      <td>1840.33</td>\n",
       "    </tr>\n",
       "  </tbody>\n",
       "</table>\n",
       "<p>89 rows × 2 columns</p>\n",
       "</div>"
      ],
      "text/plain": [
       "              Price Predictions  Price Actuals\n",
       "date_arrival                                  \n",
       "2023-07-05          1132.446045        1245.83\n",
       "2023-07-06          1154.281006        1291.20\n",
       "2023-07-07          1181.333008        1210.60\n",
       "2023-07-08          1192.737061        1206.83\n",
       "2023-07-09          1202.250000        1252.27\n",
       "...                         ...            ...\n",
       "2023-09-27          1832.712036        1978.39\n",
       "2023-09-28          1855.900024        2104.41\n",
       "2023-09-29          1896.379028        1874.30\n",
       "2023-09-30          1895.170044        1982.00\n",
       "2023-10-01          1908.214966        1840.33\n",
       "\n",
       "[89 rows x 2 columns]"
      ]
     },
     "execution_count": 22,
     "metadata": {},
     "output_type": "execute_result"
    }
   ],
   "source": [
    "post_processed_df = get_predictions_postprocessed(model1, X_test, y_test)\n",
    "post_processed_df"
   ]
  },
  {
   "cell_type": "code",
   "execution_count": 23,
   "metadata": {},
   "outputs": [
    {
     "data": {
      "image/png": "[encoded data removed]",
      "text/plain": [
       "<Figure size 640x480 with 1 Axes>"
      ]
     },
     "metadata": {},
     "output_type": "display_data"
    }
   ],
   "source": [
    "import matplotlib.pyplot as plt\n",
    "\n",
    "plt.plot(post_processed_df.index, post_processed_df['Price Predictions'], label='Price Predictions')\n",
    "plt.plot(post_processed_df.index, post_processed_df['Price Actuals'], label='Price Actuals')\n",
    "\n",
    "\n",
    "plt.xlabel('Date')\n",
    "plt.ylabel('Price')\n",
    "plt.title('Actual vs Predicted Price Over Time')\n",
    "plt.legend()\n",
    "\n",
    "plt.xticks(rotation=45)\n",
    "plt.tight_layout()\n",
    "plt.show()"
   ]
  },
  {
   "cell_type": "code",
   "execution_count": 228,
   "metadata": {},
   "outputs": [
    {
     "data": {
      "text/html": [
       "<div>\n",
       "<style scoped>\n",
       "    .dataframe tbody tr th:only-of-type {\n",
       "        vertical-align: middle;\n",
       "    }\n",
       "\n",
       "    .dataframe tbody tr th {\n",
       "        vertical-align: top;\n",
       "    }\n",
       "\n",
       "    .dataframe thead th {\n",
       "        text-align: right;\n",
       "    }\n",
       "</style>\n",
       "<table border=\"1\" class=\"dataframe\">\n",
       "  <thead>\n",
       "    <tr style=\"text-align: right;\">\n",
       "      <th></th>\n",
       "      <th>Price Predictions</th>\n",
       "      <th>Price Actuals</th>\n",
       "    </tr>\n",
       "    <tr>\n",
       "      <th>date_arrival</th>\n",
       "      <th></th>\n",
       "      <th></th>\n",
       "    </tr>\n",
       "  </thead>\n",
       "  <tbody>\n",
       "    <tr>\n",
       "      <th>2023-07-05</th>\n",
       "      <td>1153.147949</td>\n",
       "      <td>1245.83</td>\n",
       "    </tr>\n",
       "    <tr>\n",
       "      <th>2023-07-06</th>\n",
       "      <td>1174.400024</td>\n",
       "      <td>1291.20</td>\n",
       "    </tr>\n",
       "    <tr>\n",
       "      <th>2023-07-07</th>\n",
       "      <td>1200.522949</td>\n",
       "      <td>1210.60</td>\n",
       "    </tr>\n",
       "    <tr>\n",
       "      <th>2023-07-08</th>\n",
       "      <td>1211.248047</td>\n",
       "      <td>1206.83</td>\n",
       "    </tr>\n",
       "    <tr>\n",
       "      <th>2023-07-09</th>\n",
       "      <td>1219.847046</td>\n",
       "      <td>1252.27</td>\n",
       "    </tr>\n",
       "    <tr>\n",
       "      <th>...</th>\n",
       "      <td>...</td>\n",
       "      <td>...</td>\n",
       "    </tr>\n",
       "    <tr>\n",
       "      <th>2023-09-27</th>\n",
       "      <td>1849.995972</td>\n",
       "      <td>1978.39</td>\n",
       "    </tr>\n",
       "    <tr>\n",
       "      <th>2023-09-28</th>\n",
       "      <td>1872.343018</td>\n",
       "      <td>2104.41</td>\n",
       "    </tr>\n",
       "    <tr>\n",
       "      <th>2023-09-29</th>\n",
       "      <td>1911.366943</td>\n",
       "      <td>1874.30</td>\n",
       "    </tr>\n",
       "    <tr>\n",
       "      <th>2023-09-30</th>\n",
       "      <td>1909.586060</td>\n",
       "      <td>1982.00</td>\n",
       "    </tr>\n",
       "    <tr>\n",
       "      <th>2023-10-01</th>\n",
       "      <td>1922.128052</td>\n",
       "      <td>1840.33</td>\n",
       "    </tr>\n",
       "  </tbody>\n",
       "</table>\n",
       "<p>89 rows × 2 columns</p>\n",
       "</div>"
      ],
      "text/plain": [
       "              Price Predictions  Price Actuals\n",
       "date_arrival                                  \n",
       "2023-07-05          1153.147949        1245.83\n",
       "2023-07-06          1174.400024        1291.20\n",
       "2023-07-07          1200.522949        1210.60\n",
       "2023-07-08          1211.248047        1206.83\n",
       "2023-07-09          1219.847046        1252.27\n",
       "...                         ...            ...\n",
       "2023-09-27          1849.995972        1978.39\n",
       "2023-09-28          1872.343018        2104.41\n",
       "2023-09-29          1911.366943        1874.30\n",
       "2023-09-30          1909.586060        1982.00\n",
       "2023-10-01          1922.128052        1840.33\n",
       "\n",
       "[89 rows x 2 columns]"
      ]
     },
     "execution_count": 228,
     "metadata": {},
     "output_type": "execute_result"
    }
   ],
   "source": [
    "post_processed_df"
   ]
  },
  {
   "cell_type": "code",
   "execution_count": 24,
   "metadata": {},
   "outputs": [
    {
     "name": "stdout",
     "output_type": "stream",
     "text": [
      "31/31 [==============================] - 0s 5ms/step\n"
     ]
    },
    {
     "data": {
      "text/html": [
       "<div>\n",
       "<style scoped>\n",
       "    .dataframe tbody tr th:only-of-type {\n",
       "        vertical-align: middle;\n",
       "    }\n",
       "\n",
       "    .dataframe tbody tr th {\n",
       "        vertical-align: top;\n",
       "    }\n",
       "\n",
       "    .dataframe thead th {\n",
       "        text-align: right;\n",
       "    }\n",
       "</style>\n",
       "<table border=\"1\" class=\"dataframe\">\n",
       "  <thead>\n",
       "    <tr style=\"text-align: right;\">\n",
       "      <th></th>\n",
       "      <th>Price Predictions</th>\n",
       "      <th>Price Actuals</th>\n",
       "    </tr>\n",
       "    <tr>\n",
       "      <th>date_arrival</th>\n",
       "      <th></th>\n",
       "      <th></th>\n",
       "    </tr>\n",
       "  </thead>\n",
       "  <tbody>\n",
       "    <tr>\n",
       "      <th>2021-01-16</th>\n",
       "      <td>2318.930908</td>\n",
       "      <td>2394.59</td>\n",
       "    </tr>\n",
       "    <tr>\n",
       "      <th>2021-01-17</th>\n",
       "      <td>2316.322998</td>\n",
       "      <td>2298.81</td>\n",
       "    </tr>\n",
       "    <tr>\n",
       "      <th>2021-01-18</th>\n",
       "      <td>2294.836914</td>\n",
       "      <td>2324.69</td>\n",
       "    </tr>\n",
       "    <tr>\n",
       "      <th>2021-01-19</th>\n",
       "      <td>2280.652100</td>\n",
       "      <td>2490.36</td>\n",
       "    </tr>\n",
       "    <tr>\n",
       "      <th>2021-01-20</th>\n",
       "      <td>2302.927002</td>\n",
       "      <td>2469.96</td>\n",
       "    </tr>\n",
       "    <tr>\n",
       "      <th>...</th>\n",
       "      <td>...</td>\n",
       "      <td>...</td>\n",
       "    </tr>\n",
       "    <tr>\n",
       "      <th>2023-09-27</th>\n",
       "      <td>1832.712036</td>\n",
       "      <td>1978.39</td>\n",
       "    </tr>\n",
       "    <tr>\n",
       "      <th>2023-09-28</th>\n",
       "      <td>1855.900024</td>\n",
       "      <td>2104.41</td>\n",
       "    </tr>\n",
       "    <tr>\n",
       "      <th>2023-09-29</th>\n",
       "      <td>1896.379028</td>\n",
       "      <td>1874.30</td>\n",
       "    </tr>\n",
       "    <tr>\n",
       "      <th>2023-09-30</th>\n",
       "      <td>1895.170044</td>\n",
       "      <td>1982.00</td>\n",
       "    </tr>\n",
       "    <tr>\n",
       "      <th>2023-10-01</th>\n",
       "      <td>1908.214966</td>\n",
       "      <td>1840.33</td>\n",
       "    </tr>\n",
       "  </tbody>\n",
       "</table>\n",
       "<p>989 rows × 2 columns</p>\n",
       "</div>"
      ],
      "text/plain": [
       "              Price Predictions  Price Actuals\n",
       "date_arrival                                  \n",
       "2021-01-16          2318.930908        2394.59\n",
       "2021-01-17          2316.322998        2298.81\n",
       "2021-01-18          2294.836914        2324.69\n",
       "2021-01-19          2280.652100        2490.36\n",
       "2021-01-20          2302.927002        2469.96\n",
       "...                         ...            ...\n",
       "2023-09-27          1832.712036        1978.39\n",
       "2023-09-28          1855.900024        2104.41\n",
       "2023-09-29          1896.379028        1874.30\n",
       "2023-09-30          1895.170044        1982.00\n",
       "2023-10-01          1908.214966        1840.33\n",
       "\n",
       "[989 rows x 2 columns]"
      ]
     },
     "execution_count": 24,
     "metadata": {},
     "output_type": "execute_result"
    }
   ],
   "source": [
    "#Full data points\n",
    "post_processed_fulldf = get_predictions_postprocessed(model1, X, y)\n",
    "post_processed_fulldf"
   ]
  },
  {
   "cell_type": "code",
   "execution_count": 25,
   "metadata": {},
   "outputs": [
    {
     "data": {
      "image/png": "[encoded data removed]",
      "text/plain": [
       "<Figure size 640x480 with 1 Axes>"
      ]
     },
     "metadata": {},
     "output_type": "display_data"
    }
   ],
   "source": [
    "import matplotlib.pyplot as plt\n",
    "\n",
    "plt.plot(post_processed_fulldf.index, post_processed_fulldf['Price Predictions'], label='Price Predictions')\n",
    "plt.plot(post_processed_fulldf.index, post_processed_fulldf['Price Actuals'], label='Price Actuals')\n",
    "\n",
    "\n",
    "plt.xlabel('Date')\n",
    "plt.ylabel('Price')\n",
    "plt.title('Actual vs Predicted Price Over Time')\n",
    "plt.legend()\n",
    "\n",
    "plt.xticks(rotation=45)\n",
    "plt.tight_layout()\n",
    "plt.show()"
   ]
  },
  {
   "cell_type": "code",
   "execution_count": 26,
   "metadata": {},
   "outputs": [
    {
     "name": "stdout",
     "output_type": "stream",
     "text": [
      "1/1 [==============================] - 0s 28ms/step\n",
      "1/1 [==============================] - 0s 24ms/step\n",
      "1/1 [==============================] - 0s 25ms/step\n",
      "1/1 [==============================] - 0s 21ms/step\n",
      "1/1 [==============================] - 0s 27ms/step\n",
      "1/1 [==============================] - 0s 41ms/step\n",
      "1/1 [==============================] - 0s 32ms/step\n",
      "1/1 [==============================] - 0s 22ms/step\n",
      "1/1 [==============================] - 0s 22ms/step\n",
      "1/1 [==============================] - 0s 64ms/step\n",
      "1/1 [==============================] - 0s 49ms/step\n",
      "1/1 [==============================] - 0s 29ms/step\n",
      "1/1 [==============================] - 0s 38ms/step\n",
      "1/1 [==============================] - 0s 70ms/step\n",
      "1/1 [==============================] - 0s 28ms/step\n",
      "1/1 [==============================] - 0s 26ms/step\n",
      "1/1 [==============================] - 0s 43ms/step\n",
      "1/1 [==============================] - 0s 64ms/step\n",
      "1/1 [==============================] - 0s 40ms/step\n",
      "1/1 [==============================] - 0s 33ms/step\n",
      "1/1 [==============================] - 0s 44ms/step\n",
      "1/1 [==============================] - 0s 33ms/step\n",
      "1/1 [==============================] - 0s 26ms/step\n",
      "1/1 [==============================] - 0s 21ms/step\n",
      "1/1 [==============================] - 0s 26ms/step\n",
      "1/1 [==============================] - 0s 32ms/step\n",
      "1/1 [==============================] - 0s 29ms/step\n",
      "1/1 [==============================] - 0s 25ms/step\n",
      "1/1 [==============================] - 0s 21ms/step\n",
      "1/1 [==============================] - 0s 24ms/step\n",
      "1/1 [==============================] - 0s 26ms/step\n",
      "1/1 [==============================] - 0s 24ms/step\n",
      "1/1 [==============================] - 0s 21ms/step\n",
      "1/1 [==============================] - 0s 21ms/step\n",
      "1/1 [==============================] - 0s 21ms/step\n",
      "1/1 [==============================] - 0s 23ms/step\n",
      "1/1 [==============================] - 0s 25ms/step\n",
      "1/1 [==============================] - 0s 26ms/step\n",
      "1/1 [==============================] - 0s 24ms/step\n",
      "1/1 [==============================] - 0s 22ms/step\n",
      "1/1 [==============================] - 0s 25ms/step\n",
      "1/1 [==============================] - 0s 32ms/step\n",
      "1/1 [==============================] - 0s 40ms/step\n",
      "1/1 [==============================] - 0s 57ms/step\n",
      "1/1 [==============================] - 0s 35ms/step\n",
      "1/1 [==============================] - 0s 34ms/step\n",
      "1/1 [==============================] - 0s 23ms/step\n",
      "1/1 [==============================] - 0s 21ms/step\n",
      "1/1 [==============================] - 0s 22ms/step\n",
      "1/1 [==============================] - 0s 27ms/step\n",
      "1/1 [==============================] - 0s 21ms/step\n",
      "1/1 [==============================] - 0s 26ms/step\n",
      "1/1 [==============================] - 0s 27ms/step\n",
      "1/1 [==============================] - 0s 29ms/step\n",
      "1/1 [==============================] - 0s 30ms/step\n",
      "1/1 [==============================] - 0s 26ms/step\n",
      "1/1 [==============================] - 0s 33ms/step\n",
      "1/1 [==============================] - 0s 21ms/step\n",
      "1/1 [==============================] - 0s 26ms/step\n",
      "1/1 [==============================] - 0s 29ms/step\n",
      "1/1 [==============================] - 0s 22ms/step\n",
      "1/1 [==============================] - 0s 26ms/step\n",
      "1/1 [==============================] - 0s 24ms/step\n",
      "1/1 [==============================] - 0s 21ms/step\n",
      "1/1 [==============================] - 0s 22ms/step\n",
      "1/1 [==============================] - 0s 25ms/step\n",
      "1/1 [==============================] - 0s 21ms/step\n",
      "1/1 [==============================] - 0s 25ms/step\n",
      "1/1 [==============================] - 0s 34ms/step\n",
      "1/1 [==============================] - 0s 27ms/step\n",
      "1/1 [==============================] - 0s 20ms/step\n",
      "1/1 [==============================] - 0s 22ms/step\n",
      "1/1 [==============================] - 0s 22ms/step\n",
      "1/1 [==============================] - 0s 20ms/step\n",
      "1/1 [==============================] - 0s 22ms/step\n",
      "1/1 [==============================] - 0s 22ms/step\n",
      "1/1 [==============================] - 0s 34ms/step\n",
      "1/1 [==============================] - 0s 45ms/step\n",
      "1/1 [==============================] - 0s 30ms/step\n",
      "1/1 [==============================] - 0s 23ms/step\n",
      "1/1 [==============================] - 0s 24ms/step\n",
      "1/1 [==============================] - 0s 22ms/step\n",
      "1/1 [==============================] - 0s 23ms/step\n",
      "1/1 [==============================] - 0s 18ms/step\n",
      "1/1 [==============================] - 0s 22ms/step\n",
      "1/1 [==============================] - 0s 22ms/step\n",
      "1/1 [==============================] - 0s 23ms/step\n",
      "1/1 [==============================] - 0s 24ms/step\n",
      "1/1 [==============================] - 0s 21ms/step\n",
      "1/1 [==============================] - 0s 30ms/step\n",
      "                 Date  Forecasted_Modal_Price\n",
      "Date                                         \n",
      "2023-10-02 2023-10-02             1894.765991\n",
      "2023-10-03 2023-10-03             1889.647949\n",
      "2023-10-04 2023-10-04             1882.131958\n",
      "2023-10-05 2023-10-05             1873.468994\n",
      "2023-10-06 2023-10-06             1864.480957\n",
      "...               ...                     ...\n",
      "2023-12-26 2023-12-26             1613.208008\n",
      "2023-12-27 2023-12-27             1612.308960\n",
      "2023-12-28 2023-12-28             1611.430054\n",
      "2023-12-29 2023-12-29             1610.569946\n",
      "2023-12-30 2023-12-30             1609.729004\n",
      "\n",
      "[90 rows x 2 columns]\n"
     ]
    }
   ],
   "source": [
    "import numpy as np\n",
    "\n",
    "# Define the number of days to forecast\n",
    "forecast_days = 90\n",
    "\n",
    "# Initialize an empty array to store forecasted prices\n",
    "forecasted_prices = []\n",
    "\n",
    "# Get the last n_input days from your test data as the initial input\n",
    "current_batch = y[-WINDOW_SIZE:].reshape((1, WINDOW_SIZE, 1))\n",
    "\n",
    "# Make predictions for the next 30 days\n",
    "for _ in range(forecast_days):\n",
    "    # Predict the next day's prices\n",
    "    current_pred = model1.predict(current_batch)[0]\n",
    "    \n",
    "    # Append the prediction to the forecasted_prices array\n",
    "    forecasted_prices.append(current_pred)\n",
    "    \n",
    "    # Update the current_batch with the predicted values\n",
    "    current_batch = np.append(current_batch[:, 1:, :], [[current_pred]], axis=1)\n",
    "\n",
    "# Convert the list of NumPy arrays to a single NumPy array\n",
    "forecasted_prices = np.array(forecasted_prices)\n",
    "# Inverse transform the forecasted prices to get the actual values\n",
    "forecasted_prices = postprocess(forecasted_prices)\n",
    "\n",
    "# Create a date range for the next 30 days\n",
    "from datetime import timedelta\n",
    "last_date = post_processed_fulldf.index[-1]\n",
    "forecast_dates = [last_date + timedelta(days=i) for i in range(1, forecast_days+1)]\n",
    "\n",
    "# Create a DataFrame to store the forecasted prices\n",
    "forecast_df = pd.DataFrame({\n",
    "    'Date': forecast_dates,\n",
    "    'Forecasted_Modal_Price':  forecasted_prices[:, 0]  # Assuming the third column is MODAL Price\n",
    "})\n",
    "\n",
    "forecast_df.index = pd.to_datetime(forecast_df['Date'], format = '%Y-%m-%d')\n",
    "\n",
    "# Print or use forecast_df as needed\n",
    "print(forecast_df)"
   ]
  },
  {
   "cell_type": "code",
   "execution_count": 27,
   "metadata": {},
   "outputs": [
    {
     "data": {
      "text/html": [
       "<div>\n",
       "<style scoped>\n",
       "    .dataframe tbody tr th:only-of-type {\n",
       "        vertical-align: middle;\n",
       "    }\n",
       "\n",
       "    .dataframe tbody tr th {\n",
       "        vertical-align: top;\n",
       "    }\n",
       "\n",
       "    .dataframe thead th {\n",
       "        text-align: right;\n",
       "    }\n",
       "</style>\n",
       "<table border=\"1\" class=\"dataframe\">\n",
       "  <thead>\n",
       "    <tr style=\"text-align: right;\">\n",
       "      <th></th>\n",
       "      <th>Date</th>\n",
       "      <th>Forecasted_Modal_Price</th>\n",
       "    </tr>\n",
       "    <tr>\n",
       "      <th>Date</th>\n",
       "      <th></th>\n",
       "      <th></th>\n",
       "    </tr>\n",
       "  </thead>\n",
       "  <tbody>\n",
       "    <tr>\n",
       "      <th>2023-10-02</th>\n",
       "      <td>2023-10-02</td>\n",
       "      <td>1894.765991</td>\n",
       "    </tr>\n",
       "    <tr>\n",
       "      <th>2023-10-03</th>\n",
       "      <td>2023-10-03</td>\n",
       "      <td>1889.647949</td>\n",
       "    </tr>\n",
       "    <tr>\n",
       "      <th>2023-10-04</th>\n",
       "      <td>2023-10-04</td>\n",
       "      <td>1882.131958</td>\n",
       "    </tr>\n",
       "    <tr>\n",
       "      <th>2023-10-05</th>\n",
       "      <td>2023-10-05</td>\n",
       "      <td>1873.468994</td>\n",
       "    </tr>\n",
       "    <tr>\n",
       "      <th>2023-10-06</th>\n",
       "      <td>2023-10-06</td>\n",
       "      <td>1864.480957</td>\n",
       "    </tr>\n",
       "    <tr>\n",
       "      <th>...</th>\n",
       "      <td>...</td>\n",
       "      <td>...</td>\n",
       "    </tr>\n",
       "    <tr>\n",
       "      <th>2023-12-26</th>\n",
       "      <td>2023-12-26</td>\n",
       "      <td>1613.208008</td>\n",
       "    </tr>\n",
       "    <tr>\n",
       "      <th>2023-12-27</th>\n",
       "      <td>2023-12-27</td>\n",
       "      <td>1612.308960</td>\n",
       "    </tr>\n",
       "    <tr>\n",
       "      <th>2023-12-28</th>\n",
       "      <td>2023-12-28</td>\n",
       "      <td>1611.430054</td>\n",
       "    </tr>\n",
       "    <tr>\n",
       "      <th>2023-12-29</th>\n",
       "      <td>2023-12-29</td>\n",
       "      <td>1610.569946</td>\n",
       "    </tr>\n",
       "    <tr>\n",
       "      <th>2023-12-30</th>\n",
       "      <td>2023-12-30</td>\n",
       "      <td>1609.729004</td>\n",
       "    </tr>\n",
       "  </tbody>\n",
       "</table>\n",
       "<p>90 rows × 2 columns</p>\n",
       "</div>"
      ],
      "text/plain": [
       "                 Date  Forecasted_Modal_Price\n",
       "Date                                         \n",
       "2023-10-02 2023-10-02             1894.765991\n",
       "2023-10-03 2023-10-03             1889.647949\n",
       "2023-10-04 2023-10-04             1882.131958\n",
       "2023-10-05 2023-10-05             1873.468994\n",
       "2023-10-06 2023-10-06             1864.480957\n",
       "...               ...                     ...\n",
       "2023-12-26 2023-12-26             1613.208008\n",
       "2023-12-27 2023-12-27             1612.308960\n",
       "2023-12-28 2023-12-28             1611.430054\n",
       "2023-12-29 2023-12-29             1610.569946\n",
       "2023-12-30 2023-12-30             1609.729004\n",
       "\n",
       "[90 rows x 2 columns]"
      ]
     },
     "execution_count": 27,
     "metadata": {},
     "output_type": "execute_result"
    }
   ],
   "source": [
    "forecast_df"
   ]
  },
  {
   "cell_type": "code",
   "execution_count": 28,
   "metadata": {},
   "outputs": [
    {
     "data": {
      "image/png": "[encoded data removed]",
      "text/plain": [
       "<Figure size 640x480 with 1 Axes>"
      ]
     },
     "metadata": {},
     "output_type": "display_data"
    }
   ],
   "source": [
    "import matplotlib.pyplot as plt\n",
    "\n",
    "plt.plot(forecast_df.index, forecast_df['Forecasted_Modal_Price'], label='Forecasted')\n",
    "plt.plot(post_processed_fulldf.index, post_processed_fulldf['Price Actuals'], label='Historical')\n",
    "\n",
    "\n",
    "plt.xlabel('Date')\n",
    "plt.ylabel('Price')\n",
    "plt.title('Actual vs Predicted Price Over Time')\n",
    "plt.legend()\n",
    "\n",
    "plt.xticks(rotation=45)\n",
    "plt.tight_layout()\n",
    "plt.show()"
   ]
  }
 ],
 "metadata": {
  "kernelspec": {
   "display_name": "Python 3",
   "language": "python",
   "name": "python3"
  },
  "language_info": {
   "codemirror_mode": {
    "name": "ipython",
    "version": 3
   },
   "file_extension": ".py",
   "mimetype": "text/x-python",
   "name": "python",
   "nbconvert_exporter": "python",
   "pygments_lexer": "ipython3",
   "version": "3.9.0"
  },
  "orig_nbformat": 4
 },
 "nbformat": 4,
 "nbformat_minor": 2
}
