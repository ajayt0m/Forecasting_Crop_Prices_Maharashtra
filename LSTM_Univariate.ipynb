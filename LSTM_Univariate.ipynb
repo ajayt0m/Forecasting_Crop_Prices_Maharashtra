{
 "cells": [
  {
   "cell_type": "code",
   "execution_count": 182,
   "metadata": {},
   "outputs": [],
   "source": [
    "import pandas as pd\n",
    "\n",
    "file_url = 'https://raw.githubusercontent.com/ajayt0m/Forecasting_Crop_Prices_Maharashtra/main/onion_daily_cleaned.csv'\n",
    "\n",
    "onion_df = pd.read_csv(file_url)"
   ]
  },
  {
   "cell_type": "code",
   "execution_count": 183,
   "metadata": {},
   "outputs": [],
   "source": [
    "#Set index as date\n",
    "onion_df.index  = pd.to_datetime(onion_df['date_arrival'], format = '%Y-%m-%d')"
   ]
  },
  {
   "cell_type": "code",
   "execution_count": 184,
   "metadata": {},
   "outputs": [],
   "source": [
    "onion_df['date_arrival'] = pd.to_datetime(onion_df['date_arrival'], format = '%Y-%m-%d')"
   ]
  },
  {
   "cell_type": "code",
   "execution_count": 185,
   "metadata": {},
   "outputs": [
    {
     "data": {
      "text/html": [
       "<div>\n",
       "<style scoped>\n",
       "    .dataframe tbody tr th:only-of-type {\n",
       "        vertical-align: middle;\n",
       "    }\n",
       "\n",
       "    .dataframe tbody tr th {\n",
       "        vertical-align: top;\n",
       "    }\n",
       "\n",
       "    .dataframe thead th {\n",
       "        text-align: right;\n",
       "    }\n",
       "</style>\n",
       "<table border=\"1\" class=\"dataframe\">\n",
       "  <thead>\n",
       "    <tr style=\"text-align: right;\">\n",
       "      <th></th>\n",
       "      <th>date_arrival</th>\n",
       "      <th>MIN</th>\n",
       "      <th>MAX</th>\n",
       "      <th>MODAL</th>\n",
       "      <th>Arrival</th>\n",
       "    </tr>\n",
       "    <tr>\n",
       "      <th>date_arrival</th>\n",
       "      <th></th>\n",
       "      <th></th>\n",
       "      <th></th>\n",
       "      <th></th>\n",
       "      <th></th>\n",
       "    </tr>\n",
       "  </thead>\n",
       "  <tbody>\n",
       "    <tr>\n",
       "      <th>2021-01-01</th>\n",
       "      <td>2021-01-01</td>\n",
       "      <td>865.145833</td>\n",
       "      <td>2706.875000</td>\n",
       "      <td>2060.604167</td>\n",
       "      <td>11575.00</td>\n",
       "    </tr>\n",
       "    <tr>\n",
       "      <th>2021-01-02</th>\n",
       "      <td>2021-01-02</td>\n",
       "      <td>1105.066667</td>\n",
       "      <td>2720.155556</td>\n",
       "      <td>2181.844444</td>\n",
       "      <td>15560.00</td>\n",
       "    </tr>\n",
       "    <tr>\n",
       "      <th>2021-01-03</th>\n",
       "      <td>2021-01-03</td>\n",
       "      <td>1129.411765</td>\n",
       "      <td>2741.470588</td>\n",
       "      <td>2141.176471</td>\n",
       "      <td>3954.00</td>\n",
       "    </tr>\n",
       "    <tr>\n",
       "      <th>2021-01-04</th>\n",
       "      <td>2021-01-04</td>\n",
       "      <td>967.306122</td>\n",
       "      <td>2754.163265</td>\n",
       "      <td>2167.551020</td>\n",
       "      <td>21441.00</td>\n",
       "    </tr>\n",
       "    <tr>\n",
       "      <th>2021-01-05</th>\n",
       "      <td>2021-01-05</td>\n",
       "      <td>1188.836735</td>\n",
       "      <td>2793.714286</td>\n",
       "      <td>2275.469388</td>\n",
       "      <td>21526.00</td>\n",
       "    </tr>\n",
       "    <tr>\n",
       "      <th>...</th>\n",
       "      <td>...</td>\n",
       "      <td>...</td>\n",
       "      <td>...</td>\n",
       "      <td>...</td>\n",
       "      <td>...</td>\n",
       "    </tr>\n",
       "    <tr>\n",
       "      <th>2023-09-27</th>\n",
       "      <td>2023-09-27</td>\n",
       "      <td>948.090909</td>\n",
       "      <td>2731.454545</td>\n",
       "      <td>1978.393939</td>\n",
       "      <td>17023.00</td>\n",
       "    </tr>\n",
       "    <tr>\n",
       "      <th>2023-09-28</th>\n",
       "      <td>2023-09-28</td>\n",
       "      <td>1317.647059</td>\n",
       "      <td>2629.470588</td>\n",
       "      <td>2104.411765</td>\n",
       "      <td>10241.00</td>\n",
       "    </tr>\n",
       "    <tr>\n",
       "      <th>2023-09-29</th>\n",
       "      <td>2023-09-29</td>\n",
       "      <td>878.925926</td>\n",
       "      <td>2629.555556</td>\n",
       "      <td>1874.296296</td>\n",
       "      <td>10973.12</td>\n",
       "    </tr>\n",
       "    <tr>\n",
       "      <th>2023-09-30</th>\n",
       "      <td>2023-09-30</td>\n",
       "      <td>1006.000000</td>\n",
       "      <td>2626.200000</td>\n",
       "      <td>1982.000000</td>\n",
       "      <td>18822.00</td>\n",
       "    </tr>\n",
       "    <tr>\n",
       "      <th>2023-10-01</th>\n",
       "      <td>2023-10-01</td>\n",
       "      <td>1030.555556</td>\n",
       "      <td>2470.055556</td>\n",
       "      <td>1840.333333</td>\n",
       "      <td>10627.00</td>\n",
       "    </tr>\n",
       "  </tbody>\n",
       "</table>\n",
       "<p>1004 rows × 5 columns</p>\n",
       "</div>"
      ],
      "text/plain": [
       "             date_arrival          MIN          MAX        MODAL   Arrival\n",
       "date_arrival                                                              \n",
       "2021-01-01     2021-01-01   865.145833  2706.875000  2060.604167  11575.00\n",
       "2021-01-02     2021-01-02  1105.066667  2720.155556  2181.844444  15560.00\n",
       "2021-01-03     2021-01-03  1129.411765  2741.470588  2141.176471   3954.00\n",
       "2021-01-04     2021-01-04   967.306122  2754.163265  2167.551020  21441.00\n",
       "2021-01-05     2021-01-05  1188.836735  2793.714286  2275.469388  21526.00\n",
       "...                   ...          ...          ...          ...       ...\n",
       "2023-09-27     2023-09-27   948.090909  2731.454545  1978.393939  17023.00\n",
       "2023-09-28     2023-09-28  1317.647059  2629.470588  2104.411765  10241.00\n",
       "2023-09-29     2023-09-29   878.925926  2629.555556  1874.296296  10973.12\n",
       "2023-09-30     2023-09-30  1006.000000  2626.200000  1982.000000  18822.00\n",
       "2023-10-01     2023-10-01  1030.555556  2470.055556  1840.333333  10627.00\n",
       "\n",
       "[1004 rows x 5 columns]"
      ]
     },
     "execution_count": 185,
     "metadata": {},
     "output_type": "execute_result"
    }
   ],
   "source": [
    "onion_df"
   ]
  },
  {
   "cell_type": "code",
   "execution_count": 186,
   "metadata": {},
   "outputs": [
    {
     "name": "stdout",
     "output_type": "stream",
     "text": [
      "<class 'pandas.core.frame.DataFrame'>\n",
      "DatetimeIndex: 1004 entries, 2021-01-01 to 2023-10-01\n",
      "Data columns (total 5 columns):\n",
      " #   Column        Non-Null Count  Dtype         \n",
      "---  ------        --------------  -----         \n",
      " 0   date_arrival  1000 non-null   datetime64[ns]\n",
      " 1   MIN           1004 non-null   float64       \n",
      " 2   MAX           1004 non-null   float64       \n",
      " 3   MODAL         1004 non-null   float64       \n",
      " 4   Arrival       1004 non-null   float64       \n",
      "dtypes: datetime64[ns](1), float64(4)\n",
      "memory usage: 47.1 KB\n"
     ]
    }
   ],
   "source": [
    "onion_df.info()"
   ]
  },
  {
   "cell_type": "code",
   "execution_count": 187,
   "metadata": {},
   "outputs": [
    {
     "data": {
      "text/plain": [
       "<AxesSubplot: xlabel='date_arrival'>"
      ]
     },
     "execution_count": 187,
     "metadata": {},
     "output_type": "execute_result"
    },
    {
     "data": {
      "image/png": "[encoded data removed]",
      "text/plain": [
       "<Figure size 640x480 with 1 Axes>"
      ]
     },
     "metadata": {},
     "output_type": "display_data"
    }
   ],
   "source": [
    "price = onion_df['MODAL']\n",
    "price.plot()"
   ]
  },
  {
   "cell_type": "code",
   "execution_count": 188,
   "metadata": {},
   "outputs": [],
   "source": [
    "import numpy as np\n",
    "\n",
    "def df_to_X_y(df, window_size=5):\n",
    "  df_as_np = df.to_numpy()\n",
    "  X = []\n",
    "  y = []\n",
    "  for i in range(len(df_as_np)-window_size):\n",
    "    row = [[a] for a in df_as_np[i:i+window_size]]\n",
    "    X.append(row)\n",
    "    label = df_as_np[i+window_size]\n",
    "    y.append(label)\n",
    "  return np.array(X), np.array(y)"
   ]
  },
  {
   "cell_type": "code",
   "execution_count": 217,
   "metadata": {},
   "outputs": [
    {
     "data": {
      "text/plain": [
       "((989, 15, 1), (989,))"
      ]
     },
     "execution_count": 217,
     "metadata": {},
     "output_type": "execute_result"
    }
   ],
   "source": [
    "WINDOW_SIZE = 15\n",
    "X1, y1 = df_to_X_y(price, WINDOW_SIZE)\n",
    "X1.shape, y1.shape"
   ]
  },
  {
   "cell_type": "code",
   "execution_count": 218,
   "metadata": {},
   "outputs": [
    {
     "data": {
      "text/plain": [
       "array([[[2060.60416667],\n",
       "        [2181.84444444],\n",
       "        [2141.17647059],\n",
       "        ...,\n",
       "        [2076.5       ],\n",
       "        [2319.15789474],\n",
       "        [2391.25      ]],\n",
       "\n",
       "       [[2181.84444444],\n",
       "        [2141.17647059],\n",
       "        [2167.55102041],\n",
       "        ...,\n",
       "        [2319.15789474],\n",
       "        [2391.25      ],\n",
       "        [2394.59375   ]],\n",
       "\n",
       "       [[2141.17647059],\n",
       "        [2167.55102041],\n",
       "        [2275.46938776],\n",
       "        ...,\n",
       "        [2391.25      ],\n",
       "        [2394.59375   ],\n",
       "        [2298.80952381]],\n",
       "\n",
       "       ...,\n",
       "\n",
       "       [[1738.88888889],\n",
       "        [1765.25531915],\n",
       "        [1811.44      ],\n",
       "        ...,\n",
       "        [1878.11764706],\n",
       "        [1978.39393939],\n",
       "        [2104.41176471]],\n",
       "\n",
       "       [[1765.25531915],\n",
       "        [1811.44      ],\n",
       "        [1678.88888889],\n",
       "        ...,\n",
       "        [1978.39393939],\n",
       "        [2104.41176471],\n",
       "        [1874.2962963 ]],\n",
       "\n",
       "       [[1811.44      ],\n",
       "        [1678.88888889],\n",
       "        [1819.25891304],\n",
       "        ...,\n",
       "        [2104.41176471],\n",
       "        [1874.2962963 ],\n",
       "        [1982.        ]]])"
      ]
     },
     "execution_count": 218,
     "metadata": {},
     "output_type": "execute_result"
    }
   ],
   "source": [
    "X1"
   ]
  },
  {
   "cell_type": "code",
   "execution_count": 219,
   "metadata": {},
   "outputs": [
    {
     "data": {
      "text/plain": [
       "((800, 15, 1), (800,), (100, 15, 1), (100,), (89, 15, 1), (89,))"
      ]
     },
     "execution_count": 219,
     "metadata": {},
     "output_type": "execute_result"
    }
   ],
   "source": [
    "X_train1, y_train1 = X1[:800], y1[:800]\n",
    "X_val1, y_val1 = X1[800:900], y1[800:900]\n",
    "X_test1, y_test1 = X1[900:], y1[900:]\n",
    "X_train1.shape, y_train1.shape, X_val1.shape, y_val1.shape, X_test1.shape, y_test1.shape"
   ]
  },
  {
   "cell_type": "code",
   "execution_count": 220,
   "metadata": {},
   "outputs": [
    {
     "data": {
      "text/plain": [
       "array([[[2060.60416667],\n",
       "        [2181.84444444],\n",
       "        [2141.17647059],\n",
       "        ...,\n",
       "        [2076.5       ],\n",
       "        [2319.15789474],\n",
       "        [2391.25      ]],\n",
       "\n",
       "       [[2181.84444444],\n",
       "        [2141.17647059],\n",
       "        [2167.55102041],\n",
       "        ...,\n",
       "        [2319.15789474],\n",
       "        [2391.25      ],\n",
       "        [2394.59375   ]],\n",
       "\n",
       "       [[2141.17647059],\n",
       "        [2167.55102041],\n",
       "        [2275.46938776],\n",
       "        ...,\n",
       "        [2391.25      ],\n",
       "        [2394.59375   ],\n",
       "        [2298.80952381]],\n",
       "\n",
       "       ...,\n",
       "\n",
       "       [[ 881.01818182],\n",
       "        [ 841.97674419],\n",
       "        [ 829.31707317],\n",
       "        ...,\n",
       "        [ 815.75384615],\n",
       "        [ 860.14285714],\n",
       "        [ 852.37037037]],\n",
       "\n",
       "       [[ 841.97674419],\n",
       "        [ 829.31707317],\n",
       "        [ 926.46153846],\n",
       "        ...,\n",
       "        [ 860.14285714],\n",
       "        [ 852.37037037],\n",
       "        [ 785.359375  ]],\n",
       "\n",
       "       [[ 829.31707317],\n",
       "        [ 926.46153846],\n",
       "        [ 803.78723404],\n",
       "        ...,\n",
       "        [ 852.37037037],\n",
       "        [ 785.359375  ],\n",
       "        [ 770.13043478]]])"
      ]
     },
     "execution_count": 220,
     "metadata": {},
     "output_type": "execute_result"
    }
   ],
   "source": [
    "X_train1"
   ]
  },
  {
   "cell_type": "code",
   "execution_count": 221,
   "metadata": {},
   "outputs": [],
   "source": [
    "price_training_mean = np.mean(X_train1[:, :, 0])\n",
    "price_training_std = np.std(X_train1[:, :, 0])\n",
    "\n",
    "def preprocess(X):\n",
    "  X[:, :, 0] = (X[:, :, 0] - price_training_mean) / price_training_std \n",
    "  return X"
   ]
  },
  {
   "cell_type": "code",
   "execution_count": 222,
   "metadata": {},
   "outputs": [
    {
     "data": {
      "text/plain": [
       "1463.232494093991"
      ]
     },
     "execution_count": 222,
     "metadata": {},
     "output_type": "execute_result"
    }
   ],
   "source": [
    "price_training_mean"
   ]
  },
  {
   "cell_type": "code",
   "execution_count": 223,
   "metadata": {},
   "outputs": [
    {
     "data": {
      "text/plain": [
       "array([[[-1.01823811],\n",
       "        [-1.0591576 ],\n",
       "        [-1.00207892],\n",
       "        ...,\n",
       "        [-0.44358   ],\n",
       "        [-0.58650494],\n",
       "        [-0.43392152]],\n",
       "\n",
       "       [[-1.0591576 ],\n",
       "        [-1.00207892],\n",
       "        [-1.00129697],\n",
       "        ...,\n",
       "        [-0.58650494],\n",
       "        [-0.43392152],\n",
       "        [-0.4071577 ]],\n",
       "\n",
       "       [[-1.00207892],\n",
       "        [-1.00129697],\n",
       "        [-1.05046117],\n",
       "        ...,\n",
       "        [-0.43392152],\n",
       "        [-0.4071577 ],\n",
       "        [-0.32218174]],\n",
       "\n",
       "       ...,\n",
       "\n",
       "       [[ 0.51626244],\n",
       "        [ 0.56564274],\n",
       "        [ 0.65213962],\n",
       "        ...,\n",
       "        [ 0.77701669],\n",
       "        [ 0.96481891],\n",
       "        [ 1.2008311 ]],\n",
       "\n",
       "       [[ 0.56564274],\n",
       "        [ 0.65213962],\n",
       "        [ 0.40389158],\n",
       "        ...,\n",
       "        [ 0.96481891],\n",
       "        [ 1.2008311 ],\n",
       "        [ 0.76985988]],\n",
       "\n",
       "       [[ 0.65213962],\n",
       "        [ 0.40389158],\n",
       "        [ 0.66678325],\n",
       "        ...,\n",
       "        [ 1.2008311 ],\n",
       "        [ 0.76985988],\n",
       "        [ 0.97157251]]])"
      ]
     },
     "execution_count": 223,
     "metadata": {},
     "output_type": "execute_result"
    }
   ],
   "source": [
    "preprocess(X_train1)\n",
    "preprocess(X_val1)\n",
    "preprocess(X_test1)"
   ]
  },
  {
   "cell_type": "code",
   "execution_count": 224,
   "metadata": {},
   "outputs": [],
   "source": [
    "def preprocess_output(y):\n",
    "  y = (y - price_training_mean) / price_training_std \n",
    "  return y"
   ]
  },
  {
   "cell_type": "code",
   "execution_count": 225,
   "metadata": {},
   "outputs": [
    {
     "data": {
      "text/plain": [
       "array([-0.4071577 , -0.32218174, -0.47314565, -0.48019657, -0.39510206,\n",
       "       -0.66439048, -0.50129138, -0.54682908, -0.51946502, -0.5983212 ,\n",
       "       -0.58870468, -0.25527648, -0.58682052, -0.38805096, -0.48773915,\n",
       "       -0.46950476, -0.09210048, -0.62553791, -0.40134968, -0.56406363,\n",
       "       -0.5561474 , -0.52227974, -0.50849596, -0.48437502, -0.56283346,\n",
       "       -0.2968721 , -0.52249272, -0.38759656, -0.37778116, -0.2941947 ,\n",
       "        0.13582048, -0.16723353, -0.10544406,  0.10826794,  0.1346718 ,\n",
       "        0.11918267,  0.3105539 ,  0.56670419,  0.63709895,  0.75477425,\n",
       "        0.89295859,  0.25333543,  0.71839756,  0.82102955,  0.73950966,\n",
       "        0.63453797,  0.53754007,  0.70745531,  0.69024042,  0.74655537,\n",
       "        0.6626289 ,  0.74805388,  0.67940828,  0.60925453,  0.6497476 ,\n",
       "        0.8305556 ,  0.49025066,  0.70177008,  0.68388018,  0.92587503,\n",
       "        0.66862067,  0.79809455,  0.81425583,  0.86807538,  0.87370242,\n",
       "        0.66761332,  0.72766677,  0.5603784 ,  0.72595635,  0.67000048,\n",
       "        0.71172579,  0.51626244,  0.56564274,  0.65213962,  0.40389158,\n",
       "        0.66678325,  0.66532121,  0.67073967,  0.63319301,  0.60358632,\n",
       "        0.7068572 ,  0.94585687,  0.84207847,  0.77701669,  0.96481891,\n",
       "        1.2008311 ,  0.76985988,  0.97157251,  0.70625243])"
      ]
     },
     "execution_count": 225,
     "metadata": {},
     "output_type": "execute_result"
    }
   ],
   "source": [
    "preprocess_output(y_train1)\n",
    "preprocess_output(y_val1)\n",
    "preprocess_output(y_test1)"
   ]
  },
  {
   "cell_type": "code",
   "execution_count": 226,
   "metadata": {},
   "outputs": [
    {
     "name": "stdout",
     "output_type": "stream",
     "text": [
      "Model: \"sequential_17\"\n",
      "_________________________________________________________________\n",
      " Layer (type)                Output Shape              Param #   \n",
      "=================================================================\n",
      " lstm_17 (LSTM)              (None, 136)               75072     \n",
      "                                                                 \n",
      " dense_24 (Dense)            (None, 1)                 137       \n",
      "                                                                 \n",
      "=================================================================\n",
      "Total params: 75209 (293.79 KB)\n",
      "Trainable params: 75209 (293.79 KB)\n",
      "Non-trainable params: 0 (0.00 Byte)\n",
      "_________________________________________________________________\n"
     ]
    }
   ],
   "source": [
    "from tensorflow.keras.models import Sequential\n",
    "from tensorflow.keras.layers import *\n",
    "from tensorflow.keras.callbacks import ModelCheckpoint\n",
    "from tensorflow.keras.losses import MeanSquaredError\n",
    "from tensorflow.keras.metrics import RootMeanSquaredError\n",
    "from tensorflow.keras.optimizers import Adam\n",
    "\n",
    "model1 = Sequential()\n",
    "model1.add(InputLayer((15, 1)))\n",
    "model1.add(LSTM(136, activation='relu'))\n",
    "model1.add(Dense(1))\n",
    "\n",
    "model1.summary()"
   ]
  },
  {
   "cell_type": "code",
   "execution_count": 227,
   "metadata": {},
   "outputs": [],
   "source": [
    "cp1 = ModelCheckpoint('model1/', save_best_only=True)\n",
    "model1.compile(loss=MeanSquaredError(), optimizer=Adam(learning_rate=0.0001), metrics=[RootMeanSquaredError()])"
   ]
  },
  {
   "cell_type": "code",
   "execution_count": 228,
   "metadata": {},
   "outputs": [
    {
     "name": "stdout",
     "output_type": "stream",
     "text": [
      "Epoch 1/20\n",
      "25/25 [==============================] - ETA: 0s - loss: 2376499.0000 - root_mean_squared_error: 1541.5897INFO:tensorflow:Assets written to: model1\\assets\n"
     ]
    },
    {
     "name": "stderr",
     "output_type": "stream",
     "text": [
      "INFO:tensorflow:Assets written to: model1\\assets\n"
     ]
    },
    {
     "name": "stdout",
     "output_type": "stream",
     "text": [
      "25/25 [==============================] - 4s 95ms/step - loss: 2376499.0000 - root_mean_squared_error: 1541.5897 - val_loss: 629299.0625 - val_root_mean_squared_error: 793.2837\n",
      "Epoch 2/20\n",
      "23/25 [==========================>...] - ETA: 0s - loss: 2394246.5000 - root_mean_squared_error: 1547.3353INFO:tensorflow:Assets written to: model1\\assets\n"
     ]
    },
    {
     "name": "stderr",
     "output_type": "stream",
     "text": [
      "INFO:tensorflow:Assets written to: model1\\assets\n"
     ]
    },
    {
     "name": "stdout",
     "output_type": "stream",
     "text": [
      "25/25 [==============================] - 2s 70ms/step - loss: 2376203.2500 - root_mean_squared_error: 1541.4939 - val_loss: 628989.9375 - val_root_mean_squared_error: 793.0889\n",
      "Epoch 3/20\n",
      "25/25 [==============================] - ETA: 0s - loss: 2375728.7500 - root_mean_squared_error: 1541.3400INFO:tensorflow:Assets written to: model1\\assets\n"
     ]
    },
    {
     "name": "stderr",
     "output_type": "stream",
     "text": [
      "INFO:tensorflow:Assets written to: model1\\assets\n"
     ]
    },
    {
     "name": "stdout",
     "output_type": "stream",
     "text": [
      "25/25 [==============================] - 4s 162ms/step - loss: 2375728.7500 - root_mean_squared_error: 1541.3400 - val_loss: 628302.3750 - val_root_mean_squared_error: 792.6553\n",
      "Epoch 4/20\n",
      "20/25 [=======================>......] - ETA: 0s - loss: 2415909.5000 - root_mean_squared_error: 1554.3196INFO:tensorflow:Assets written to: model1\\assets\n"
     ]
    },
    {
     "name": "stderr",
     "output_type": "stream",
     "text": [
      "INFO:tensorflow:Assets written to: model1\\assets\n"
     ]
    },
    {
     "name": "stdout",
     "output_type": "stream",
     "text": [
      "25/25 [==============================] - 2s 68ms/step - loss: 2373785.5000 - root_mean_squared_error: 1540.7095 - val_loss: 622588.8125 - val_root_mean_squared_error: 789.0430\n",
      "Epoch 5/20\n",
      "21/25 [========================>.....] - ETA: 0s - loss: 2267764.0000 - root_mean_squared_error: 1505.9097INFO:tensorflow:Assets written to: model1\\assets\n"
     ]
    },
    {
     "name": "stderr",
     "output_type": "stream",
     "text": [
      "INFO:tensorflow:Assets written to: model1\\assets\n"
     ]
    },
    {
     "name": "stdout",
     "output_type": "stream",
     "text": [
      "25/25 [==============================] - 2s 70ms/step - loss: 2217454.0000 - root_mean_squared_error: 1489.1118 - val_loss: 111555.3516 - val_root_mean_squared_error: 333.9990\n",
      "Epoch 6/20\n",
      "25/25 [==============================] - 0s 14ms/step - loss: 1813841.2500 - root_mean_squared_error: 1346.7892 - val_loss: 2908550.5000 - val_root_mean_squared_error: 1705.4473\n",
      "Epoch 7/20\n",
      "25/25 [==============================] - 0s 11ms/step - loss: 1639639.8750 - root_mean_squared_error: 1280.4843 - val_loss: 2402677.0000 - val_root_mean_squared_error: 1550.0571\n",
      "Epoch 8/20\n",
      "25/25 [==============================] - 0s 13ms/step - loss: 1436048.7500 - root_mean_squared_error: 1198.3525 - val_loss: 1746390.1250 - val_root_mean_squared_error: 1321.5105\n",
      "Epoch 9/20\n",
      "25/25 [==============================] - 0s 15ms/step - loss: 1151517.8750 - root_mean_squared_error: 1073.0880 - val_loss: 2070228.0000 - val_root_mean_squared_error: 1438.8287\n",
      "Epoch 10/20\n",
      "25/25 [==============================] - 0s 11ms/step - loss: 867328.6250 - root_mean_squared_error: 931.3048 - val_loss: 1545539.0000 - val_root_mean_squared_error: 1243.1971\n",
      "Epoch 11/20\n",
      "25/25 [==============================] - 0s 11ms/step - loss: 616459.1250 - root_mean_squared_error: 785.1491 - val_loss: 996507.1250 - val_root_mean_squared_error: 998.2520\n",
      "Epoch 12/20\n",
      "25/25 [==============================] - 0s 14ms/step - loss: 461421.6875 - root_mean_squared_error: 679.2803 - val_loss: 493930.9688 - val_root_mean_squared_error: 702.8022\n",
      "Epoch 13/20\n",
      "25/25 [==============================] - 0s 11ms/step - loss: 357961.5312 - root_mean_squared_error: 598.2989 - val_loss: 471042.1250 - val_root_mean_squared_error: 686.3251\n",
      "Epoch 14/20\n",
      "25/25 [==============================] - 0s 12ms/step - loss: 282298.0312 - root_mean_squared_error: 531.3173 - val_loss: 273731.0000 - val_root_mean_squared_error: 523.1931\n",
      "Epoch 15/20\n",
      "25/25 [==============================] - 0s 12ms/step - loss: 243024.6406 - root_mean_squared_error: 492.9753 - val_loss: 239133.2344 - val_root_mean_squared_error: 489.0125\n",
      "Epoch 16/20\n",
      "25/25 [==============================] - 0s 14ms/step - loss: 204590.9062 - root_mean_squared_error: 452.3173 - val_loss: 217842.9531 - val_root_mean_squared_error: 466.7365\n",
      "Epoch 17/20\n",
      "25/25 [==============================] - 0s 12ms/step - loss: 182402.5156 - root_mean_squared_error: 427.0861 - val_loss: 241178.4844 - val_root_mean_squared_error: 491.0993\n",
      "Epoch 18/20\n",
      "25/25 [==============================] - 0s 12ms/step - loss: 161182.8125 - root_mean_squared_error: 401.4758 - val_loss: 193514.7656 - val_root_mean_squared_error: 439.9031\n",
      "Epoch 19/20\n",
      "25/25 [==============================] - 0s 11ms/step - loss: 143157.5000 - root_mean_squared_error: 378.3616 - val_loss: 130711.8203 - val_root_mean_squared_error: 361.5409\n",
      "Epoch 20/20\n",
      "25/25 [==============================] - ETA: 0s - loss: 129206.1094 - root_mean_squared_error: 359.4525INFO:tensorflow:Assets written to: model1\\assets\n"
     ]
    },
    {
     "name": "stderr",
     "output_type": "stream",
     "text": [
      "INFO:tensorflow:Assets written to: model1\\assets\n"
     ]
    },
    {
     "name": "stdout",
     "output_type": "stream",
     "text": [
      "25/25 [==============================] - 2s 64ms/step - loss: 129206.1094 - root_mean_squared_error: 359.4525 - val_loss: 80572.6719 - val_root_mean_squared_error: 283.8533\n"
     ]
    },
    {
     "data": {
      "text/plain": [
       "<keras.src.callbacks.History at 0x245a7716190>"
      ]
     },
     "execution_count": 228,
     "metadata": {},
     "output_type": "execute_result"
    }
   ],
   "source": [
    "model1.fit(X_train1, y_train1, validation_data=(X_val1, y_val1), epochs=20, callbacks=[cp1])"
   ]
  },
  {
   "cell_type": "code",
   "execution_count": 229,
   "metadata": {},
   "outputs": [
    {
     "data": {
      "text/plain": [
       "[<matplotlib.lines.Line2D at 0x245a70ec910>]"
      ]
     },
     "execution_count": 229,
     "metadata": {},
     "output_type": "execute_result"
    },
    {
     "data": {
      "image/png": "[encoded data removed]",
      "text/plain": [
       "<Figure size 640x480 with 1 Axes>"
      ]
     },
     "metadata": {},
     "output_type": "display_data"
    }
   ],
   "source": [
    "import matplotlib.pyplot as plt\n",
    "\n",
    "loss_per_epoch = model1.history.history['loss']\n",
    "plt.plot(range(len(loss_per_epoch)), loss_per_epoch)"
   ]
  },
  {
   "cell_type": "code",
   "execution_count": 230,
   "metadata": {},
   "outputs": [],
   "source": [
    "def postprocess(arr):\n",
    "  arr = (arr*price_training_std) + price_training_mean\n",
    "  return arr"
   ]
  },
  {
   "cell_type": "code",
   "execution_count": 231,
   "metadata": {},
   "outputs": [],
   "source": [
    "def get_predictions_postprocessed(model, X, y):\n",
    "  predictions = model.predict(X).flatten()\n",
    "  price_preds = postprocess(predictions)\n",
    "  price_actuals = postprocess(y)\n",
    "  df = pd.DataFrame(data={'Price Predictions': price_preds,\n",
    "                          'Price Actuals':price_actuals,\n",
    "                          })\n",
    "  return df"
   ]
  },
  {
   "cell_type": "code",
   "execution_count": 232,
   "metadata": {},
   "outputs": [
    {
     "name": "stdout",
     "output_type": "stream",
     "text": [
      "3/3 [==============================] - 0s 7ms/step\n"
     ]
    },
    {
     "data": {
      "text/html": [
       "<div>\n",
       "<style scoped>\n",
       "    .dataframe tbody tr th:only-of-type {\n",
       "        vertical-align: middle;\n",
       "    }\n",
       "\n",
       "    .dataframe tbody tr th {\n",
       "        vertical-align: top;\n",
       "    }\n",
       "\n",
       "    .dataframe thead th {\n",
       "        text-align: right;\n",
       "    }\n",
       "</style>\n",
       "<table border=\"1\" class=\"dataframe\">\n",
       "  <thead>\n",
       "    <tr style=\"text-align: right;\">\n",
       "      <th></th>\n",
       "      <th>Price Predictions</th>\n",
       "      <th>Price Actuals</th>\n",
       "    </tr>\n",
       "  </thead>\n",
       "  <tbody>\n",
       "    <tr>\n",
       "      <th>0</th>\n",
       "      <td>567509.2500</td>\n",
       "      <td>6.666707e+05</td>\n",
       "    </tr>\n",
       "    <tr>\n",
       "      <th>1</th>\n",
       "      <td>579658.2500</td>\n",
       "      <td>6.908972e+05</td>\n",
       "    </tr>\n",
       "    <tr>\n",
       "      <th>2</th>\n",
       "      <td>588159.6875</td>\n",
       "      <td>6.478576e+05</td>\n",
       "    </tr>\n",
       "    <tr>\n",
       "      <th>3</th>\n",
       "      <td>610679.0000</td>\n",
       "      <td>6.458474e+05</td>\n",
       "    </tr>\n",
       "    <tr>\n",
       "      <th>4</th>\n",
       "      <td>625840.8125</td>\n",
       "      <td>6.701077e+05</td>\n",
       "    </tr>\n",
       "    <tr>\n",
       "      <th>...</th>\n",
       "      <td>...</td>\n",
       "      <td>...</td>\n",
       "    </tr>\n",
       "    <tr>\n",
       "      <th>84</th>\n",
       "      <td>904928.4375</td>\n",
       "      <td>1.057819e+06</td>\n",
       "    </tr>\n",
       "    <tr>\n",
       "      <th>85</th>\n",
       "      <td>910755.1250</td>\n",
       "      <td>1.125106e+06</td>\n",
       "    </tr>\n",
       "    <tr>\n",
       "      <th>86</th>\n",
       "      <td>901870.6250</td>\n",
       "      <td>1.002237e+06</td>\n",
       "    </tr>\n",
       "    <tr>\n",
       "      <th>87</th>\n",
       "      <td>904189.2500</td>\n",
       "      <td>1.059745e+06</td>\n",
       "    </tr>\n",
       "    <tr>\n",
       "      <th>88</th>\n",
       "      <td>911373.3750</td>\n",
       "      <td>9.841023e+05</td>\n",
       "    </tr>\n",
       "  </tbody>\n",
       "</table>\n",
       "<p>89 rows × 2 columns</p>\n",
       "</div>"
      ],
      "text/plain": [
       "    Price Predictions  Price Actuals\n",
       "0         567509.2500   6.666707e+05\n",
       "1         579658.2500   6.908972e+05\n",
       "2         588159.6875   6.478576e+05\n",
       "3         610679.0000   6.458474e+05\n",
       "4         625840.8125   6.701077e+05\n",
       "..                ...            ...\n",
       "84        904928.4375   1.057819e+06\n",
       "85        910755.1250   1.125106e+06\n",
       "86        901870.6250   1.002237e+06\n",
       "87        904189.2500   1.059745e+06\n",
       "88        911373.3750   9.841023e+05\n",
       "\n",
       "[89 rows x 2 columns]"
      ]
     },
     "execution_count": 232,
     "metadata": {},
     "output_type": "execute_result"
    }
   ],
   "source": [
    "post_processed_df = get_predictions_postprocessed(model1, X_test1, y_test1)\n",
    "post_processed_df"
   ]
  },
  {
   "cell_type": "code",
   "execution_count": 233,
   "metadata": {},
   "outputs": [
    {
     "data": {
      "text/plain": [
       "[<matplotlib.lines.Line2D at 0x245a3aeffd0>]"
      ]
     },
     "execution_count": 233,
     "metadata": {},
     "output_type": "execute_result"
    },
    {
     "data": {
      "image/png": "[encoded data removed]",
      "text/plain": [
       "<Figure size 640x480 with 1 Axes>"
      ]
     },
     "metadata": {},
     "output_type": "display_data"
    }
   ],
   "source": [
    "start, end = 0, 100\n",
    "plt.plot(post_processed_df['Price Predictions'][start:end])\n",
    "plt.plot(post_processed_df['Price Actuals'][start:end])"
   ]
  },
  {
   "cell_type": "code",
   "execution_count": 129,
   "metadata": {},
   "outputs": [
    {
     "name": "stdout",
     "output_type": "stream",
     "text": [
      "25/25 [==============================] - 0s 4ms/step\n"
     ]
    },
    {
     "data": {
      "text/html": [
       "<div>\n",
       "<style scoped>\n",
       "    .dataframe tbody tr th:only-of-type {\n",
       "        vertical-align: middle;\n",
       "    }\n",
       "\n",
       "    .dataframe tbody tr th {\n",
       "        vertical-align: top;\n",
       "    }\n",
       "\n",
       "    .dataframe thead th {\n",
       "        text-align: right;\n",
       "    }\n",
       "</style>\n",
       "<table border=\"1\" class=\"dataframe\">\n",
       "  <thead>\n",
       "    <tr style=\"text-align: right;\">\n",
       "      <th></th>\n",
       "      <th>Train Predictions</th>\n",
       "      <th>Actuals</th>\n",
       "    </tr>\n",
       "  </thead>\n",
       "  <tbody>\n",
       "    <tr>\n",
       "      <th>0</th>\n",
       "      <td>1459.615601</td>\n",
       "      <td>2242.647059</td>\n",
       "    </tr>\n",
       "    <tr>\n",
       "      <th>1</th>\n",
       "      <td>1459.615601</td>\n",
       "      <td>2242.647059</td>\n",
       "    </tr>\n",
       "    <tr>\n",
       "      <th>2</th>\n",
       "      <td>1459.615601</td>\n",
       "      <td>2242.647059</td>\n",
       "    </tr>\n",
       "    <tr>\n",
       "      <th>3</th>\n",
       "      <td>1459.615601</td>\n",
       "      <td>2832.400000</td>\n",
       "    </tr>\n",
       "    <tr>\n",
       "      <th>4</th>\n",
       "      <td>1459.615601</td>\n",
       "      <td>2375.000000</td>\n",
       "    </tr>\n",
       "    <tr>\n",
       "      <th>...</th>\n",
       "      <td>...</td>\n",
       "      <td>...</td>\n",
       "    </tr>\n",
       "    <tr>\n",
       "      <th>795</th>\n",
       "      <td>1459.615601</td>\n",
       "      <td>926.461538</td>\n",
       "    </tr>\n",
       "    <tr>\n",
       "      <th>796</th>\n",
       "      <td>1459.615601</td>\n",
       "      <td>803.787234</td>\n",
       "    </tr>\n",
       "    <tr>\n",
       "      <th>797</th>\n",
       "      <td>1459.615601</td>\n",
       "      <td>824.212121</td>\n",
       "    </tr>\n",
       "    <tr>\n",
       "      <th>798</th>\n",
       "      <td>1459.615356</td>\n",
       "      <td>819.517857</td>\n",
       "    </tr>\n",
       "    <tr>\n",
       "      <th>799</th>\n",
       "      <td>1459.615356</td>\n",
       "      <td>828.835821</td>\n",
       "    </tr>\n",
       "  </tbody>\n",
       "</table>\n",
       "<p>800 rows × 2 columns</p>\n",
       "</div>"
      ],
      "text/plain": [
       "     Train Predictions      Actuals\n",
       "0          1459.615601  2242.647059\n",
       "1          1459.615601  2242.647059\n",
       "2          1459.615601  2242.647059\n",
       "3          1459.615601  2832.400000\n",
       "4          1459.615601  2375.000000\n",
       "..                 ...          ...\n",
       "795        1459.615601   926.461538\n",
       "796        1459.615601   803.787234\n",
       "797        1459.615601   824.212121\n",
       "798        1459.615356   819.517857\n",
       "799        1459.615356   828.835821\n",
       "\n",
       "[800 rows x 2 columns]"
      ]
     },
     "execution_count": 129,
     "metadata": {},
     "output_type": "execute_result"
    }
   ],
   "source": [
    "train_predictions = model1.predict(X_train1).flatten()\n",
    "train_results = pd.DataFrame(data={'Train Predictions':train_predictions, 'Actuals':y_train1})\n",
    "train_results"
   ]
  },
  {
   "cell_type": "code",
   "execution_count": 143,
   "metadata": {},
   "outputs": [],
   "source": []
  },
  {
   "cell_type": "code",
   "execution_count": 131,
   "metadata": {},
   "outputs": [
    {
     "data": {
      "text/plain": [
       "[<matplotlib.lines.Line2D at 0x245ac120c40>]"
      ]
     },
     "execution_count": 131,
     "metadata": {},
     "output_type": "execute_result"
    },
    {
     "data": {
      "image/png": "[encoded data removed]",
      "text/plain": [
       "<Figure size 640x480 with 1 Axes>"
      ]
     },
     "metadata": {},
     "output_type": "display_data"
    }
   ],
   "source": [
    "import matplotlib.pyplot as plt\n",
    "plt.plot(train_results['Train Predictions'][50:100])\n",
    "plt.plot(train_results['Actuals'][50:100])"
   ]
  }
 ],
 "metadata": {
  "kernelspec": {
   "display_name": "Python 3",
   "language": "python",
   "name": "python3"
  },
  "language_info": {
   "codemirror_mode": {
    "name": "ipython",
    "version": 3
   },
   "file_extension": ".py",
   "mimetype": "text/x-python",
   "name": "python",
   "nbconvert_exporter": "python",
   "pygments_lexer": "ipython3",
   "version": "3.9.0"
  },
  "orig_nbformat": 4
 },
 "nbformat": 4,
 "nbformat_minor": 2
}
