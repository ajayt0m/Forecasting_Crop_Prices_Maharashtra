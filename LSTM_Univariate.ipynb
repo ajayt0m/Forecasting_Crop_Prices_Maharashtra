{
 "cells": [
  {
   "cell_type": "code",
   "execution_count": 175,
   "metadata": {},
   "outputs": [],
   "source": [
    "import pandas as pd\n",
    "\n",
    "file_url = 'https://raw.githubusercontent.com/ajayt0m/Forecasting_Crop_Prices_Maharashtra/Univariate_Standardized/onion_daily_cleaned.csv'\n",
    "\n",
    "onion_df = pd.read_csv(file_url)"
   ]
  },
  {
   "cell_type": "code",
   "execution_count": 176,
   "metadata": {},
   "outputs": [],
   "source": [
    "#Set index as date\n",
    "onion_df.index  = pd.to_datetime(onion_df['date_arrival'], format = '%Y-%m-%d')"
   ]
  },
  {
   "cell_type": "code",
   "execution_count": 177,
   "metadata": {},
   "outputs": [],
   "source": [
    "onion_df['date_arrival'] = pd.to_datetime(onion_df['date_arrival'], format = '%Y-%m-%d')"
   ]
  },
  {
   "cell_type": "code",
   "execution_count": 178,
   "metadata": {},
   "outputs": [
    {
     "data": {
      "text/html": [
       "<div>\n",
       "<style scoped>\n",
       "    .dataframe tbody tr th:only-of-type {\n",
       "        vertical-align: middle;\n",
       "    }\n",
       "\n",
       "    .dataframe tbody tr th {\n",
       "        vertical-align: top;\n",
       "    }\n",
       "\n",
       "    .dataframe thead th {\n",
       "        text-align: right;\n",
       "    }\n",
       "</style>\n",
       "<table border=\"1\" class=\"dataframe\">\n",
       "  <thead>\n",
       "    <tr style=\"text-align: right;\">\n",
       "      <th></th>\n",
       "      <th>date_arrival</th>\n",
       "      <th>MIN</th>\n",
       "      <th>MAX</th>\n",
       "      <th>MODAL</th>\n",
       "      <th>Arrival</th>\n",
       "    </tr>\n",
       "    <tr>\n",
       "      <th>date_arrival</th>\n",
       "      <th></th>\n",
       "      <th></th>\n",
       "      <th></th>\n",
       "      <th></th>\n",
       "      <th></th>\n",
       "    </tr>\n",
       "  </thead>\n",
       "  <tbody>\n",
       "    <tr>\n",
       "      <th>2021-01-01</th>\n",
       "      <td>2021-01-01</td>\n",
       "      <td>865.15</td>\n",
       "      <td>2706.88</td>\n",
       "      <td>2060.60</td>\n",
       "      <td>11575.0</td>\n",
       "    </tr>\n",
       "    <tr>\n",
       "      <th>2021-01-02</th>\n",
       "      <td>2021-01-02</td>\n",
       "      <td>1105.07</td>\n",
       "      <td>2720.16</td>\n",
       "      <td>2181.84</td>\n",
       "      <td>15560.0</td>\n",
       "    </tr>\n",
       "    <tr>\n",
       "      <th>2021-01-03</th>\n",
       "      <td>2021-01-03</td>\n",
       "      <td>1129.41</td>\n",
       "      <td>2741.47</td>\n",
       "      <td>2141.18</td>\n",
       "      <td>3954.0</td>\n",
       "    </tr>\n",
       "    <tr>\n",
       "      <th>2021-01-04</th>\n",
       "      <td>2021-01-04</td>\n",
       "      <td>967.31</td>\n",
       "      <td>2754.16</td>\n",
       "      <td>2167.55</td>\n",
       "      <td>21441.0</td>\n",
       "    </tr>\n",
       "    <tr>\n",
       "      <th>2021-01-05</th>\n",
       "      <td>2021-01-05</td>\n",
       "      <td>1188.84</td>\n",
       "      <td>2793.71</td>\n",
       "      <td>2275.47</td>\n",
       "      <td>21526.0</td>\n",
       "    </tr>\n",
       "    <tr>\n",
       "      <th>2021-01-06</th>\n",
       "      <td>2021-01-06</td>\n",
       "      <td>1335.29</td>\n",
       "      <td>2698.00</td>\n",
       "      <td>2242.65</td>\n",
       "      <td>7103.0</td>\n",
       "    </tr>\n",
       "    <tr>\n",
       "      <th>2021-01-07</th>\n",
       "      <td>2021-01-07</td>\n",
       "      <td>1335.29</td>\n",
       "      <td>2698.00</td>\n",
       "      <td>2242.65</td>\n",
       "      <td>7103.0</td>\n",
       "    </tr>\n",
       "    <tr>\n",
       "      <th>2021-01-08</th>\n",
       "      <td>2021-01-08</td>\n",
       "      <td>1335.29</td>\n",
       "      <td>2698.00</td>\n",
       "      <td>2242.65</td>\n",
       "      <td>7103.0</td>\n",
       "    </tr>\n",
       "    <tr>\n",
       "      <th>2021-01-09</th>\n",
       "      <td>2021-01-09</td>\n",
       "      <td>1160.00</td>\n",
       "      <td>3223.00</td>\n",
       "      <td>2832.40</td>\n",
       "      <td>3389.0</td>\n",
       "    </tr>\n",
       "    <tr>\n",
       "      <th>2021-01-10</th>\n",
       "      <td>2021-01-10</td>\n",
       "      <td>633.33</td>\n",
       "      <td>3366.67</td>\n",
       "      <td>2375.00</td>\n",
       "      <td>394.0</td>\n",
       "    </tr>\n",
       "  </tbody>\n",
       "</table>\n",
       "</div>"
      ],
      "text/plain": [
       "             date_arrival      MIN      MAX    MODAL  Arrival\n",
       "date_arrival                                                 \n",
       "2021-01-01     2021-01-01   865.15  2706.88  2060.60  11575.0\n",
       "2021-01-02     2021-01-02  1105.07  2720.16  2181.84  15560.0\n",
       "2021-01-03     2021-01-03  1129.41  2741.47  2141.18   3954.0\n",
       "2021-01-04     2021-01-04   967.31  2754.16  2167.55  21441.0\n",
       "2021-01-05     2021-01-05  1188.84  2793.71  2275.47  21526.0\n",
       "2021-01-06     2021-01-06  1335.29  2698.00  2242.65   7103.0\n",
       "2021-01-07     2021-01-07  1335.29  2698.00  2242.65   7103.0\n",
       "2021-01-08     2021-01-08  1335.29  2698.00  2242.65   7103.0\n",
       "2021-01-09     2021-01-09  1160.00  3223.00  2832.40   3389.0\n",
       "2021-01-10     2021-01-10   633.33  3366.67  2375.00    394.0"
      ]
     },
     "metadata": {},
     "output_type": "display_data"
    }
   ],
   "source": [
    "with pd.option_context(\"display.max_columns\", None, \"display.max_rows\", None):\n",
    "    display(onion_df.head(10))"
   ]
  },
  {
   "cell_type": "code",
   "execution_count": 179,
   "metadata": {},
   "outputs": [
    {
     "name": "stdout",
     "output_type": "stream",
     "text": [
      "<class 'pandas.core.frame.DataFrame'>\n",
      "DatetimeIndex: 1004 entries, 2021-01-01 to 2023-10-01\n",
      "Data columns (total 5 columns):\n",
      " #   Column        Non-Null Count  Dtype         \n",
      "---  ------        --------------  -----         \n",
      " 0   date_arrival  1004 non-null   datetime64[ns]\n",
      " 1   MIN           1004 non-null   float64       \n",
      " 2   MAX           1004 non-null   float64       \n",
      " 3   MODAL         1004 non-null   float64       \n",
      " 4   Arrival       1004 non-null   float64       \n",
      "dtypes: datetime64[ns](1), float64(4)\n",
      "memory usage: 47.1 KB\n"
     ]
    }
   ],
   "source": [
    "onion_df.info()"
   ]
  },
  {
   "cell_type": "code",
   "execution_count": 180,
   "metadata": {},
   "outputs": [
    {
     "data": {
      "text/plain": [
       "<AxesSubplot: xlabel='date_arrival'>"
      ]
     },
     "execution_count": 180,
     "metadata": {},
     "output_type": "execute_result"
    },
    {
     "data": {
      "image/png": "[encoded data removed]",
      "text/plain": [
       "<Figure size 640x480 with 1 Axes>"
      ]
     },
     "metadata": {},
     "output_type": "display_data"
    }
   ],
   "source": [
    "price = onion_df['MODAL']\n",
    "price.plot()"
   ]
  },
  {
   "cell_type": "code",
   "execution_count": 181,
   "metadata": {},
   "outputs": [
    {
     "data": {
      "text/plain": [
       "date_arrival\n",
       "2021-01-01    2060.60\n",
       "2021-01-02    2181.84\n",
       "2021-01-03    2141.18\n",
       "2021-01-04    2167.55\n",
       "2021-01-05    2275.47\n",
       "2021-01-06    2242.65\n",
       "2021-01-07    2242.65\n",
       "2021-01-08    2242.65\n",
       "2021-01-09    2832.40\n",
       "2021-01-10    2375.00\n",
       "Name: MODAL, dtype: float64"
      ]
     },
     "metadata": {},
     "output_type": "display_data"
    }
   ],
   "source": [
    "with pd.option_context(\"display.max_columns\", None, \"display.max_rows\", None):\n",
    "    display(price.head(10))"
   ]
  },
  {
   "cell_type": "code",
   "execution_count": 182,
   "metadata": {},
   "outputs": [],
   "source": [
    "import numpy as np\n",
    "\n",
    "def df_to_X_y(df, window_size=5):\n",
    "  indices = df.index\n",
    "  df_as_np = df.to_numpy()\n",
    "  X = []\n",
    "  y = []\n",
    "  for i in range(len(df_as_np)-window_size):\n",
    "    row = [[a] for a in df_as_np[i:i+window_size]]\n",
    "    X.append(row)\n",
    "    label = df_as_np[i+window_size]\n",
    "    y.append(label)\n",
    "  return np.array(X), np.array(y), indices"
   ]
  },
  {
   "cell_type": "code",
   "execution_count": 183,
   "metadata": {},
   "outputs": [
    {
     "data": {
      "text/plain": [
       "((989, 15, 1), (989,))"
      ]
     },
     "execution_count": 183,
     "metadata": {},
     "output_type": "execute_result"
    }
   ],
   "source": [
    "WINDOW_SIZE = 15\n",
    "X, y, indices  = df_to_X_y(price, WINDOW_SIZE)\n",
    "X.shape, y.shape"
   ]
  },
  {
   "cell_type": "code",
   "execution_count": 184,
   "metadata": {},
   "outputs": [
    {
     "data": {
      "text/plain": [
       "array([[[2060.6 ],\n",
       "        [2181.84],\n",
       "        [2141.18],\n",
       "        ...,\n",
       "        [2076.5 ],\n",
       "        [2319.16],\n",
       "        [2391.25]],\n",
       "\n",
       "       [[2181.84],\n",
       "        [2141.18],\n",
       "        [2167.55],\n",
       "        ...,\n",
       "        [2319.16],\n",
       "        [2391.25],\n",
       "        [2394.59]],\n",
       "\n",
       "       [[2141.18],\n",
       "        [2167.55],\n",
       "        [2275.47],\n",
       "        ...,\n",
       "        [2391.25],\n",
       "        [2394.59],\n",
       "        [2298.81]],\n",
       "\n",
       "       ...,\n",
       "\n",
       "       [[1738.89],\n",
       "        [1765.26],\n",
       "        [1811.44],\n",
       "        ...,\n",
       "        [1878.12],\n",
       "        [1978.39],\n",
       "        [2104.41]],\n",
       "\n",
       "       [[1765.26],\n",
       "        [1811.44],\n",
       "        [1678.89],\n",
       "        ...,\n",
       "        [1978.39],\n",
       "        [2104.41],\n",
       "        [1874.3 ]],\n",
       "\n",
       "       [[1811.44],\n",
       "        [1678.89],\n",
       "        [1819.26],\n",
       "        ...,\n",
       "        [2104.41],\n",
       "        [1874.3 ],\n",
       "        [1982.  ]]])"
      ]
     },
     "execution_count": 184,
     "metadata": {},
     "output_type": "execute_result"
    }
   ],
   "source": [
    "X"
   ]
  },
  {
   "cell_type": "code",
   "execution_count": 185,
   "metadata": {},
   "outputs": [
    {
     "data": {
      "text/plain": [
       "((800, 15, 1), (800,), (100, 15, 1), (100,), (89, 15, 1), (89,))"
      ]
     },
     "execution_count": 185,
     "metadata": {},
     "output_type": "execute_result"
    }
   ],
   "source": [
    "X_train, y_train = X[:800], y[:800]\n",
    "X_val, y_val = X[800:900], y[800:900]\n",
    "X_test, y_test = X[900:], y[900:]\n",
    "X_train.shape, y_train.shape, X_val.shape, y_val.shape, X_test.shape, y_test.shape"
   ]
  },
  {
   "cell_type": "code",
   "execution_count": 186,
   "metadata": {},
   "outputs": [
    {
     "data": {
      "text/plain": [
       "array([1245.83, 1291.2 , 1210.6 , 1206.83, 1252.27, 1108.48, 1195.57,\n",
       "       1171.26, 1185.87, 1143.76, 1148.9 , 1326.93, 1149.9 , 1256.03,\n",
       "       1202.81, 1212.54, 1414.06, 1129.23, 1248.93, 1162.05, 1166.28,\n",
       "       1184.36, 1191.72, 1204.6 , 1162.71, 1304.72, 1184.25, 1256.28,\n",
       "       1261.52, 1306.15, 1535.75, 1373.94, 1406.93, 1521.04, 1535.14,\n",
       "       1526.87, 1629.05, 1765.82, 1803.41, 1866.24, 1940.02, 1598.5 ,\n",
       "       1846.82, 1901.62, 1858.09, 1802.04, 1750.25, 1840.98, 1831.78,\n",
       "       1861.85, 1817.04, 1862.65, 1826.  , 1788.54, 1810.16, 1906.7 ,\n",
       "       1725.  , 1837.94, 1828.39, 1957.6 , 1820.24, 1889.37, 1898.  ,\n",
       "       1926.74, 1929.74, 1819.7 , 1851.77, 1762.44, 1850.85, 1820.98,\n",
       "       1843.26, 1738.89, 1765.26, 1811.44, 1678.89, 1819.26, 1818.48,\n",
       "       1821.37, 1801.32, 1785.52, 1840.66, 1968.27, 1912.86, 1878.12,\n",
       "       1978.39, 2104.41, 1874.3 , 1982.  , 1840.33])"
      ]
     },
     "execution_count": 186,
     "metadata": {},
     "output_type": "execute_result"
    }
   ],
   "source": [
    "y_test"
   ]
  },
  {
   "cell_type": "code",
   "execution_count": 187,
   "metadata": {},
   "outputs": [],
   "source": [
    "price_training_mean = np.mean(X_train[:, :, 0]).round(2)\n",
    "price_training_std = np.std(X_train[:, :, 0]).round(2)\n",
    "\n",
    "def preprocess(X):\n",
    "  X[:, :, 0] = (X[:, :, 0] - price_training_mean) / price_training_std\n",
    "  return X"
   ]
  },
  {
   "cell_type": "code",
   "execution_count": 188,
   "metadata": {},
   "outputs": [
    {
     "data": {
      "text/plain": [
       "1463.23"
      ]
     },
     "execution_count": 188,
     "metadata": {},
     "output_type": "execute_result"
    }
   ],
   "source": [
    "price_training_mean"
   ]
  },
  {
   "cell_type": "code",
   "execution_count": 189,
   "metadata": {},
   "outputs": [
    {
     "data": {
      "text/plain": [
       "array([[[-1.01822268],\n",
       "        [-1.05914411],\n",
       "        [-1.00206012],\n",
       "        ...,\n",
       "        [-0.44358086],\n",
       "        [-0.58649686],\n",
       "        [-0.43391703]],\n",
       "\n",
       "       [[-1.05914411],\n",
       "        [-1.00206012],\n",
       "        [-1.00129226],\n",
       "        ...,\n",
       "        [-0.58649686],\n",
       "        [-0.43391703],\n",
       "        [-0.40715423]],\n",
       "\n",
       "       [[-1.00206012],\n",
       "        [-1.00129226],\n",
       "        [-1.05045416],\n",
       "        ...,\n",
       "        [-0.43391703],\n",
       "        [-0.40715423],\n",
       "        [-0.32218373]],\n",
       "\n",
       "       ...,\n",
       "\n",
       "       [[ 0.51626557],\n",
       "        [ 0.56565221],\n",
       "        [ 0.65213971],\n",
       "        ...,\n",
       "        [ 0.77702032],\n",
       "        [ 0.96480944],\n",
       "        [ 1.20082405]],\n",
       "\n",
       "       [[ 0.56565221],\n",
       "        [ 0.65213971],\n",
       "        [ 0.4038955 ],\n",
       "        ...,\n",
       "        [ 0.96480944],\n",
       "        [ 1.20082405],\n",
       "        [ 0.76986609]],\n",
       "\n",
       "       [[ 0.65213971],\n",
       "        [ 0.4038955 ],\n",
       "        [ 0.66678528],\n",
       "        ...,\n",
       "        [ 1.20082405],\n",
       "        [ 0.76986609],\n",
       "        [ 0.97157037]]])"
      ]
     },
     "execution_count": 189,
     "metadata": {},
     "output_type": "execute_result"
    }
   ],
   "source": [
    "preprocess(X_train)\n",
    "preprocess(X_val)\n",
    "preprocess(X_test)"
   ]
  },
  {
   "cell_type": "code",
   "execution_count": 215,
   "metadata": {},
   "outputs": [],
   "source": [
    "def preprocess_output(y):\n",
    "  y[:,] = (y[:,] - price_training_mean) / price_training_std \n",
    "  return y"
   ]
  },
  {
   "cell_type": "code",
   "execution_count": 216,
   "metadata": {},
   "outputs": [
    {
     "data": {
      "text/plain": [
       "array([-0.40715423, -0.32218373, -0.47313419, -0.48019477, -0.39509317,\n",
       "       -0.66438805, -0.50128289, -0.5468115 , -0.51944939, -0.59831445,\n",
       "       -0.58868808, -0.25526735, -0.58681524, -0.38805132, -0.48772357,\n",
       "       -0.46950089, -0.09208727, -0.62552673, -0.40134844, -0.56406031,\n",
       "       -0.55613822, -0.52227737, -0.5084933 , -0.4843712 , -0.56282423,\n",
       "       -0.296863  , -0.52248338, -0.38758311, -0.37776945, -0.29418485,\n",
       "        0.13581796, -0.1672254 , -0.10544058,  0.10826856,  0.13467553,\n",
       "        0.11918719,  0.31055342,  0.566701  ,  0.63710085,  0.75477105,\n",
       "        0.89294878,  0.25333833,  0.7184006 ,  0.82103193,  0.73950744,\n",
       "        0.63453507,  0.53754097,  0.70746325,  0.69023317,  0.7465493 ,\n",
       "        0.66262759,  0.74804757,  0.67940818,  0.6092518 ,  0.64974249,\n",
       "        0.83054593,  0.4902519 ,  0.70176983,  0.68388426,  0.92587321,\n",
       "        0.66862066,  0.79808971,  0.81425227,  0.86807754,  0.87369604,\n",
       "        0.66760933,  0.72767113,  0.56037082,  0.72594812,  0.67000655,\n",
       "        0.71173331,  0.51626557,  0.56565221,  0.65213971,  0.4038955 ,\n",
       "        0.66678528,  0.66532447,  0.67073696,  0.63318663,  0.60359584,\n",
       "        0.70686394,  0.94585635,  0.84208259,  0.77702032,  0.96480944,\n",
       "        1.20082405,  0.76986609,  0.97157037,  0.7062459 ])"
      ]
     },
     "execution_count": 216,
     "metadata": {},
     "output_type": "execute_result"
    }
   ],
   "source": [
    "preprocess_output(y_train)\n",
    "preprocess_output(y_val)\n",
    "preprocess_output(y_test)"
   ]
  },
  {
   "cell_type": "code",
   "execution_count": 218,
   "metadata": {},
   "outputs": [
    {
     "name": "stdout",
     "output_type": "stream",
     "text": [
      "Model: \"sequential_3\"\n",
      "_________________________________________________________________\n",
      " Layer (type)                Output Shape              Param #   \n",
      "=================================================================\n",
      " lstm_3 (LSTM)               (None, 136)               75072     \n",
      "                                                                 \n",
      " dense_3 (Dense)             (None, 1)                 137       \n",
      "                                                                 \n",
      "=================================================================\n",
      "Total params: 75209 (293.79 KB)\n",
      "Trainable params: 75209 (293.79 KB)\n",
      "Non-trainable params: 0 (0.00 Byte)\n",
      "_________________________________________________________________\n"
     ]
    }
   ],
   "source": [
    "from tensorflow.keras.models import Sequential\n",
    "from tensorflow.keras.layers import *\n",
    "from tensorflow.keras.callbacks import ModelCheckpoint\n",
    "from tensorflow.keras.losses import MeanSquaredError\n",
    "from tensorflow.keras.metrics import RootMeanSquaredError\n",
    "from tensorflow.keras.optimizers import Adam\n",
    "\n",
    "model1 = Sequential()\n",
    "model1.add(InputLayer((15, 1)))\n",
    "model1.add(LSTM(136, activation='relu'))\n",
    "model1.add(Dense(1))\n",
    "\n",
    "model1.summary()"
   ]
  },
  {
   "cell_type": "code",
   "execution_count": 219,
   "metadata": {},
   "outputs": [],
   "source": [
    "cp1 = ModelCheckpoint('model1/', save_best_only=True)\n",
    "model1.compile(loss=MeanSquaredError(), optimizer=Adam(learning_rate=0.0001), metrics=[RootMeanSquaredError()])"
   ]
  },
  {
   "cell_type": "code",
   "execution_count": 220,
   "metadata": {},
   "outputs": [
    {
     "name": "stdout",
     "output_type": "stream",
     "text": [
      "Epoch 1/20\n",
      "23/25 [==========================>...] - ETA: 0s - loss: 0.9247 - root_mean_squared_error: 0.9616INFO:tensorflow:Assets written to: model1\\assets\n"
     ]
    },
    {
     "name": "stderr",
     "output_type": "stream",
     "text": [
      "INFO:tensorflow:Assets written to: model1\\assets\n"
     ]
    },
    {
     "name": "stdout",
     "output_type": "stream",
     "text": [
      "25/25 [==============================] - 4s 109ms/step - loss: 0.8998 - root_mean_squared_error: 0.9486 - val_loss: 1.2649 - val_root_mean_squared_error: 1.1247\n",
      "Epoch 2/20\n",
      "25/25 [==============================] - ETA: 0s - loss: 0.7584 - root_mean_squared_error: 0.8709INFO:tensorflow:Assets written to: model1\\assets\n"
     ]
    },
    {
     "name": "stderr",
     "output_type": "stream",
     "text": [
      "INFO:tensorflow:Assets written to: model1\\assets\n"
     ]
    },
    {
     "name": "stdout",
     "output_type": "stream",
     "text": [
      "25/25 [==============================] - 2s 81ms/step - loss: 0.7584 - root_mean_squared_error: 0.8709 - val_loss: 0.8601 - val_root_mean_squared_error: 0.9274\n",
      "Epoch 3/20\n",
      "25/25 [==============================] - ETA: 0s - loss: 0.6109 - root_mean_squared_error: 0.7816INFO:tensorflow:Assets written to: model1\\assets\n"
     ]
    },
    {
     "name": "stderr",
     "output_type": "stream",
     "text": [
      "INFO:tensorflow:Assets written to: model1\\assets\n"
     ]
    },
    {
     "name": "stdout",
     "output_type": "stream",
     "text": [
      "25/25 [==============================] - 3s 104ms/step - loss: 0.6109 - root_mean_squared_error: 0.7816 - val_loss: 0.3650 - val_root_mean_squared_error: 0.6042\n",
      "Epoch 4/20\n",
      "23/25 [==========================>...] - ETA: 0s - loss: 0.4464 - root_mean_squared_error: 0.6682INFO:tensorflow:Assets written to: model1\\assets\n"
     ]
    },
    {
     "name": "stderr",
     "output_type": "stream",
     "text": [
      "INFO:tensorflow:Assets written to: model1\\assets\n"
     ]
    },
    {
     "name": "stdout",
     "output_type": "stream",
     "text": [
      "25/25 [==============================] - 2s 93ms/step - loss: 0.4504 - root_mean_squared_error: 0.6711 - val_loss: 0.0589 - val_root_mean_squared_error: 0.2427\n",
      "Epoch 5/20\n",
      "24/25 [===========================>..] - ETA: 0s - loss: 0.3234 - root_mean_squared_error: 0.5687INFO:tensorflow:Assets written to: model1\\assets\n"
     ]
    },
    {
     "name": "stderr",
     "output_type": "stream",
     "text": [
      "INFO:tensorflow:Assets written to: model1\\assets\n"
     ]
    },
    {
     "name": "stdout",
     "output_type": "stream",
     "text": [
      "25/25 [==============================] - 2s 87ms/step - loss: 0.3204 - root_mean_squared_error: 0.5660 - val_loss: 0.0415 - val_root_mean_squared_error: 0.2036\n",
      "Epoch 6/20\n",
      "25/25 [==============================] - 0s 18ms/step - loss: 0.1989 - root_mean_squared_error: 0.4460 - val_loss: 0.0545 - val_root_mean_squared_error: 0.2334\n",
      "Epoch 7/20\n",
      "25/25 [==============================] - 0s 18ms/step - loss: 0.1712 - root_mean_squared_error: 0.4137 - val_loss: 0.0436 - val_root_mean_squared_error: 0.2087\n",
      "Epoch 8/20\n",
      "25/25 [==============================] - 0s 19ms/step - loss: 0.1534 - root_mean_squared_error: 0.3917 - val_loss: 0.0532 - val_root_mean_squared_error: 0.2306\n",
      "Epoch 9/20\n",
      "25/25 [==============================] - ETA: 0s - loss: 0.1360 - root_mean_squared_error: 0.3688INFO:tensorflow:Assets written to: model1\\assets\n"
     ]
    },
    {
     "name": "stderr",
     "output_type": "stream",
     "text": [
      "INFO:tensorflow:Assets written to: model1\\assets\n"
     ]
    },
    {
     "name": "stdout",
     "output_type": "stream",
     "text": [
      "25/25 [==============================] - 2s 76ms/step - loss: 0.1360 - root_mean_squared_error: 0.3688 - val_loss: 0.0326 - val_root_mean_squared_error: 0.1806\n",
      "Epoch 10/20\n",
      "25/25 [==============================] - 0s 19ms/step - loss: 0.1242 - root_mean_squared_error: 0.3524 - val_loss: 0.0394 - val_root_mean_squared_error: 0.1986\n",
      "Epoch 11/20\n",
      "25/25 [==============================] - 0s 17ms/step - loss: 0.1133 - root_mean_squared_error: 0.3366 - val_loss: 0.0579 - val_root_mean_squared_error: 0.2406\n",
      "Epoch 12/20\n",
      "25/25 [==============================] - 1s 21ms/step - loss: 0.1120 - root_mean_squared_error: 0.3347 - val_loss: 0.0537 - val_root_mean_squared_error: 0.2317\n",
      "Epoch 13/20\n",
      "25/25 [==============================] - ETA: 0s - loss: 0.1067 - root_mean_squared_error: 0.3266INFO:tensorflow:Assets written to: model1\\assets\n"
     ]
    },
    {
     "name": "stderr",
     "output_type": "stream",
     "text": [
      "INFO:tensorflow:Assets written to: model1\\assets\n"
     ]
    },
    {
     "name": "stdout",
     "output_type": "stream",
     "text": [
      "25/25 [==============================] - 2s 92ms/step - loss: 0.1067 - root_mean_squared_error: 0.3266 - val_loss: 0.0193 - val_root_mean_squared_error: 0.1389\n",
      "Epoch 14/20\n",
      "25/25 [==============================] - 1s 37ms/step - loss: 0.0989 - root_mean_squared_error: 0.3146 - val_loss: 0.0354 - val_root_mean_squared_error: 0.1883\n",
      "Epoch 15/20\n",
      "25/25 [==============================] - 1s 31ms/step - loss: 0.0971 - root_mean_squared_error: 0.3116 - val_loss: 0.0225 - val_root_mean_squared_error: 0.1501\n",
      "Epoch 16/20\n",
      "25/25 [==============================] - 1s 21ms/step - loss: 0.0942 - root_mean_squared_error: 0.3069 - val_loss: 0.0263 - val_root_mean_squared_error: 0.1622\n",
      "Epoch 17/20\n",
      "25/25 [==============================] - 0s 16ms/step - loss: 0.0881 - root_mean_squared_error: 0.2968 - val_loss: 0.0304 - val_root_mean_squared_error: 0.1743\n",
      "Epoch 18/20\n",
      "25/25 [==============================] - 0s 17ms/step - loss: 0.0875 - root_mean_squared_error: 0.2958 - val_loss: 0.0212 - val_root_mean_squared_error: 0.1455\n",
      "Epoch 19/20\n",
      "25/25 [==============================] - 0s 19ms/step - loss: 0.0845 - root_mean_squared_error: 0.2907 - val_loss: 0.0298 - val_root_mean_squared_error: 0.1725\n",
      "Epoch 20/20\n",
      "25/25 [==============================] - 0s 19ms/step - loss: 0.0819 - root_mean_squared_error: 0.2861 - val_loss: 0.0197 - val_root_mean_squared_error: 0.1403\n"
     ]
    },
    {
     "data": {
      "text/plain": [
       "<keras.src.callbacks.History at 0x186cd2412b0>"
      ]
     },
     "execution_count": 220,
     "metadata": {},
     "output_type": "execute_result"
    }
   ],
   "source": [
    "model1.fit(X_train, y_train, validation_data=(X_val, y_val), epochs=20, callbacks=[cp1])"
   ]
  },
  {
   "cell_type": "code",
   "execution_count": 221,
   "metadata": {},
   "outputs": [
    {
     "data": {
      "text/plain": [
       "[<matplotlib.lines.Line2D at 0x186ca8aea90>]"
      ]
     },
     "execution_count": 221,
     "metadata": {},
     "output_type": "execute_result"
    },
    {
     "data": {
      "image/png": "[encoded data removed]",
      "text/plain": [
       "<Figure size 640x480 with 1 Axes>"
      ]
     },
     "metadata": {},
     "output_type": "display_data"
    }
   ],
   "source": [
    "import matplotlib.pyplot as plt\n",
    "\n",
    "loss_per_epoch = model1.history.history['loss']\n",
    "plt.plot(range(len(loss_per_epoch)), loss_per_epoch)"
   ]
  },
  {
   "cell_type": "code",
   "execution_count": 222,
   "metadata": {},
   "outputs": [],
   "source": [
    "def postprocess(arr):\n",
    "  arr = (arr*price_training_std) + price_training_mean\n",
    "  return arr.round(3)"
   ]
  },
  {
   "cell_type": "code",
   "execution_count": 223,
   "metadata": {},
   "outputs": [],
   "source": [
    "def get_predictions_postprocessed(model, X, y):\n",
    "  predictions = model.predict(X).flatten()\n",
    "  price_preds = postprocess(predictions)\n",
    "  price_actuals = postprocess(y)\n",
    "  df = pd.DataFrame(data={'Price Predictions': price_preds,\n",
    "                          'Price Actuals':price_actuals,\n",
    "                          })\n",
    "  df.index = indices[-len(predictions):]\n",
    "  return df"
   ]
  },
  {
   "cell_type": "code",
   "execution_count": 225,
   "metadata": {},
   "outputs": [
    {
     "name": "stdout",
     "output_type": "stream",
     "text": [
      "3/3 [==============================] - 0s 6ms/step\n"
     ]
    },
    {
     "data": {
      "text/html": [
       "<div>\n",
       "<style scoped>\n",
       "    .dataframe tbody tr th:only-of-type {\n",
       "        vertical-align: middle;\n",
       "    }\n",
       "\n",
       "    .dataframe tbody tr th {\n",
       "        vertical-align: top;\n",
       "    }\n",
       "\n",
       "    .dataframe thead th {\n",
       "        text-align: right;\n",
       "    }\n",
       "</style>\n",
       "<table border=\"1\" class=\"dataframe\">\n",
       "  <thead>\n",
       "    <tr style=\"text-align: right;\">\n",
       "      <th></th>\n",
       "      <th>Price Predictions</th>\n",
       "      <th>Price Actuals</th>\n",
       "    </tr>\n",
       "    <tr>\n",
       "      <th>date_arrival</th>\n",
       "      <th></th>\n",
       "      <th></th>\n",
       "    </tr>\n",
       "  </thead>\n",
       "  <tbody>\n",
       "    <tr>\n",
       "      <th>2023-07-05</th>\n",
       "      <td>1153.147949</td>\n",
       "      <td>1245.83</td>\n",
       "    </tr>\n",
       "    <tr>\n",
       "      <th>2023-07-06</th>\n",
       "      <td>1174.400024</td>\n",
       "      <td>1291.20</td>\n",
       "    </tr>\n",
       "    <tr>\n",
       "      <th>2023-07-07</th>\n",
       "      <td>1200.522949</td>\n",
       "      <td>1210.60</td>\n",
       "    </tr>\n",
       "    <tr>\n",
       "      <th>2023-07-08</th>\n",
       "      <td>1211.248047</td>\n",
       "      <td>1206.83</td>\n",
       "    </tr>\n",
       "    <tr>\n",
       "      <th>2023-07-09</th>\n",
       "      <td>1219.847046</td>\n",
       "      <td>1252.27</td>\n",
       "    </tr>\n",
       "    <tr>\n",
       "      <th>...</th>\n",
       "      <td>...</td>\n",
       "      <td>...</td>\n",
       "    </tr>\n",
       "    <tr>\n",
       "      <th>2023-09-27</th>\n",
       "      <td>1849.995972</td>\n",
       "      <td>1978.39</td>\n",
       "    </tr>\n",
       "    <tr>\n",
       "      <th>2023-09-28</th>\n",
       "      <td>1872.343018</td>\n",
       "      <td>2104.41</td>\n",
       "    </tr>\n",
       "    <tr>\n",
       "      <th>2023-09-29</th>\n",
       "      <td>1911.366943</td>\n",
       "      <td>1874.30</td>\n",
       "    </tr>\n",
       "    <tr>\n",
       "      <th>2023-09-30</th>\n",
       "      <td>1909.586060</td>\n",
       "      <td>1982.00</td>\n",
       "    </tr>\n",
       "    <tr>\n",
       "      <th>2023-10-01</th>\n",
       "      <td>1922.128052</td>\n",
       "      <td>1840.33</td>\n",
       "    </tr>\n",
       "  </tbody>\n",
       "</table>\n",
       "<p>89 rows × 2 columns</p>\n",
       "</div>"
      ],
      "text/plain": [
       "              Price Predictions  Price Actuals\n",
       "date_arrival                                  \n",
       "2023-07-05          1153.147949        1245.83\n",
       "2023-07-06          1174.400024        1291.20\n",
       "2023-07-07          1200.522949        1210.60\n",
       "2023-07-08          1211.248047        1206.83\n",
       "2023-07-09          1219.847046        1252.27\n",
       "...                         ...            ...\n",
       "2023-09-27          1849.995972        1978.39\n",
       "2023-09-28          1872.343018        2104.41\n",
       "2023-09-29          1911.366943        1874.30\n",
       "2023-09-30          1909.586060        1982.00\n",
       "2023-10-01          1922.128052        1840.33\n",
       "\n",
       "[89 rows x 2 columns]"
      ]
     },
     "execution_count": 225,
     "metadata": {},
     "output_type": "execute_result"
    }
   ],
   "source": [
    "post_processed_df = get_predictions_postprocessed(model1, X_test, y_test)\n",
    "post_processed_df"
   ]
  },
  {
   "cell_type": "code",
   "execution_count": 226,
   "metadata": {},
   "outputs": [
    {
     "data": {
      "image/png": "[encoded data removed]",
      "text/plain": [
       "<Figure size 640x480 with 1 Axes>"
      ]
     },
     "metadata": {},
     "output_type": "display_data"
    }
   ],
   "source": [
    "import matplotlib.pyplot as plt\n",
    "\n",
    "plt.plot(post_processed_df.index, post_processed_df['Price Predictions'], label='Price Predictions')\n",
    "plt.plot(post_processed_df.index, post_processed_df['Price Actuals'], label='Price Actuals')\n",
    "\n",
    "\n",
    "plt.xlabel('Date')\n",
    "plt.ylabel('Price')\n",
    "plt.title('Actual vs Predicted Price Over Time')\n",
    "plt.legend()\n",
    "\n",
    "plt.xticks(rotation=45)\n",
    "plt.tight_layout()\n",
    "plt.show()"
   ]
  },
  {
   "cell_type": "code",
   "execution_count": 228,
   "metadata": {},
   "outputs": [
    {
     "data": {
      "text/html": [
       "<div>\n",
       "<style scoped>\n",
       "    .dataframe tbody tr th:only-of-type {\n",
       "        vertical-align: middle;\n",
       "    }\n",
       "\n",
       "    .dataframe tbody tr th {\n",
       "        vertical-align: top;\n",
       "    }\n",
       "\n",
       "    .dataframe thead th {\n",
       "        text-align: right;\n",
       "    }\n",
       "</style>\n",
       "<table border=\"1\" class=\"dataframe\">\n",
       "  <thead>\n",
       "    <tr style=\"text-align: right;\">\n",
       "      <th></th>\n",
       "      <th>Price Predictions</th>\n",
       "      <th>Price Actuals</th>\n",
       "    </tr>\n",
       "    <tr>\n",
       "      <th>date_arrival</th>\n",
       "      <th></th>\n",
       "      <th></th>\n",
       "    </tr>\n",
       "  </thead>\n",
       "  <tbody>\n",
       "    <tr>\n",
       "      <th>2023-07-05</th>\n",
       "      <td>1153.147949</td>\n",
       "      <td>1245.83</td>\n",
       "    </tr>\n",
       "    <tr>\n",
       "      <th>2023-07-06</th>\n",
       "      <td>1174.400024</td>\n",
       "      <td>1291.20</td>\n",
       "    </tr>\n",
       "    <tr>\n",
       "      <th>2023-07-07</th>\n",
       "      <td>1200.522949</td>\n",
       "      <td>1210.60</td>\n",
       "    </tr>\n",
       "    <tr>\n",
       "      <th>2023-07-08</th>\n",
       "      <td>1211.248047</td>\n",
       "      <td>1206.83</td>\n",
       "    </tr>\n",
       "    <tr>\n",
       "      <th>2023-07-09</th>\n",
       "      <td>1219.847046</td>\n",
       "      <td>1252.27</td>\n",
       "    </tr>\n",
       "    <tr>\n",
       "      <th>...</th>\n",
       "      <td>...</td>\n",
       "      <td>...</td>\n",
       "    </tr>\n",
       "    <tr>\n",
       "      <th>2023-09-27</th>\n",
       "      <td>1849.995972</td>\n",
       "      <td>1978.39</td>\n",
       "    </tr>\n",
       "    <tr>\n",
       "      <th>2023-09-28</th>\n",
       "      <td>1872.343018</td>\n",
       "      <td>2104.41</td>\n",
       "    </tr>\n",
       "    <tr>\n",
       "      <th>2023-09-29</th>\n",
       "      <td>1911.366943</td>\n",
       "      <td>1874.30</td>\n",
       "    </tr>\n",
       "    <tr>\n",
       "      <th>2023-09-30</th>\n",
       "      <td>1909.586060</td>\n",
       "      <td>1982.00</td>\n",
       "    </tr>\n",
       "    <tr>\n",
       "      <th>2023-10-01</th>\n",
       "      <td>1922.128052</td>\n",
       "      <td>1840.33</td>\n",
       "    </tr>\n",
       "  </tbody>\n",
       "</table>\n",
       "<p>89 rows × 2 columns</p>\n",
       "</div>"
      ],
      "text/plain": [
       "              Price Predictions  Price Actuals\n",
       "date_arrival                                  \n",
       "2023-07-05          1153.147949        1245.83\n",
       "2023-07-06          1174.400024        1291.20\n",
       "2023-07-07          1200.522949        1210.60\n",
       "2023-07-08          1211.248047        1206.83\n",
       "2023-07-09          1219.847046        1252.27\n",
       "...                         ...            ...\n",
       "2023-09-27          1849.995972        1978.39\n",
       "2023-09-28          1872.343018        2104.41\n",
       "2023-09-29          1911.366943        1874.30\n",
       "2023-09-30          1909.586060        1982.00\n",
       "2023-10-01          1922.128052        1840.33\n",
       "\n",
       "[89 rows x 2 columns]"
      ]
     },
     "execution_count": 228,
     "metadata": {},
     "output_type": "execute_result"
    }
   ],
   "source": [
    "post_processed_df"
   ]
  },
  {
   "cell_type": "code",
   "execution_count": 229,
   "metadata": {},
   "outputs": [
    {
     "name": "stdout",
     "output_type": "stream",
     "text": [
      "31/31 [==============================] - 0s 8ms/step\n"
     ]
    },
    {
     "data": {
      "text/html": [
       "<div>\n",
       "<style scoped>\n",
       "    .dataframe tbody tr th:only-of-type {\n",
       "        vertical-align: middle;\n",
       "    }\n",
       "\n",
       "    .dataframe tbody tr th {\n",
       "        vertical-align: top;\n",
       "    }\n",
       "\n",
       "    .dataframe thead th {\n",
       "        text-align: right;\n",
       "    }\n",
       "</style>\n",
       "<table border=\"1\" class=\"dataframe\">\n",
       "  <thead>\n",
       "    <tr style=\"text-align: right;\">\n",
       "      <th></th>\n",
       "      <th>Price Predictions</th>\n",
       "      <th>Price Actuals</th>\n",
       "    </tr>\n",
       "    <tr>\n",
       "      <th>date_arrival</th>\n",
       "      <th></th>\n",
       "      <th></th>\n",
       "    </tr>\n",
       "  </thead>\n",
       "  <tbody>\n",
       "    <tr>\n",
       "      <th>2021-01-16</th>\n",
       "      <td>2340.983887</td>\n",
       "      <td>2394.59</td>\n",
       "    </tr>\n",
       "    <tr>\n",
       "      <th>2021-01-17</th>\n",
       "      <td>2342.143066</td>\n",
       "      <td>2298.81</td>\n",
       "    </tr>\n",
       "    <tr>\n",
       "      <th>2021-01-18</th>\n",
       "      <td>2324.780029</td>\n",
       "      <td>2324.69</td>\n",
       "    </tr>\n",
       "    <tr>\n",
       "      <th>2021-01-19</th>\n",
       "      <td>2314.297119</td>\n",
       "      <td>2490.36</td>\n",
       "    </tr>\n",
       "    <tr>\n",
       "      <th>2021-01-20</th>\n",
       "      <td>2339.496094</td>\n",
       "      <td>2469.96</td>\n",
       "    </tr>\n",
       "    <tr>\n",
       "      <th>...</th>\n",
       "      <td>...</td>\n",
       "      <td>...</td>\n",
       "    </tr>\n",
       "    <tr>\n",
       "      <th>2023-09-27</th>\n",
       "      <td>1849.995972</td>\n",
       "      <td>1978.39</td>\n",
       "    </tr>\n",
       "    <tr>\n",
       "      <th>2023-09-28</th>\n",
       "      <td>1872.343018</td>\n",
       "      <td>2104.41</td>\n",
       "    </tr>\n",
       "    <tr>\n",
       "      <th>2023-09-29</th>\n",
       "      <td>1911.366943</td>\n",
       "      <td>1874.30</td>\n",
       "    </tr>\n",
       "    <tr>\n",
       "      <th>2023-09-30</th>\n",
       "      <td>1909.586060</td>\n",
       "      <td>1982.00</td>\n",
       "    </tr>\n",
       "    <tr>\n",
       "      <th>2023-10-01</th>\n",
       "      <td>1922.128052</td>\n",
       "      <td>1840.33</td>\n",
       "    </tr>\n",
       "  </tbody>\n",
       "</table>\n",
       "<p>989 rows × 2 columns</p>\n",
       "</div>"
      ],
      "text/plain": [
       "              Price Predictions  Price Actuals\n",
       "date_arrival                                  \n",
       "2021-01-16          2340.983887        2394.59\n",
       "2021-01-17          2342.143066        2298.81\n",
       "2021-01-18          2324.780029        2324.69\n",
       "2021-01-19          2314.297119        2490.36\n",
       "2021-01-20          2339.496094        2469.96\n",
       "...                         ...            ...\n",
       "2023-09-27          1849.995972        1978.39\n",
       "2023-09-28          1872.343018        2104.41\n",
       "2023-09-29          1911.366943        1874.30\n",
       "2023-09-30          1909.586060        1982.00\n",
       "2023-10-01          1922.128052        1840.33\n",
       "\n",
       "[989 rows x 2 columns]"
      ]
     },
     "execution_count": 229,
     "metadata": {},
     "output_type": "execute_result"
    }
   ],
   "source": [
    "#Full data points\n",
    "post_processed_fulldf = get_predictions_postprocessed(model1, X, y)\n",
    "post_processed_fulldf"
   ]
  },
  {
   "cell_type": "code",
   "execution_count": 235,
   "metadata": {},
   "outputs": [
    {
     "data": {
      "image/png": "[encoded data removed]",
      "text/plain": [
       "<Figure size 640x480 with 1 Axes>"
      ]
     },
     "metadata": {},
     "output_type": "display_data"
    }
   ],
   "source": [
    "import matplotlib.pyplot as plt\n",
    "\n",
    "plt.plot(post_processed_fulldf.index, post_processed_fulldf['Price Predictions'], label='Price Predictions')\n",
    "plt.plot(post_processed_fulldf.index, post_processed_fulldf['Price Actuals'], label='Price Actuals')\n",
    "\n",
    "\n",
    "plt.xlabel('Date')\n",
    "plt.ylabel('Price')\n",
    "plt.title('Actual vs Predicted Price Over Time')\n",
    "plt.legend()\n",
    "\n",
    "plt.xticks(rotation=45)\n",
    "plt.tight_layout()\n",
    "plt.show()"
   ]
  },
  {
   "cell_type": "code",
   "execution_count": 239,
   "metadata": {},
   "outputs": [
    {
     "name": "stdout",
     "output_type": "stream",
     "text": [
      "1/1 [==============================] - 0s 32ms/step\n",
      "1/1 [==============================] - 0s 27ms/step\n",
      "1/1 [==============================] - 0s 30ms/step\n",
      "1/1 [==============================] - 0s 25ms/step\n",
      "1/1 [==============================] - 0s 26ms/step\n",
      "1/1 [==============================] - 0s 32ms/step\n",
      "1/1 [==============================] - 0s 31ms/step\n",
      "1/1 [==============================] - 0s 27ms/step\n",
      "1/1 [==============================] - 0s 27ms/step\n",
      "1/1 [==============================] - 0s 32ms/step\n",
      "1/1 [==============================] - 0s 30ms/step\n",
      "1/1 [==============================] - 0s 32ms/step\n",
      "1/1 [==============================] - 0s 60ms/step\n",
      "1/1 [==============================] - 0s 33ms/step\n",
      "1/1 [==============================] - 0s 21ms/step\n",
      "1/1 [==============================] - 0s 31ms/step\n",
      "1/1 [==============================] - 0s 37ms/step\n",
      "1/1 [==============================] - 0s 33ms/step\n",
      "1/1 [==============================] - 0s 49ms/step\n",
      "1/1 [==============================] - 0s 30ms/step\n",
      "1/1 [==============================] - 0s 25ms/step\n",
      "1/1 [==============================] - 0s 35ms/step\n",
      "1/1 [==============================] - 0s 50ms/step\n",
      "1/1 [==============================] - 0s 46ms/step\n",
      "1/1 [==============================] - 0s 29ms/step\n",
      "1/1 [==============================] - 0s 43ms/step\n",
      "1/1 [==============================] - 0s 101ms/step\n",
      "1/1 [==============================] - 0s 34ms/step\n",
      "1/1 [==============================] - 0s 35ms/step\n",
      "1/1 [==============================] - 0s 27ms/step\n",
      "1/1 [==============================] - 0s 21ms/step\n",
      "1/1 [==============================] - 0s 22ms/step\n",
      "1/1 [==============================] - 0s 20ms/step\n",
      "1/1 [==============================] - 0s 23ms/step\n",
      "1/1 [==============================] - 0s 24ms/step\n",
      "1/1 [==============================] - 0s 24ms/step\n",
      "1/1 [==============================] - 0s 20ms/step\n",
      "1/1 [==============================] - 0s 31ms/step\n",
      "1/1 [==============================] - 0s 22ms/step\n",
      "1/1 [==============================] - 0s 27ms/step\n",
      "1/1 [==============================] - 0s 23ms/step\n",
      "1/1 [==============================] - 0s 36ms/step\n",
      "1/1 [==============================] - 0s 28ms/step\n",
      "1/1 [==============================] - 0s 22ms/step\n",
      "1/1 [==============================] - 0s 23ms/step\n",
      "1/1 [==============================] - 0s 23ms/step\n",
      "1/1 [==============================] - 0s 25ms/step\n",
      "1/1 [==============================] - 0s 24ms/step\n",
      "1/1 [==============================] - 0s 28ms/step\n",
      "1/1 [==============================] - 0s 27ms/step\n",
      "1/1 [==============================] - 0s 27ms/step\n",
      "1/1 [==============================] - 0s 22ms/step\n",
      "1/1 [==============================] - 0s 30ms/step\n",
      "1/1 [==============================] - 0s 26ms/step\n",
      "1/1 [==============================] - 0s 36ms/step\n",
      "1/1 [==============================] - 0s 31ms/step\n",
      "1/1 [==============================] - 0s 20ms/step\n",
      "1/1 [==============================] - 0s 23ms/step\n",
      "1/1 [==============================] - 0s 20ms/step\n",
      "1/1 [==============================] - 0s 20ms/step\n",
      "1/1 [==============================] - 0s 20ms/step\n",
      "1/1 [==============================] - 0s 26ms/step\n",
      "1/1 [==============================] - 0s 22ms/step\n",
      "1/1 [==============================] - 0s 21ms/step\n",
      "1/1 [==============================] - 0s 19ms/step\n",
      "1/1 [==============================] - 0s 21ms/step\n",
      "1/1 [==============================] - 0s 26ms/step\n",
      "1/1 [==============================] - 0s 22ms/step\n",
      "1/1 [==============================] - 0s 20ms/step\n",
      "1/1 [==============================] - 0s 22ms/step\n",
      "1/1 [==============================] - 0s 24ms/step\n",
      "1/1 [==============================] - 0s 24ms/step\n",
      "1/1 [==============================] - 0s 20ms/step\n",
      "1/1 [==============================] - 0s 20ms/step\n",
      "1/1 [==============================] - 0s 21ms/step\n",
      "1/1 [==============================] - 0s 29ms/step\n",
      "1/1 [==============================] - 0s 34ms/step\n",
      "1/1 [==============================] - 0s 22ms/step\n",
      "1/1 [==============================] - 0s 24ms/step\n",
      "1/1 [==============================] - 0s 20ms/step\n",
      "1/1 [==============================] - 0s 22ms/step\n",
      "1/1 [==============================] - 0s 20ms/step\n",
      "1/1 [==============================] - 0s 22ms/step\n",
      "1/1 [==============================] - 0s 21ms/step\n",
      "1/1 [==============================] - 0s 23ms/step\n",
      "1/1 [==============================] - 0s 23ms/step\n",
      "1/1 [==============================] - 0s 22ms/step\n",
      "1/1 [==============================] - 0s 21ms/step\n",
      "1/1 [==============================] - 0s 27ms/step\n",
      "1/1 [==============================] - 0s 20ms/step\n"
     ]
    },
    {
     "ename": "NameError",
     "evalue": "name 'postprocess_output' is not defined",
     "output_type": "error",
     "traceback": [
      "\u001b[1;31m---------------------------------------------------------------------------\u001b[0m",
      "\u001b[1;31mNameError\u001b[0m                                 Traceback (most recent call last)",
      "\u001b[1;32majayt0m\\Forecasting_Crop_Prices_Maharashtra\\LSTM_Univariate.ipynb Cell 29\u001b[0m line \u001b[0;36m2\n\u001b[0;32m     <a href='vscode-notebook-cell://github%2B7b2276223a312c22726566223a7b2274797065223a342c226964223a22556e69766172696174655f5374616e64617264697a6564227d7d/ajayt0m/Forecasting_Crop_Prices_Maharashtra/LSTM_Univariate.ipynb#Y154sdnNjb2RlLXZmcw%3D%3D?line=25'>26</a>\u001b[0m \u001b[39m# Post-process the forecasted prices\u001b[39;00m\n\u001b[0;32m     <a href='vscode-notebook-cell://github%2B7b2276223a312c22726566223a7b2274797065223a342c226964223a22556e69766172696174655f5374616e64617264697a6564227d7d/ajayt0m/Forecasting_Crop_Prices_Maharashtra/LSTM_Univariate.ipynb#Y154sdnNjb2RlLXZmcw%3D%3D?line=26'>27</a>\u001b[0m forecasted_prices \u001b[39m=\u001b[39m np\u001b[39m.\u001b[39marray(forecasted_prices)\n\u001b[1;32m---> <a href='vscode-notebook-cell://github%2B7b2276223a312c22726566223a7b2274797065223a342c226964223a22556e69766172696174655f5374616e64617264697a6564227d7d/ajayt0m/Forecasting_Crop_Prices_Maharashtra/LSTM_Univariate.ipynb#Y154sdnNjb2RlLXZmcw%3D%3D?line=27'>28</a>\u001b[0m forecasted_prices \u001b[39m=\u001b[39m postprocess_output(forecasted_prices)\n\u001b[0;32m     <a href='vscode-notebook-cell://github%2B7b2276223a312c22726566223a7b2274797065223a342c226964223a22556e69766172696174655f5374616e64617264697a6564227d7d/ajayt0m/Forecasting_Crop_Prices_Maharashtra/LSTM_Univariate.ipynb#Y154sdnNjb2RlLXZmcw%3D%3D?line=29'>30</a>\u001b[0m \u001b[39m# Generate dates for the forecasted period\u001b[39;00m\n\u001b[0;32m     <a href='vscode-notebook-cell://github%2B7b2276223a312c22726566223a7b2274797065223a342c226964223a22556e69766172696174655f5374616e64617264697a6564227d7d/ajayt0m/Forecasting_Crop_Prices_Maharashtra/LSTM_Univariate.ipynb#Y154sdnNjb2RlLXZmcw%3D%3D?line=30'>31</a>\u001b[0m last_date \u001b[39m=\u001b[39m indices[\u001b[39m-\u001b[39m\u001b[39m1\u001b[39m]\n",
      "\u001b[1;31mNameError\u001b[0m: name 'postprocess_output' is not defined"
     ]
    }
   ],
   "source": [
    "import numpy as np\n",
    "\n",
    "# Define the number of days to forecast \n",
    "forecast_days = 90\n",
    "\n",
    "\n",
    "# Prepare input data for prediction\n",
    "last_window = X_test[-1]  # Take the last window from the test data\n",
    "forecast_input = last_window.copy()  # Initialize the input for forecasting\n",
    "\n",
    "# Create an array to store the forecasted prices\n",
    "forecasted_prices = []\n",
    "\n",
    "# Loop to predict the next 90 days\n",
    "for _ in range(forecast_days):\n",
    "    # Predict the price for the next day\n",
    "    forecasted_price = model1.predict(np.expand_dims(forecast_input, axis=0))[0, 0]\n",
    "    \n",
    "    # Add the forecasted price to the list\n",
    "    forecasted_prices.append(forecasted_price)\n",
    "    \n",
    "    # Shift the input window by removing the first element and adding the forecasted price\n",
    "    forecast_input = np.roll(forecast_input, shift=-1)\n",
    "    forecast_input[-1] = forecasted_price\n",
    "\n",
    "# Post-process the forecasted prices\n",
    "forecasted_prices = np.array(forecasted_prices)\n",
    "forecasted_prices = postprocess_output(forecasted_prices)\n",
    "\n",
    "# Generate dates for the forecasted period\n",
    "last_date = indices[-1]\n",
    "forecasted_dates = pd.date_range(start=last_date + pd.Timedelta(days=1), periods=forecast_days)\n",
    "\n",
    "# Create a DataFrame with forecasted dates and prices\n",
    "forecast_df = pd.DataFrame(data={'Date': forecasted_dates, 'Forecasted Price': forecasted_prices})\n",
    "\n",
    "# Display the forecasted DataFrame\n",
    "print(forecast_df)"
   ]
  }
 ],
 "metadata": {
  "kernelspec": {
   "display_name": "Python 3",
   "language": "python",
   "name": "python3"
  },
  "language_info": {
   "codemirror_mode": {
    "name": "ipython",
    "version": 3
   },
   "file_extension": ".py",
   "mimetype": "text/x-python",
   "name": "python",
   "nbconvert_exporter": "python",
   "pygments_lexer": "ipython3",
   "version": "3.9.0"
  },
  "orig_nbformat": 4
 },
 "nbformat": 4,
 "nbformat_minor": 2
}
