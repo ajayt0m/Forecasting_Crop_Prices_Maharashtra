{
 "cells": [
  {
   "cell_type": "code",
   "execution_count": 12,
   "metadata": {},
   "outputs": [],
   "source": [
    "import tensorflow as tf\n",
    "import pandas as pd\n",
    "import numpy as np"
   ]
  },
  {
   "cell_type": "code",
   "execution_count": 1,
   "metadata": {},
   "outputs": [],
   "source": [
    "import pandas as pd\n",
    "\n",
    "file_url = 'https://raw.githubusercontent.com/ajayt0m/Forecasting_Crop_Prices_Maharashtra/main/onion_daily.csv'\n",
    "\n",
    "onion_df = pd.read_csv(file_url, parse_dates=[\"date_arrival\"])"
   ]
  },
  {
   "cell_type": "code",
   "execution_count": 2,
   "metadata": {},
   "outputs": [],
   "source": [
    "onion_grouped = onion_df.groupby('date_arrival').agg({'MIN': 'mean', 'MAX': 'mean', 'MODAL': 'mean', 'Arrival': 'sum'}).reset_index()"
   ]
  },
  {
   "cell_type": "code",
   "execution_count": 3,
   "metadata": {},
   "outputs": [],
   "source": [
    "#Set index as date\n",
    "onion_grouped.set_index('date_arrival', inplace=True)"
   ]
  },
  {
   "cell_type": "markdown",
   "metadata": {},
   "source": [
    "# Decompose"
   ]
  },
  {
   "cell_type": "code",
   "execution_count": 4,
   "metadata": {},
   "outputs": [],
   "source": [
    "from statsmodels.tsa.seasonal import seasonal_decompose\n",
    "\n",
    "# Resample the data to ensure all days are included, filling missing values with NaN\n",
    "onion_grouped = onion_grouped.resample('D').asfreq()\n",
    "\n",
    "# Fill missing values using an appropriate method, such as forward fill or interpolation\n",
    "onion_grouped['MODAL'].fillna(method='ffill', inplace=True)  # Forward fill missing values\n",
    "\n",
    "# Fill missing values using an appropriate method, such as forward fill or interpolation\n",
    "onion_grouped['Arrival'].fillna(method='ffill', inplace=True)  # Forward fill missing values\n",
    "\n",
    "# Fill missing values using an appropriate method, such as forward fill or interpolation\n",
    "onion_grouped['MIN'].fillna(method='ffill', inplace=True)  # Forward fill missing values\n",
    "onion_grouped['MAX'].fillna(method='ffill', inplace=True)  # Forward fill missing values"
   ]
  },
  {
   "cell_type": "code",
   "execution_count": 5,
   "metadata": {},
   "outputs": [
    {
     "data": {
      "text/plain": [
       "MIN        0\n",
       "MAX        0\n",
       "MODAL      0\n",
       "Arrival    0\n",
       "dtype: int64"
      ]
     },
     "execution_count": 5,
     "metadata": {},
     "output_type": "execute_result"
    }
   ],
   "source": [
    "onion_grouped.isna().sum()"
   ]
  },
  {
   "cell_type": "code",
   "execution_count": 6,
   "metadata": {},
   "outputs": [
    {
     "data": {
      "text/plain": [
       "(1004, 4)"
      ]
     },
     "execution_count": 6,
     "metadata": {},
     "output_type": "execute_result"
    }
   ],
   "source": [
    "onion_grouped.shape"
   ]
  },
  {
   "cell_type": "code",
   "execution_count": 7,
   "metadata": {},
   "outputs": [
    {
     "name": "stdout",
     "output_type": "stream",
     "text": [
      "<class 'pandas.core.frame.DataFrame'>\n",
      "DatetimeIndex: 1004 entries, 2021-01-01 to 2023-10-01\n",
      "Freq: D\n",
      "Data columns (total 4 columns):\n",
      " #   Column   Non-Null Count  Dtype  \n",
      "---  ------   --------------  -----  \n",
      " 0   MIN      1004 non-null   float64\n",
      " 1   MAX      1004 non-null   float64\n",
      " 2   MODAL    1004 non-null   float64\n",
      " 3   Arrival  1004 non-null   float64\n",
      "dtypes: float64(4)\n",
      "memory usage: 39.2 KB\n"
     ]
    }
   ],
   "source": [
    "onion_grouped.info()"
   ]
  },
  {
   "cell_type": "code",
   "execution_count": 43,
   "metadata": {},
   "outputs": [],
   "source": [
    "# Drop unwanted columns\n",
    "\n",
    "# List of columns to drop\n",
    "columns_to_drop = ['MIN', 'MAX']\n",
    "\n",
    "# Drop the specified columns\n",
    "onion_grouped.drop(columns=columns_to_drop, inplace=True)"
   ]
  },
  {
   "cell_type": "code",
   "execution_count": 8,
   "metadata": {},
   "outputs": [
    {
     "data": {
      "text/html": [
       "<div>\n",
       "<style scoped>\n",
       "    .dataframe tbody tr th:only-of-type {\n",
       "        vertical-align: middle;\n",
       "    }\n",
       "\n",
       "    .dataframe tbody tr th {\n",
       "        vertical-align: top;\n",
       "    }\n",
       "\n",
       "    .dataframe thead th {\n",
       "        text-align: right;\n",
       "    }\n",
       "</style>\n",
       "<table border=\"1\" class=\"dataframe\">\n",
       "  <thead>\n",
       "    <tr style=\"text-align: right;\">\n",
       "      <th></th>\n",
       "      <th>MIN</th>\n",
       "      <th>MAX</th>\n",
       "      <th>MODAL</th>\n",
       "      <th>Arrival</th>\n",
       "    </tr>\n",
       "    <tr>\n",
       "      <th>date_arrival</th>\n",
       "      <th></th>\n",
       "      <th></th>\n",
       "      <th></th>\n",
       "      <th></th>\n",
       "    </tr>\n",
       "  </thead>\n",
       "  <tbody>\n",
       "    <tr>\n",
       "      <th>2021-01-01</th>\n",
       "      <td>865.145833</td>\n",
       "      <td>2706.875000</td>\n",
       "      <td>2060.604167</td>\n",
       "      <td>11575.00</td>\n",
       "    </tr>\n",
       "    <tr>\n",
       "      <th>2021-01-02</th>\n",
       "      <td>1105.066667</td>\n",
       "      <td>2720.155556</td>\n",
       "      <td>2181.844444</td>\n",
       "      <td>15560.00</td>\n",
       "    </tr>\n",
       "    <tr>\n",
       "      <th>2021-01-03</th>\n",
       "      <td>1129.411765</td>\n",
       "      <td>2741.470588</td>\n",
       "      <td>2141.176471</td>\n",
       "      <td>3954.00</td>\n",
       "    </tr>\n",
       "    <tr>\n",
       "      <th>2021-01-04</th>\n",
       "      <td>967.306122</td>\n",
       "      <td>2754.163265</td>\n",
       "      <td>2167.551020</td>\n",
       "      <td>21441.00</td>\n",
       "    </tr>\n",
       "    <tr>\n",
       "      <th>2021-01-05</th>\n",
       "      <td>1188.836735</td>\n",
       "      <td>2793.714286</td>\n",
       "      <td>2275.469388</td>\n",
       "      <td>21526.00</td>\n",
       "    </tr>\n",
       "    <tr>\n",
       "      <th>...</th>\n",
       "      <td>...</td>\n",
       "      <td>...</td>\n",
       "      <td>...</td>\n",
       "      <td>...</td>\n",
       "    </tr>\n",
       "    <tr>\n",
       "      <th>2023-09-27</th>\n",
       "      <td>948.090909</td>\n",
       "      <td>2731.454545</td>\n",
       "      <td>1978.393939</td>\n",
       "      <td>17023.00</td>\n",
       "    </tr>\n",
       "    <tr>\n",
       "      <th>2023-09-28</th>\n",
       "      <td>1317.647059</td>\n",
       "      <td>2629.470588</td>\n",
       "      <td>2104.411765</td>\n",
       "      <td>10241.00</td>\n",
       "    </tr>\n",
       "    <tr>\n",
       "      <th>2023-09-29</th>\n",
       "      <td>878.925926</td>\n",
       "      <td>2629.555556</td>\n",
       "      <td>1874.296296</td>\n",
       "      <td>10973.12</td>\n",
       "    </tr>\n",
       "    <tr>\n",
       "      <th>2023-09-30</th>\n",
       "      <td>1006.000000</td>\n",
       "      <td>2626.200000</td>\n",
       "      <td>1982.000000</td>\n",
       "      <td>18822.00</td>\n",
       "    </tr>\n",
       "    <tr>\n",
       "      <th>2023-10-01</th>\n",
       "      <td>1030.555556</td>\n",
       "      <td>2470.055556</td>\n",
       "      <td>1840.333333</td>\n",
       "      <td>10627.00</td>\n",
       "    </tr>\n",
       "  </tbody>\n",
       "</table>\n",
       "<p>1004 rows × 4 columns</p>\n",
       "</div>"
      ],
      "text/plain": [
       "                      MIN          MAX        MODAL   Arrival\n",
       "date_arrival                                                 \n",
       "2021-01-01     865.145833  2706.875000  2060.604167  11575.00\n",
       "2021-01-02    1105.066667  2720.155556  2181.844444  15560.00\n",
       "2021-01-03    1129.411765  2741.470588  2141.176471   3954.00\n",
       "2021-01-04     967.306122  2754.163265  2167.551020  21441.00\n",
       "2021-01-05    1188.836735  2793.714286  2275.469388  21526.00\n",
       "...                   ...          ...          ...       ...\n",
       "2023-09-27     948.090909  2731.454545  1978.393939  17023.00\n",
       "2023-09-28    1317.647059  2629.470588  2104.411765  10241.00\n",
       "2023-09-29     878.925926  2629.555556  1874.296296  10973.12\n",
       "2023-09-30    1006.000000  2626.200000  1982.000000  18822.00\n",
       "2023-10-01    1030.555556  2470.055556  1840.333333  10627.00\n",
       "\n",
       "[1004 rows x 4 columns]"
      ]
     },
     "execution_count": 8,
     "metadata": {},
     "output_type": "execute_result"
    }
   ],
   "source": [
    "onion_grouped"
   ]
  },
  {
   "cell_type": "code",
   "execution_count": 10,
   "metadata": {},
   "outputs": [
    {
     "data": {
      "text/plain": [
       "<AxesSubplot: xlabel='date_arrival'>"
      ]
     },
     "execution_count": 10,
     "metadata": {},
     "output_type": "execute_result"
    },
    {
     "data": {
      "image/png": "[encoded data removed]",
      "text/plain": [
       "<Figure size 640x480 with 1 Axes>"
      ]
     },
     "metadata": {},
     "output_type": "display_data"
    }
   ],
   "source": [
    "temp = onion_grouped['MODAL']\n",
    "temp.plot()"
   ]
  },
  {
   "cell_type": "code",
   "execution_count": 13,
   "metadata": {},
   "outputs": [],
   "source": [
    "# Tensor format\n",
    "\n",
    "def df_to_X_y(df, window_size=5):\n",
    "  df_as_np = df.to_numpy()\n",
    "  X = []\n",
    "  y = []\n",
    "  for i in range(len(df_as_np)-window_size):\n",
    "    row = [[a] for a in df_as_np[i:i+window_size]]\n",
    "    X.append(row)\n",
    "    label = df_as_np[i+window_size]\n",
    "    y.append(label)\n",
    "  return np.array(X), np.array(y)"
   ]
  },
  {
   "cell_type": "code",
   "execution_count": 14,
   "metadata": {},
   "outputs": [
    {
     "data": {
      "text/plain": [
       "((999, 5, 1), (999,))"
      ]
     },
     "execution_count": 14,
     "metadata": {},
     "output_type": "execute_result"
    }
   ],
   "source": [
    "WINDOW_SIZE = 5\n",
    "X1, y1 = df_to_X_y(temp, WINDOW_SIZE)\n",
    "X1.shape, y1.shape"
   ]
  },
  {
   "cell_type": "markdown",
   "metadata": {},
   "source": [
    "# Splitting"
   ]
  },
  {
   "cell_type": "code",
   "execution_count": 15,
   "metadata": {},
   "outputs": [
    {
     "data": {
      "text/plain": [
       "((800, 5, 1), (800,), (100, 5, 1), (100,), (99, 5, 1), (99,))"
      ]
     },
     "execution_count": 15,
     "metadata": {},
     "output_type": "execute_result"
    }
   ],
   "source": [
    "X_train1, y_train1 = X1[:800], y1[:800]\n",
    "X_val1, y_val1 = X1[800:900], y1[800:900]\n",
    "X_test1, y_test1 = X1[900:], y1[900:]\n",
    "X_train1.shape, y_train1.shape, X_val1.shape, y_val1.shape, X_test1.shape, y_test1.shape"
   ]
  },
  {
   "cell_type": "code",
   "execution_count": 59,
   "metadata": {},
   "outputs": [
    {
     "name": "stdout",
     "output_type": "stream",
     "text": [
      "Model: \"sequential_5\"\n",
      "_________________________________________________________________\n",
      " Layer (type)                Output Shape              Param #   \n",
      "=================================================================\n",
      " lstm_5 (LSTM)               (None, 136)               75072     \n",
      "                                                                 \n",
      " dense_7 (Dense)             (None, 1)                 137       \n",
      "                                                                 \n",
      "=================================================================\n",
      "Total params: 75209 (293.79 KB)\n",
      "Trainable params: 75209 (293.79 KB)\n",
      "Non-trainable params: 0 (0.00 Byte)\n",
      "_________________________________________________________________\n"
     ]
    }
   ],
   "source": [
    "from tensorflow.keras.models import Sequential\n",
    "from tensorflow.keras.layers import *\n",
    "from tensorflow.keras.callbacks import ModelCheckpoint\n",
    "from tensorflow.keras.losses import MeanSquaredError\n",
    "from tensorflow.keras.metrics import RootMeanSquaredError\n",
    "from tensorflow.keras.optimizers import Adam\n",
    "\n",
    "model1 = Sequential()\n",
    "model1.add(InputLayer((5, 1)))\n",
    "model1.add(LSTM(136, activation='relu'))\n",
    "model1.add(Dense(1))\n",
    "\n",
    "model1.summary()"
   ]
  },
  {
   "cell_type": "code",
   "execution_count": 60,
   "metadata": {},
   "outputs": [],
   "source": [
    "cp1 = ModelCheckpoint('model1/', save_best_only=True)\n",
    "model1.compile(loss=MeanSquaredError(), optimizer=Adam(learning_rate=0.0001), metrics=[RootMeanSquaredError()])"
   ]
  },
  {
   "cell_type": "code",
   "execution_count": 61,
   "metadata": {},
   "outputs": [
    {
     "name": "stdout",
     "output_type": "stream",
     "text": [
      "Epoch 1/20\n",
      "22/25 [=========================>....] - ETA: 0s - loss: 2179038.2500 - root_mean_squared_error: 1476.1566INFO:tensorflow:Assets written to: model1\\assets\n"
     ]
    },
    {
     "name": "stderr",
     "output_type": "stream",
     "text": [
      "INFO:tensorflow:Assets written to: model1\\assets\n"
     ]
    },
    {
     "name": "stdout",
     "output_type": "stream",
     "text": [
      "25/25 [==============================] - 3s 75ms/step - loss: 2157468.5000 - root_mean_squared_error: 1468.8324 - val_loss: 489627.6875 - val_root_mean_squared_error: 699.7340\n",
      "Epoch 2/20\n",
      "22/25 [=========================>....] - ETA: 0s - loss: 2046181.6250 - root_mean_squared_error: 1430.4480INFO:tensorflow:Assets written to: model1\\assets\n"
     ]
    },
    {
     "name": "stderr",
     "output_type": "stream",
     "text": [
      "INFO:tensorflow:Assets written to: model1\\assets\n"
     ]
    },
    {
     "name": "stdout",
     "output_type": "stream",
     "text": [
      "25/25 [==============================] - 2s 83ms/step - loss: 2047387.3750 - root_mean_squared_error: 1430.8695 - val_loss: 469454.3750 - val_root_mean_squared_error: 685.1674\n",
      "Epoch 3/20\n",
      "16/25 [==================>...........] - ETA: 0s - loss: 1983514.2500 - root_mean_squared_error: 1408.3729INFO:tensorflow:Assets written to: model1\\assets\n"
     ]
    },
    {
     "name": "stderr",
     "output_type": "stream",
     "text": [
      "INFO:tensorflow:Assets written to: model1\\assets\n"
     ]
    },
    {
     "name": "stdout",
     "output_type": "stream",
     "text": [
      "25/25 [==============================] - 1s 59ms/step - loss: 1961543.3750 - root_mean_squared_error: 1400.5511 - val_loss: 449780.2812 - val_root_mean_squared_error: 670.6566\n",
      "Epoch 4/20\n",
      "21/25 [========================>.....] - ETA: 0s - loss: 1864795.0000 - root_mean_squared_error: 1365.5750INFO:tensorflow:Assets written to: model1\\assets\n"
     ]
    },
    {
     "name": "stderr",
     "output_type": "stream",
     "text": [
      "INFO:tensorflow:Assets written to: model1\\assets\n"
     ]
    },
    {
     "name": "stdout",
     "output_type": "stream",
     "text": [
      "25/25 [==============================] - 2s 63ms/step - loss: 1846817.8750 - root_mean_squared_error: 1358.9768 - val_loss: 415147.2812 - val_root_mean_squared_error: 644.3192\n",
      "Epoch 5/20\n",
      "18/25 [====================>.........] - ETA: 0s - loss: 1658903.5000 - root_mean_squared_error: 1287.9843INFO:tensorflow:Assets written to: model1\\assets\n"
     ]
    },
    {
     "name": "stderr",
     "output_type": "stream",
     "text": [
      "INFO:tensorflow:Assets written to: model1\\assets\n"
     ]
    },
    {
     "name": "stdout",
     "output_type": "stream",
     "text": [
      "25/25 [==============================] - 1s 61ms/step - loss: 1602750.5000 - root_mean_squared_error: 1265.9978 - val_loss: 316176.2812 - val_root_mean_squared_error: 562.2955\n",
      "Epoch 6/20\n",
      "18/25 [====================>.........] - ETA: 0s - loss: 1186253.3750 - root_mean_squared_error: 1089.1526INFO:tensorflow:Assets written to: model1\\assets\n"
     ]
    },
    {
     "name": "stderr",
     "output_type": "stream",
     "text": [
      "INFO:tensorflow:Assets written to: model1\\assets\n"
     ]
    },
    {
     "name": "stdout",
     "output_type": "stream",
     "text": [
      "25/25 [==============================] - 1s 59ms/step - loss: 1095366.5000 - root_mean_squared_error: 1046.5975 - val_loss: 205030.1250 - val_root_mean_squared_error: 452.8025\n",
      "Epoch 7/20\n",
      "18/25 [====================>.........] - ETA: 0s - loss: 751731.3750 - root_mean_squared_error: 867.0244INFO:tensorflow:Assets written to: model1\\assets\n"
     ]
    },
    {
     "name": "stderr",
     "output_type": "stream",
     "text": [
      "INFO:tensorflow:Assets written to: model1\\assets\n"
     ]
    },
    {
     "name": "stdout",
     "output_type": "stream",
     "text": [
      "25/25 [==============================] - 1s 59ms/step - loss: 686030.1875 - root_mean_squared_error: 828.2694 - val_loss: 113628.1562 - val_root_mean_squared_error: 337.0878\n",
      "Epoch 8/20\n",
      "23/25 [==========================>...] - ETA: 0s - loss: 362707.4062 - root_mean_squared_error: 602.2520INFO:tensorflow:Assets written to: model1\\assets\n"
     ]
    },
    {
     "name": "stderr",
     "output_type": "stream",
     "text": [
      "INFO:tensorflow:Assets written to: model1\\assets\n"
     ]
    },
    {
     "name": "stdout",
     "output_type": "stream",
     "text": [
      "25/25 [==============================] - 1s 56ms/step - loss: 354574.2812 - root_mean_squared_error: 595.4614 - val_loss: 50724.1406 - val_root_mean_squared_error: 225.2202\n",
      "Epoch 9/20\n",
      "22/25 [=========================>....] - ETA: 0s - loss: 131605.2969 - root_mean_squared_error: 362.7744INFO:tensorflow:Assets written to: model1\\assets\n"
     ]
    },
    {
     "name": "stderr",
     "output_type": "stream",
     "text": [
      "INFO:tensorflow:Assets written to: model1\\assets\n"
     ]
    },
    {
     "name": "stdout",
     "output_type": "stream",
     "text": [
      "25/25 [==============================] - 2s 64ms/step - loss: 119858.8516 - root_mean_squared_error: 346.2064 - val_loss: 5893.3105 - val_root_mean_squared_error: 76.7679\n",
      "Epoch 10/20\n",
      "21/25 [========================>.....] - ETA: 0s - loss: 22763.9492 - root_mean_squared_error: 150.8773INFO:tensorflow:Assets written to: model1\\assets\n"
     ]
    },
    {
     "name": "stderr",
     "output_type": "stream",
     "text": [
      "INFO:tensorflow:Assets written to: model1\\assets\n"
     ]
    },
    {
     "name": "stdout",
     "output_type": "stream",
     "text": [
      "25/25 [==============================] - 1s 57ms/step - loss: 21998.7676 - root_mean_squared_error: 148.3198 - val_loss: 2265.4080 - val_root_mean_squared_error: 47.5963\n",
      "Epoch 11/20\n",
      "25/25 [==============================] - 0s 7ms/step - loss: 17570.7051 - root_mean_squared_error: 132.5545 - val_loss: 2360.3374 - val_root_mean_squared_error: 48.5833\n",
      "Epoch 12/20\n",
      "18/25 [====================>.........] - ETA: 0s - loss: 17740.4492 - root_mean_squared_error: 133.1933INFO:tensorflow:Assets written to: model1\\assets\n"
     ]
    },
    {
     "name": "stderr",
     "output_type": "stream",
     "text": [
      "INFO:tensorflow:Assets written to: model1\\assets\n"
     ]
    },
    {
     "name": "stdout",
     "output_type": "stream",
     "text": [
      "25/25 [==============================] - 1s 56ms/step - loss: 17180.0840 - root_mean_squared_error: 131.0728 - val_loss: 2024.7074 - val_root_mean_squared_error: 44.9967\n",
      "Epoch 13/20\n",
      "25/25 [==============================] - 0s 8ms/step - loss: 18243.8457 - root_mean_squared_error: 135.0698 - val_loss: 2257.7871 - val_root_mean_squared_error: 47.5162\n",
      "Epoch 14/20\n",
      "25/25 [==============================] - 0s 7ms/step - loss: 16794.0117 - root_mean_squared_error: 129.5917 - val_loss: 2335.3352 - val_root_mean_squared_error: 48.3253\n",
      "Epoch 15/20\n",
      "25/25 [==============================] - 0s 5ms/step - loss: 16070.6621 - root_mean_squared_error: 126.7701 - val_loss: 2266.0430 - val_root_mean_squared_error: 47.6030\n",
      "Epoch 16/20\n",
      "25/25 [==============================] - 0s 6ms/step - loss: 16843.3672 - root_mean_squared_error: 129.7820 - val_loss: 2566.2427 - val_root_mean_squared_error: 50.6581\n",
      "Epoch 17/20\n",
      "25/25 [==============================] - 0s 6ms/step - loss: 15189.9365 - root_mean_squared_error: 123.2475 - val_loss: 2271.9639 - val_root_mean_squared_error: 47.6651\n",
      "Epoch 18/20\n",
      "25/25 [==============================] - 0s 6ms/step - loss: 14722.3926 - root_mean_squared_error: 121.3359 - val_loss: 2358.9292 - val_root_mean_squared_error: 48.5688\n",
      "Epoch 19/20\n",
      "25/25 [==============================] - 0s 6ms/step - loss: 14199.9141 - root_mean_squared_error: 119.1634 - val_loss: 2215.5310 - val_root_mean_squared_error: 47.0694\n",
      "Epoch 20/20\n",
      "25/25 [==============================] - 0s 6ms/step - loss: 15414.9658 - root_mean_squared_error: 124.1570 - val_loss: 2485.9351 - val_root_mean_squared_error: 49.8592\n"
     ]
    },
    {
     "data": {
      "text/plain": [
       "<keras.src.callbacks.History at 0x292f9a786a0>"
      ]
     },
     "execution_count": 61,
     "metadata": {},
     "output_type": "execute_result"
    }
   ],
   "source": [
    "model1.fit(X_train1, y_train1, validation_data=(X_val1, y_val1), epochs=20, callbacks=[cp1])"
   ]
  },
  {
   "cell_type": "code",
   "execution_count": 62,
   "metadata": {},
   "outputs": [],
   "source": [
    "from tensorflow.keras.models import load_model\n",
    "model1 = load_model('model1/')"
   ]
  },
  {
   "cell_type": "code",
   "execution_count": 63,
   "metadata": {},
   "outputs": [
    {
     "name": "stdout",
     "output_type": "stream",
     "text": [
      "25/25 [==============================] - 0s 4ms/step\n"
     ]
    },
    {
     "data": {
      "text/html": [
       "<div>\n",
       "<style scoped>\n",
       "    .dataframe tbody tr th:only-of-type {\n",
       "        vertical-align: middle;\n",
       "    }\n",
       "\n",
       "    .dataframe tbody tr th {\n",
       "        vertical-align: top;\n",
       "    }\n",
       "\n",
       "    .dataframe thead th {\n",
       "        text-align: right;\n",
       "    }\n",
       "</style>\n",
       "<table border=\"1\" class=\"dataframe\">\n",
       "  <thead>\n",
       "    <tr style=\"text-align: right;\">\n",
       "      <th></th>\n",
       "      <th>Train Predictions</th>\n",
       "      <th>Actuals</th>\n",
       "    </tr>\n",
       "  </thead>\n",
       "  <tbody>\n",
       "    <tr>\n",
       "      <th>0</th>\n",
       "      <td>2283.296387</td>\n",
       "      <td>2242.647059</td>\n",
       "    </tr>\n",
       "    <tr>\n",
       "      <th>1</th>\n",
       "      <td>2205.121094</td>\n",
       "      <td>2242.647059</td>\n",
       "    </tr>\n",
       "    <tr>\n",
       "      <th>2</th>\n",
       "      <td>2215.044189</td>\n",
       "      <td>2242.647059</td>\n",
       "    </tr>\n",
       "    <tr>\n",
       "      <th>3</th>\n",
       "      <td>2245.775879</td>\n",
       "      <td>2832.400000</td>\n",
       "    </tr>\n",
       "    <tr>\n",
       "      <th>4</th>\n",
       "      <td>2480.872559</td>\n",
       "      <td>2375.000000</td>\n",
       "    </tr>\n",
       "    <tr>\n",
       "      <th>...</th>\n",
       "      <td>...</td>\n",
       "      <td>...</td>\n",
       "    </tr>\n",
       "    <tr>\n",
       "      <th>795</th>\n",
       "      <td>875.134766</td>\n",
       "      <td>926.461538</td>\n",
       "    </tr>\n",
       "    <tr>\n",
       "      <th>796</th>\n",
       "      <td>903.184326</td>\n",
       "      <td>803.787234</td>\n",
       "    </tr>\n",
       "    <tr>\n",
       "      <th>797</th>\n",
       "      <td>849.381470</td>\n",
       "      <td>824.212121</td>\n",
       "    </tr>\n",
       "    <tr>\n",
       "      <th>798</th>\n",
       "      <td>864.954285</td>\n",
       "      <td>819.517857</td>\n",
       "    </tr>\n",
       "    <tr>\n",
       "      <th>799</th>\n",
       "      <td>835.735596</td>\n",
       "      <td>828.835821</td>\n",
       "    </tr>\n",
       "  </tbody>\n",
       "</table>\n",
       "<p>800 rows × 2 columns</p>\n",
       "</div>"
      ],
      "text/plain": [
       "     Train Predictions      Actuals\n",
       "0          2283.296387  2242.647059\n",
       "1          2205.121094  2242.647059\n",
       "2          2215.044189  2242.647059\n",
       "3          2245.775879  2832.400000\n",
       "4          2480.872559  2375.000000\n",
       "..                 ...          ...\n",
       "795         875.134766   926.461538\n",
       "796         903.184326   803.787234\n",
       "797         849.381470   824.212121\n",
       "798         864.954285   819.517857\n",
       "799         835.735596   828.835821\n",
       "\n",
       "[800 rows x 2 columns]"
      ]
     },
     "execution_count": 63,
     "metadata": {},
     "output_type": "execute_result"
    }
   ],
   "source": [
    "train_predictions = model1.predict(X_train1).flatten()\n",
    "train_results = pd.DataFrame(data={'Train Predictions':train_predictions, 'Actuals':y_train1})\n",
    "train_results"
   ]
  },
  {
   "cell_type": "code",
   "execution_count": 64,
   "metadata": {},
   "outputs": [
    {
     "data": {
      "text/plain": [
       "[<matplotlib.lines.Line2D at 0x2928005a940>]"
      ]
     },
     "execution_count": 64,
     "metadata": {},
     "output_type": "execute_result"
    },
    {
     "data": {
      "image/png": "[encoded data removed]",
      "text/plain": [
       "<Figure size 640x480 with 1 Axes>"
      ]
     },
     "metadata": {},
     "output_type": "display_data"
    }
   ],
   "source": [
    "import matplotlib.pyplot as plt\n",
    "plt.plot(train_results['Train Predictions'][50:100])\n",
    "plt.plot(train_results['Actuals'][50:100])"
   ]
  },
  {
   "cell_type": "markdown",
   "metadata": {},
   "source": [
    "# Scaling"
   ]
  },
  {
   "cell_type": "code",
   "execution_count": 46,
   "metadata": {},
   "outputs": [],
   "source": [
    "from sklearn.preprocessing import MinMaxScaler\n",
    "scaler = MinMaxScaler()"
   ]
  },
  {
   "cell_type": "code",
   "execution_count": 47,
   "metadata": {},
   "outputs": [],
   "source": [
    "train_transformed = scaler.fit_transform(train)\n",
    "test_transformed = scaler.fit_transform(test)"
   ]
  },
  {
   "cell_type": "markdown",
   "metadata": {},
   "source": [
    "# Tensorflow"
   ]
  },
  {
   "cell_type": "code",
   "execution_count": 131,
   "metadata": {},
   "outputs": [],
   "source": [
    "#%pip install tensorflow"
   ]
  },
  {
   "cell_type": "code",
   "execution_count": 48,
   "metadata": {},
   "outputs": [],
   "source": [
    "from keras.preprocessing.sequence import TimeseriesGenerator\n",
    "\n",
    "#lookback\n",
    "n_input = 7\n",
    "n_features = 2\n",
    "\n",
    "generatorTrain = TimeseriesGenerator(train_transformed, train_transformed, length=n_input, batch_size=1)"
   ]
  },
  {
   "cell_type": "code",
   "execution_count": 49,
   "metadata": {},
   "outputs": [],
   "source": [
    "from keras.models import Sequential\n",
    "from keras.layers import Dense\n",
    "from keras.layers import LSTM"
   ]
  },
  {
   "cell_type": "code",
   "execution_count": 50,
   "metadata": {},
   "outputs": [],
   "source": [
    "#define model\n",
    "model = Sequential()\n",
    "model.add(LSTM(100, activation='relu', input_shape=(n_input, n_features)))\n",
    "model.add(Dense(2))\n",
    "model.compile(optimizer='adam', loss='mse')"
   ]
  },
  {
   "cell_type": "code",
   "execution_count": 51,
   "metadata": {},
   "outputs": [
    {
     "name": "stdout",
     "output_type": "stream",
     "text": [
      "Model: \"sequential_1\"\n",
      "_________________________________________________________________\n",
      " Layer (type)                Output Shape              Param #   \n",
      "=================================================================\n",
      " lstm_1 (LSTM)               (None, 100)               41200     \n",
      "                                                                 \n",
      " dense_1 (Dense)             (None, 2)                 202       \n",
      "                                                                 \n",
      "=================================================================\n",
      "Total params: 41402 (161.73 KB)\n",
      "Trainable params: 41402 (161.73 KB)\n",
      "Non-trainable params: 0 (0.00 Byte)\n",
      "_________________________________________________________________\n"
     ]
    }
   ],
   "source": [
    "model.summary()"
   ]
  },
  {
   "cell_type": "code",
   "execution_count": 52,
   "metadata": {},
   "outputs": [
    {
     "name": "stdout",
     "output_type": "stream",
     "text": [
      "Epoch 1/15\n",
      "796/796 [==============================] - 4s 4ms/step - loss: 0.0257\n",
      "Epoch 2/15\n",
      "796/796 [==============================] - 3s 3ms/step - loss: 0.0201\n",
      "Epoch 3/15\n",
      "796/796 [==============================] - 4s 4ms/step - loss: 0.0183\n",
      "Epoch 4/15\n",
      "796/796 [==============================] - 3s 4ms/step - loss: 0.0166\n",
      "Epoch 5/15\n",
      "796/796 [==============================] - 3s 3ms/step - loss: 0.0156\n",
      "Epoch 6/15\n",
      "796/796 [==============================] - 3s 4ms/step - loss: 0.0149\n",
      "Epoch 7/15\n",
      "796/796 [==============================] - 3s 4ms/step - loss: 0.0143\n",
      "Epoch 8/15\n",
      "796/796 [==============================] - 3s 3ms/step - loss: 0.0140\n",
      "Epoch 9/15\n",
      "796/796 [==============================] - 3s 3ms/step - loss: 0.0135\n",
      "Epoch 10/15\n",
      "796/796 [==============================] - 3s 3ms/step - loss: 0.0131\n",
      "Epoch 11/15\n",
      "796/796 [==============================] - 3s 3ms/step - loss: 0.0129\n",
      "Epoch 12/15\n",
      "796/796 [==============================] - 3s 3ms/step - loss: 0.0126\n",
      "Epoch 13/15\n",
      "796/796 [==============================] - 3s 3ms/step - loss: 0.0125\n",
      "Epoch 14/15\n",
      "796/796 [==============================] - 3s 4ms/step - loss: 0.0122\n",
      "Epoch 15/15\n",
      "796/796 [==============================] - 3s 4ms/step - loss: 0.0121\n"
     ]
    },
    {
     "data": {
      "text/plain": [
       "<keras.src.callbacks.History at 0x1b5a370bcd0>"
      ]
     },
     "execution_count": 52,
     "metadata": {},
     "output_type": "execute_result"
    }
   ],
   "source": [
    "#fit model\n",
    "model.fit(generatorTrain, epochs=15)"
   ]
  },
  {
   "cell_type": "code",
   "execution_count": 53,
   "metadata": {},
   "outputs": [
    {
     "data": {
      "text/plain": [
       "[<matplotlib.lines.Line2D at 0x1b5a4a13970>]"
      ]
     },
     "execution_count": 53,
     "metadata": {},
     "output_type": "execute_result"
    },
    {
     "data": {
      "image/png": "[encoded data removed]",
      "text/plain": [
       "<Figure size 640x480 with 1 Axes>"
      ]
     },
     "metadata": {},
     "output_type": "display_data"
    }
   ],
   "source": [
    "import matplotlib.pyplot as plt\n",
    "\n",
    "loss_per_epoch = model.history.history['loss']\n",
    "plt.plot(range(len(loss_per_epoch)), loss_per_epoch)"
   ]
  },
  {
   "cell_type": "markdown",
   "metadata": {},
   "source": [
    "# Prediction"
   ]
  },
  {
   "cell_type": "code",
   "execution_count": 67,
   "metadata": {},
   "outputs": [],
   "source": [
    "last_train_batch = train_transformed[-7:]"
   ]
  },
  {
   "cell_type": "code",
   "execution_count": 68,
   "metadata": {},
   "outputs": [],
   "source": [
    "last_train_batch = last_train_batch.reshape((1,n_input,n_features))"
   ]
  },
  {
   "cell_type": "code",
   "execution_count": 69,
   "metadata": {},
   "outputs": [
    {
     "name": "stdout",
     "output_type": "stream",
     "text": [
      "1/1 [==============================] - 0s 28ms/step\n"
     ]
    },
    {
     "data": {
      "text/plain": [
       "array([[0.07153178, 0.7269199 ]], dtype=float32)"
      ]
     },
     "execution_count": 69,
     "metadata": {},
     "output_type": "execute_result"
    }
   ],
   "source": [
    "model.predict(last_train_batch)"
   ]
  },
  {
   "cell_type": "code",
   "execution_count": 70,
   "metadata": {},
   "outputs": [
    {
     "data": {
      "text/plain": [
       "array([0.13100074, 0.5201888 ])"
      ]
     },
     "execution_count": 70,
     "metadata": {},
     "output_type": "execute_result"
    }
   ],
   "source": [
    "test_transformed[0]"
   ]
  },
  {
   "cell_type": "code",
   "execution_count": 71,
   "metadata": {},
   "outputs": [
    {
     "name": "stdout",
     "output_type": "stream",
     "text": [
      "1/1 [==============================] - ETA: 0s"
     ]
    },
    {
     "name": "stdout",
     "output_type": "stream",
     "text": [
      "1/1 [==============================] - 0s 28ms/step\n",
      "1/1 [==============================] - 0s 31ms/step\n",
      "1/1 [==============================] - 0s 29ms/step\n",
      "1/1 [==============================] - 0s 26ms/step\n",
      "1/1 [==============================] - 0s 25ms/step\n",
      "1/1 [==============================] - 0s 26ms/step\n",
      "1/1 [==============================] - 0s 27ms/step\n",
      "1/1 [==============================] - 0s 21ms/step\n",
      "1/1 [==============================] - 0s 30ms/step\n",
      "1/1 [==============================] - 0s 58ms/step\n",
      "1/1 [==============================] - 0s 21ms/step\n",
      "1/1 [==============================] - 0s 26ms/step\n",
      "1/1 [==============================] - 0s 28ms/step\n",
      "1/1 [==============================] - 0s 38ms/step\n",
      "1/1 [==============================] - 0s 31ms/step\n",
      "1/1 [==============================] - 0s 26ms/step\n",
      "1/1 [==============================] - 0s 24ms/step\n",
      "1/1 [==============================] - 0s 24ms/step\n",
      "1/1 [==============================] - 0s 23ms/step\n",
      "1/1 [==============================] - 0s 25ms/step\n",
      "1/1 [==============================] - 0s 29ms/step\n",
      "1/1 [==============================] - 0s 37ms/step\n",
      "1/1 [==============================] - 0s 29ms/step\n",
      "1/1 [==============================] - 0s 17ms/step\n",
      "1/1 [==============================] - 0s 23ms/step\n",
      "1/1 [==============================] - 0s 30ms/step\n",
      "1/1 [==============================] - 0s 26ms/step\n",
      "1/1 [==============================] - 0s 22ms/step\n",
      "1/1 [==============================] - 0s 22ms/step\n",
      "1/1 [==============================] - 0s 26ms/step\n",
      "1/1 [==============================] - 0s 22ms/step\n",
      "1/1 [==============================] - 0s 22ms/step\n",
      "1/1 [==============================] - 0s 24ms/step\n",
      "1/1 [==============================] - 0s 18ms/step\n",
      "1/1 [==============================] - 0s 19ms/step\n",
      "1/1 [==============================] - 0s 20ms/step\n",
      "1/1 [==============================] - 0s 20ms/step\n",
      "1/1 [==============================] - 0s 18ms/step\n",
      "1/1 [==============================] - 0s 24ms/step\n",
      "1/1 [==============================] - 0s 22ms/step\n",
      "1/1 [==============================] - 0s 19ms/step\n",
      "1/1 [==============================] - 0s 20ms/step\n",
      "1/1 [==============================] - 0s 19ms/step\n",
      "1/1 [==============================] - 0s 27ms/step\n",
      "1/1 [==============================] - 0s 26ms/step\n",
      "1/1 [==============================] - 0s 31ms/step\n",
      "1/1 [==============================] - 0s 30ms/step\n",
      "1/1 [==============================] - 0s 25ms/step\n",
      "1/1 [==============================] - 0s 20ms/step\n",
      "1/1 [==============================] - 0s 21ms/step\n",
      "1/1 [==============================] - 0s 19ms/step\n",
      "1/1 [==============================] - 0s 20ms/step\n",
      "1/1 [==============================] - 0s 20ms/step\n",
      "1/1 [==============================] - 0s 20ms/step\n",
      "1/1 [==============================] - 0s 19ms/step\n",
      "1/1 [==============================] - 0s 18ms/step\n",
      "1/1 [==============================] - 0s 21ms/step\n",
      "1/1 [==============================] - 0s 21ms/step\n",
      "1/1 [==============================] - 0s 21ms/step\n",
      "1/1 [==============================] - 0s 20ms/step\n",
      "1/1 [==============================] - 0s 19ms/step\n",
      "1/1 [==============================] - 0s 20ms/step\n",
      "1/1 [==============================] - 0s 21ms/step\n",
      "1/1 [==============================] - 0s 20ms/step\n",
      "1/1 [==============================] - 0s 18ms/step\n",
      "1/1 [==============================] - 0s 20ms/step\n",
      "1/1 [==============================] - 0s 21ms/step\n",
      "1/1 [==============================] - 0s 21ms/step\n",
      "1/1 [==============================] - 0s 23ms/step\n",
      "1/1 [==============================] - 0s 32ms/step\n",
      "1/1 [==============================] - 0s 21ms/step\n",
      "1/1 [==============================] - 0s 23ms/step\n",
      "1/1 [==============================] - 0s 21ms/step\n",
      "1/1 [==============================] - 0s 23ms/step\n",
      "1/1 [==============================] - 0s 19ms/step\n",
      "1/1 [==============================] - 0s 21ms/step\n",
      "1/1 [==============================] - 0s 20ms/step\n",
      "1/1 [==============================] - 0s 21ms/step\n",
      "1/1 [==============================] - 0s 28ms/step\n",
      "1/1 [==============================] - 0s 19ms/step\n",
      "1/1 [==============================] - 0s 21ms/step\n",
      "1/1 [==============================] - 0s 20ms/step\n",
      "1/1 [==============================] - 0s 21ms/step\n",
      "1/1 [==============================] - 0s 22ms/step\n",
      "1/1 [==============================] - 0s 22ms/step\n",
      "1/1 [==============================] - 0s 23ms/step\n",
      "1/1 [==============================] - 0s 20ms/step\n",
      "1/1 [==============================] - 0s 21ms/step\n",
      "1/1 [==============================] - 0s 19ms/step\n",
      "1/1 [==============================] - 0s 23ms/step\n",
      "1/1 [==============================] - 0s 32ms/step\n",
      "1/1 [==============================] - 0s 19ms/step\n",
      "1/1 [==============================] - 0s 22ms/step\n",
      "1/1 [==============================] - 0s 23ms/step\n",
      "1/1 [==============================] - 0s 20ms/step\n",
      "1/1 [==============================] - 0s 21ms/step\n",
      "1/1 [==============================] - 0s 21ms/step\n",
      "1/1 [==============================] - 0s 20ms/step\n",
      "1/1 [==============================] - 0s 19ms/step\n",
      "1/1 [==============================] - 0s 19ms/step\n",
      "1/1 [==============================] - 0s 20ms/step\n",
      "1/1 [==============================] - 0s 18ms/step\n",
      "1/1 [==============================] - 0s 19ms/step\n",
      "1/1 [==============================] - 0s 19ms/step\n",
      "1/1 [==============================] - 0s 20ms/step\n",
      "1/1 [==============================] - 0s 18ms/step\n",
      "1/1 [==============================] - 0s 18ms/step\n",
      "1/1 [==============================] - 0s 20ms/step\n",
      "1/1 [==============================] - 0s 19ms/step\n",
      "1/1 [==============================] - 0s 19ms/step\n",
      "1/1 [==============================] - 0s 18ms/step\n",
      "1/1 [==============================] - 0s 19ms/step\n",
      "1/1 [==============================] - 0s 21ms/step\n",
      "1/1 [==============================] - 0s 31ms/step\n",
      "1/1 [==============================] - 0s 20ms/step\n",
      "1/1 [==============================] - 0s 19ms/step\n",
      "1/1 [==============================] - 0s 21ms/step\n",
      "1/1 [==============================] - 0s 19ms/step\n",
      "1/1 [==============================] - 0s 19ms/step\n",
      "1/1 [==============================] - 0s 18ms/step\n",
      "1/1 [==============================] - 0s 19ms/step\n",
      "1/1 [==============================] - 0s 20ms/step\n",
      "1/1 [==============================] - 0s 19ms/step\n",
      "1/1 [==============================] - 0s 19ms/step\n",
      "1/1 [==============================] - 0s 18ms/step\n",
      "1/1 [==============================] - 0s 18ms/step\n",
      "1/1 [==============================] - 0s 20ms/step\n",
      "1/1 [==============================] - 0s 20ms/step\n",
      "1/1 [==============================] - 0s 21ms/step\n",
      "1/1 [==============================] - 0s 49ms/step\n",
      "1/1 [==============================] - 0s 19ms/step\n",
      "1/1 [==============================] - 0s 21ms/step\n",
      "1/1 [==============================] - 0s 20ms/step\n",
      "1/1 [==============================] - 0s 30ms/step\n",
      "1/1 [==============================] - 0s 20ms/step\n",
      "1/1 [==============================] - 0s 18ms/step\n",
      "1/1 [==============================] - 0s 18ms/step\n",
      "1/1 [==============================] - 0s 19ms/step\n",
      "1/1 [==============================] - 0s 19ms/step\n",
      "1/1 [==============================] - 0s 20ms/step\n",
      "1/1 [==============================] - 0s 20ms/step\n",
      "1/1 [==============================] - 0s 20ms/step\n",
      "1/1 [==============================] - 0s 22ms/step\n",
      "1/1 [==============================] - 0s 21ms/step\n",
      "1/1 [==============================] - 0s 20ms/step\n",
      "1/1 [==============================] - 0s 21ms/step\n",
      "1/1 [==============================] - 0s 19ms/step\n",
      "1/1 [==============================] - 0s 27ms/step\n",
      "1/1 [==============================] - 0s 30ms/step\n",
      "1/1 [==============================] - 0s 20ms/step\n",
      "1/1 [==============================] - 0s 20ms/step\n",
      "1/1 [==============================] - 0s 23ms/step\n",
      "1/1 [==============================] - 0s 21ms/step\n",
      "1/1 [==============================] - 0s 22ms/step\n",
      "1/1 [==============================] - 0s 23ms/step\n",
      "1/1 [==============================] - 0s 24ms/step\n",
      "1/1 [==============================] - 0s 24ms/step\n",
      "1/1 [==============================] - 0s 19ms/step\n",
      "1/1 [==============================] - 0s 20ms/step\n",
      "1/1 [==============================] - 0s 20ms/step\n",
      "1/1 [==============================] - 0s 20ms/step\n",
      "1/1 [==============================] - 0s 19ms/step\n",
      "1/1 [==============================] - 0s 21ms/step\n",
      "1/1 [==============================] - 0s 18ms/step\n",
      "1/1 [==============================] - 0s 19ms/step\n",
      "1/1 [==============================] - 0s 19ms/step\n",
      "1/1 [==============================] - 0s 20ms/step\n",
      "1/1 [==============================] - 0s 20ms/step\n",
      "1/1 [==============================] - 0s 19ms/step\n",
      "1/1 [==============================] - 0s 19ms/step\n",
      "1/1 [==============================] - 0s 22ms/step\n",
      "1/1 [==============================] - 0s 40ms/step\n",
      "1/1 [==============================] - 0s 20ms/step\n",
      "1/1 [==============================] - 0s 23ms/step\n",
      "1/1 [==============================] - 0s 22ms/step\n",
      "1/1 [==============================] - 0s 20ms/step\n",
      "1/1 [==============================] - 0s 20ms/step\n",
      "1/1 [==============================] - 0s 20ms/step\n",
      "1/1 [==============================] - 0s 28ms/step\n",
      "1/1 [==============================] - 0s 19ms/step\n",
      "1/1 [==============================] - 0s 21ms/step\n",
      "1/1 [==============================] - 0s 19ms/step\n",
      "1/1 [==============================] - 0s 20ms/step\n",
      "1/1 [==============================] - 0s 23ms/step\n",
      "1/1 [==============================] - 0s 23ms/step\n",
      "1/1 [==============================] - 0s 19ms/step\n",
      "1/1 [==============================] - 0s 23ms/step\n",
      "1/1 [==============================] - 0s 19ms/step\n",
      "1/1 [==============================] - 0s 22ms/step\n",
      "1/1 [==============================] - 0s 19ms/step\n",
      "1/1 [==============================] - 0s 20ms/step\n",
      "1/1 [==============================] - 0s 21ms/step\n",
      "1/1 [==============================] - 0s 19ms/step\n",
      "1/1 [==============================] - 0s 22ms/step\n",
      "1/1 [==============================] - 0s 20ms/step\n",
      "1/1 [==============================] - 0s 18ms/step\n",
      "1/1 [==============================] - 0s 20ms/step\n",
      "1/1 [==============================] - 0s 20ms/step\n",
      "1/1 [==============================] - 0s 21ms/step\n",
      "1/1 [==============================] - 0s 19ms/step\n",
      "1/1 [==============================] - 0s 25ms/step\n"
     ]
    }
   ],
   "source": [
    "import numpy as np\n",
    "\n",
    "test_predictions = []\n",
    "\n",
    "first_eval_batch = train_transformed[-n_input:]\n",
    "current_batch = first_eval_batch.reshape((1, n_input, n_features))\n",
    "\n",
    "for i in range(len(test)):\n",
    "    \n",
    "    # get the prediction value for the first batch\n",
    "    current_pred = model.predict(current_batch)[0]\n",
    "    \n",
    "    # append the prediction into the array\n",
    "    test_predictions.append(current_pred) \n",
    "    \n",
    "    # use the prediction to update the batch and remove the first value\n",
    "    current_batch = np.append(current_batch[:,1:,:],[[current_pred]],axis=1)"
   ]
  },
  {
   "cell_type": "code",
   "execution_count": 72,
   "metadata": {},
   "outputs": [
    {
     "data": {
      "text/plain": [
       "[array([0.07153178, 0.7269199 ], dtype=float32),\n",
       " array([0.08837889, 0.62074924], dtype=float32),\n",
       " array([0.09128176, 0.48178926], dtype=float32),\n",
       " array([0.08933163, 0.36095425], dtype=float32),\n",
       " array([0.11069764, 0.1061401 ], dtype=float32),\n",
       " array([0.12273971, 0.5315868 ], dtype=float32),\n",
       " array([0.13926758, 0.44658762], dtype=float32),\n",
       " array([0.15591617, 0.40854394], dtype=float32),\n",
       " array([0.17196581, 0.38319737], dtype=float32),\n",
       " array([0.18820402, 0.36304662], dtype=float32),\n",
       " array([0.20065047, 0.29024118], dtype=float32),\n",
       " array([0.20409372, 0.12541558], dtype=float32),\n",
       " array([0.21986498, 0.49494   ], dtype=float32),\n",
       " array([0.22859934, 0.44989145], dtype=float32),\n",
       " array([0.2409612 , 0.42458326], dtype=float32),\n",
       " array([0.25517303, 0.39219227], dtype=float32),\n",
       " array([0.2703724 , 0.34656876], dtype=float32),\n",
       " array([0.28874308, 0.26719925], dtype=float32),\n",
       " array([0.29564303, 0.14783439], dtype=float32),\n",
       " array([0.31099313, 0.5091128 ], dtype=float32),\n",
       " array([0.3152508, 0.4461121], dtype=float32),\n",
       " array([0.32656738, 0.42598873], dtype=float32),\n",
       " array([0.33958945, 0.40968442], dtype=float32),\n",
       " array([0.3552432, 0.3614142], dtype=float32),\n",
       " array([0.3752738 , 0.27652085], dtype=float32),\n",
       " array([0.38314834, 0.17002824], dtype=float32),\n",
       " array([0.39884776, 0.54148686], dtype=float32),\n",
       " array([0.39718592, 0.45892534], dtype=float32),\n",
       " array([0.40460807, 0.44419244], dtype=float32),\n",
       " array([0.4162728 , 0.43984103], dtype=float32),\n",
       " array([0.43069732, 0.410332  ], dtype=float32),\n",
       " array([0.4477043 , 0.31061354], dtype=float32),\n",
       " array([0.45672005, 0.1870831 ], dtype=float32),\n",
       " array([0.47189045, 0.58409697], dtype=float32),\n",
       " array([0.463939 , 0.4849477], dtype=float32),\n",
       " array([0.47004607, 0.4734574 ], dtype=float32),\n",
       " array([0.4786748, 0.4749435], dtype=float32),\n",
       " array([0.49135357, 0.4640834 ], dtype=float32),\n",
       " array([0.50118923, 0.35419378], dtype=float32),\n",
       " array([0.50994694, 0.19894113], dtype=float32),\n",
       " array([0.52656287, 0.6285423 ], dtype=float32),\n",
       " array([0.5133109, 0.5125629], dtype=float32),\n",
       " array([0.5197116, 0.5041634], dtype=float32),\n",
       " array([0.52885586, 0.5095238 ], dtype=float32),\n",
       " array([0.5398193 , 0.50758255], dtype=float32),\n",
       " array([0.5414921 , 0.39976832], dtype=float32),\n",
       " array([0.5443201 , 0.21196294], dtype=float32),\n",
       " array([0.56671315, 0.66616243], dtype=float32),\n",
       " array([0.5498055, 0.5413935], dtype=float32),\n",
       " array([0.55647904, 0.5364585 ], dtype=float32),\n",
       " array([0.56495875, 0.5408235 ], dtype=float32),\n",
       " array([0.57494843, 0.54302615], dtype=float32),\n",
       " array([0.5734379 , 0.44685602], dtype=float32),\n",
       " array([0.5710024 , 0.22772163], dtype=float32),\n",
       " array([0.59736997, 0.70126116], dtype=float32),\n",
       " array([0.578127 , 0.5715009], dtype=float32),\n",
       " array([0.5849337, 0.5689876], dtype=float32),\n",
       " array([0.59284645, 0.5726834 ], dtype=float32),\n",
       " array([0.6032462 , 0.57611567], dtype=float32),\n",
       " array([0.6011412 , 0.49669024], dtype=float32),\n",
       " array([0.59339345, 0.25050843], dtype=float32),\n",
       " array([0.6234229, 0.7348388], dtype=float32),\n",
       " array([0.60300183, 0.6014204 ], dtype=float32),\n",
       " array([0.61001074, 0.60465723], dtype=float32),\n",
       " array([0.6184536 , 0.60888255], dtype=float32),\n",
       " array([0.62988937, 0.612292  ], dtype=float32),\n",
       " array([0.628328  , 0.54901594], dtype=float32),\n",
       " array([0.6145059, 0.2884491], dtype=float32),\n",
       " array([0.6495403, 0.7653864], dtype=float32),\n",
       " array([0.6302053 , 0.63685656], dtype=float32),\n",
       " array([0.63818824, 0.64833695], dtype=float32),\n",
       " array([0.6480051, 0.6564037], dtype=float32),\n",
       " array([0.6605411, 0.6599198], dtype=float32),\n",
       " array([0.66025853, 0.61406636], dtype=float32),\n",
       " array([0.6380184 , 0.34980905], dtype=float32),\n",
       " array([0.68038166, 0.78922516], dtype=float32),\n",
       " array([0.6648177, 0.6769521], dtype=float32),\n",
       " array([0.6748664, 0.6919622], dtype=float32),\n",
       " array([0.6866013, 0.7079686], dtype=float32),\n",
       " array([0.6998876, 0.713033 ], dtype=float32),\n",
       " array([0.704625  , 0.69604594], dtype=float32),\n",
       " array([0.66863894, 0.43870133], dtype=float32),\n",
       " array([0.7221905, 0.808681 ], dtype=float32),\n",
       " array([0.71239734, 0.7205784 ], dtype=float32),\n",
       " array([0.7250691, 0.73875  ], dtype=float32),\n",
       " array([0.7382433 , 0.75503814], dtype=float32),\n",
       " array([0.75034016, 0.76455146], dtype=float32),\n",
       " array([0.7587519, 0.7638629], dtype=float32),\n",
       " array([0.72255373, 0.5794058 ], dtype=float32),\n",
       " array([0.784213  , 0.81355953], dtype=float32),\n",
       " array([0.7837117 , 0.77512807], dtype=float32),\n",
       " array([0.79476905, 0.7878928 ], dtype=float32),\n",
       " array([0.8058557, 0.7982143], dtype=float32),\n",
       " array([0.8164004 , 0.80765337], dtype=float32),\n",
       " array([0.82656187, 0.8137004 ], dtype=float32),\n",
       " array([0.8091204, 0.7317632], dtype=float32),\n",
       " array([0.8491149 , 0.83545256], dtype=float32),\n",
       " array([0.85418046, 0.8225816 ], dtype=float32),\n",
       " array([0.86512333, 0.833749  ], dtype=float32),\n",
       " array([0.87568396, 0.8420449 ], dtype=float32),\n",
       " array([0.88509595, 0.8498434 ], dtype=float32),\n",
       " array([0.8953332, 0.8569225], dtype=float32),\n",
       " array([0.8948087 , 0.83870053], dtype=float32),\n",
       " array([0.9144881, 0.8712988], dtype=float32),\n",
       " array([0.9219825 , 0.87108815], dtype=float32),\n",
       " array([0.9319971, 0.8792272], dtype=float32),\n",
       " array([0.9415146 , 0.88590467], dtype=float32),\n",
       " array([0.9506036 , 0.89248234], dtype=float32),\n",
       " array([0.9598197, 0.8988783], dtype=float32),\n",
       " array([0.96564496, 0.8976041 ], dtype=float32),\n",
       " array([0.97736746, 0.9108289 ], dtype=float32),\n",
       " array([0.985311 , 0.9144177], dtype=float32),\n",
       " array([0.9941282, 0.9208385], dtype=float32),\n",
       " array([1.0026526, 0.9265936], dtype=float32),\n",
       " array([1.0109982 , 0.93232274], dtype=float32),\n",
       " array([1.0193238, 0.9379823], dtype=float32),\n",
       " array([1.0264802, 0.9411924], dtype=float32),\n",
       " array([1.035398 , 0.9487149], dtype=float32),\n",
       " array([1.0430694 , 0.95323735], dtype=float32),\n",
       " array([1.0510178 , 0.95872694], dtype=float32),\n",
       " array([1.0588014, 0.963916 ], dtype=float32),\n",
       " array([1.0664895 , 0.96908695], dtype=float32),\n",
       " array([1.0741265, 0.974214 ], dtype=float32),\n",
       " array([1.081327  , 0.97851753], dtype=float32),\n",
       " array([1.0890466, 0.9841427], dtype=float32),\n",
       " array([1.0963173, 0.9887762], dtype=float32),\n",
       " array([1.1036583, 0.9937373], dtype=float32),\n",
       " array([1.110902 , 0.9985566], dtype=float32),\n",
       " array([1.1180843, 1.0033573], dtype=float32),\n",
       " array([1.1252196, 1.0081253], dtype=float32),\n",
       " array([1.1321772, 1.012598 ], dtype=float32),\n",
       " array([1.1392796, 1.017481 ], dtype=float32),\n",
       " array([1.1462152, 1.0220094], dtype=float32),\n",
       " array([1.1531765, 1.0266395], dtype=float32),\n",
       " array([1.160095 , 1.0311999], dtype=float32),\n",
       " array([1.166986 , 1.0357443], dtype=float32),\n",
       " array([1.1738529, 1.040266 ], dtype=float32),\n",
       " array([1.1806513, 1.0446757], dtype=float32),\n",
       " array([1.1874899, 1.0492148], dtype=float32),\n",
       " array([1.1942593, 1.0536209], dtype=float32),\n",
       " array([1.201026 , 1.0580579], dtype=float32),\n",
       " array([1.2077669, 1.0624604], dtype=float32),\n",
       " array([1.21449  , 1.0668515], dtype=float32),\n",
       " array([1.2211987, 1.0712289], dtype=float32),\n",
       " array([1.227877 , 1.0755615], dtype=float32),\n",
       " array([1.2345659, 1.0799347], dtype=float32),\n",
       " array([1.2412267, 1.0842566], dtype=float32),\n",
       " array([1.2478857, 1.0885888], dtype=float32),\n",
       " array([1.2545338, 1.0929064], dtype=float32),\n",
       " array([1.2611748, 1.0972201], dtype=float32),\n",
       " array([1.2678108, 1.1015284], dtype=float32),\n",
       " array([1.2744381, 1.1058209], dtype=float32),\n",
       " array([1.2810731, 1.1101289], dtype=float32),\n",
       " array([1.2877027, 1.1144186], dtype=float32),\n",
       " array([1.2943383, 1.118715 ], dtype=float32),\n",
       " array([1.300978, 1.123009], dtype=float32),\n",
       " array([1.3076248, 1.127306 ], dtype=float32),\n",
       " array([1.3142804, 1.1316054], dtype=float32),\n",
       " array([1.3209441, 1.1359047], dtype=float32),\n",
       " array([1.327623 , 1.1402159], dtype=float32),\n",
       " array([1.3343115, 1.1445252], dtype=float32),\n",
       " array([1.341016 , 1.1488444], dtype=float32),\n",
       " array([1.3477366, 1.1531707], dtype=float32),\n",
       " array([1.354476 , 1.1575062], dtype=float32),\n",
       " array([1.3612365, 1.1618522], dtype=float32),\n",
       " array([1.3680184, 1.1662083], dtype=float32),\n",
       " array([1.3748266, 1.1705798], dtype=float32),\n",
       " array([1.3816595, 1.1749619], dtype=float32),\n",
       " array([1.3885216, 1.1793605], dtype=float32),\n",
       " array([1.3954134, 1.1837745], dtype=float32),\n",
       " array([1.4023379, 1.1882057], dtype=float32),\n",
       " array([1.4092962, 1.1926556], dtype=float32),\n",
       " array([1.4162905, 1.1971247], dtype=float32),\n",
       " array([1.4233242, 1.2016156], dtype=float32),\n",
       " array([1.4303939, 1.206128 ], dtype=float32),\n",
       " array([1.4374921, 1.2106665], dtype=float32),\n",
       " array([1.4446243, 1.2152287], dtype=float32),\n",
       " array([1.4517949, 1.2198159], dtype=float32),\n",
       " array([1.4590076, 1.2244297], dtype=float32),\n",
       " array([1.4662646, 1.2290703], dtype=float32),\n",
       " array([1.4735696, 1.2337396], dtype=float32),\n",
       " array([1.4809248, 1.2384392], dtype=float32),\n",
       " array([1.4883336, 1.2431723], dtype=float32),\n",
       " array([1.495798 , 1.2479385], dtype=float32),\n",
       " array([1.5033209, 1.2527392], dtype=float32),\n",
       " array([1.5108485, 1.257426 ], dtype=float32),\n",
       " array([1.5184278, 1.2621311], dtype=float32),\n",
       " array([1.5260568, 1.2668492], dtype=float32),\n",
       " array([1.5337378, 1.2715962], dtype=float32),\n",
       " array([1.5414698, 1.276367 ], dtype=float32),\n",
       " array([1.5492532, 1.2811654], dtype=float32),\n",
       " array([1.5570866, 1.28599  ], dtype=float32),\n",
       " array([1.5649482, 1.2908069], dtype=float32),\n",
       " array([1.5728551, 1.2956488], dtype=float32),\n",
       " array([1.5808086, 1.3005136], dtype=float32),\n",
       " array([1.5888139, 1.3054068], dtype=float32),\n",
       " array([1.5968742, 1.3103291], dtype=float32),\n",
       " array([1.6049906, 1.3152826], dtype=float32),\n",
       " array([1.6131653, 1.320268 ], dtype=float32),\n",
       " array([1.6213944, 1.3252774], dtype=float32),\n",
       " array([1.6296846, 1.3303205], dtype=float32)]"
      ]
     },
     "execution_count": 72,
     "metadata": {},
     "output_type": "execute_result"
    }
   ],
   "source": [
    "test_predictions"
   ]
  },
  {
   "cell_type": "code",
   "execution_count": 73,
   "metadata": {},
   "outputs": [
    {
     "data": {
      "text/html": [
       "<div>\n",
       "<style scoped>\n",
       "    .dataframe tbody tr th:only-of-type {\n",
       "        vertical-align: middle;\n",
       "    }\n",
       "\n",
       "    .dataframe tbody tr th {\n",
       "        vertical-align: top;\n",
       "    }\n",
       "\n",
       "    .dataframe thead th {\n",
       "        text-align: right;\n",
       "    }\n",
       "</style>\n",
       "<table border=\"1\" class=\"dataframe\">\n",
       "  <thead>\n",
       "    <tr style=\"text-align: right;\">\n",
       "      <th></th>\n",
       "      <th>MODAL</th>\n",
       "      <th>Arrival</th>\n",
       "    </tr>\n",
       "    <tr>\n",
       "      <th>date_arrival</th>\n",
       "      <th></th>\n",
       "      <th></th>\n",
       "    </tr>\n",
       "  </thead>\n",
       "  <tbody>\n",
       "    <tr>\n",
       "      <th>2023-03-15</th>\n",
       "      <td>819.517857</td>\n",
       "      <td>59885.0</td>\n",
       "    </tr>\n",
       "    <tr>\n",
       "      <th>2023-03-16</th>\n",
       "      <td>828.835821</td>\n",
       "      <td>56889.0</td>\n",
       "    </tr>\n",
       "    <tr>\n",
       "      <th>2023-03-17</th>\n",
       "      <td>827.830189</td>\n",
       "      <td>32850.0</td>\n",
       "    </tr>\n",
       "    <tr>\n",
       "      <th>2023-03-18</th>\n",
       "      <td>817.875000</td>\n",
       "      <td>32402.0</td>\n",
       "    </tr>\n",
       "    <tr>\n",
       "      <th>2023-03-19</th>\n",
       "      <td>918.515152</td>\n",
       "      <td>10571.0</td>\n",
       "    </tr>\n",
       "  </tbody>\n",
       "</table>\n",
       "</div>"
      ],
      "text/plain": [
       "                   MODAL  Arrival\n",
       "date_arrival                     \n",
       "2023-03-15    819.517857  59885.0\n",
       "2023-03-16    828.835821  56889.0\n",
       "2023-03-17    827.830189  32850.0\n",
       "2023-03-18    817.875000  32402.0\n",
       "2023-03-19    918.515152  10571.0"
      ]
     },
     "execution_count": 73,
     "metadata": {},
     "output_type": "execute_result"
    }
   ],
   "source": [
    "test.head()"
   ]
  },
  {
   "cell_type": "code",
   "execution_count": 75,
   "metadata": {},
   "outputs": [],
   "source": [
    "true_predictions = scaler.inverse_transform(test_predictions)"
   ]
  },
  {
   "cell_type": "code",
   "execution_count": 274,
   "metadata": {},
   "outputs": [],
   "source": [
    "import pandas as pd\n",
    "\n",
    "# Assuming 'true_predictions' is your array\n",
    "test['Pred_Min'] = true_predictions[:, 0]\n",
    "test['Pred_Max'] = true_predictions[:, 1]\n",
    "test['Pred_Modal'] = true_predictions[:, 2]\n",
    "test['Pred_Arrival'] = true_predictions[:, 3]"
   ]
  },
  {
   "cell_type": "code",
   "execution_count": 76,
   "metadata": {},
   "outputs": [],
   "source": [
    "test['Pred_Modal'] = true_predictions[:, 0]\n",
    "test['Pred_Arrival'] = true_predictions[:, 1]"
   ]
  },
  {
   "cell_type": "code",
   "execution_count": 77,
   "metadata": {},
   "outputs": [
    {
     "data": {
      "text/html": [
       "<div>\n",
       "<style scoped>\n",
       "    .dataframe tbody tr th:only-of-type {\n",
       "        vertical-align: middle;\n",
       "    }\n",
       "\n",
       "    .dataframe tbody tr th {\n",
       "        vertical-align: top;\n",
       "    }\n",
       "\n",
       "    .dataframe thead th {\n",
       "        text-align: right;\n",
       "    }\n",
       "</style>\n",
       "<table border=\"1\" class=\"dataframe\">\n",
       "  <thead>\n",
       "    <tr style=\"text-align: right;\">\n",
       "      <th></th>\n",
       "      <th>MODAL</th>\n",
       "      <th>Arrival</th>\n",
       "      <th>Pred_Modal</th>\n",
       "      <th>Pred_Arrival</th>\n",
       "    </tr>\n",
       "    <tr>\n",
       "      <th>date_arrival</th>\n",
       "      <th></th>\n",
       "      <th></th>\n",
       "      <th></th>\n",
       "      <th></th>\n",
       "    </tr>\n",
       "  </thead>\n",
       "  <tbody>\n",
       "    <tr>\n",
       "      <th>2023-03-15</th>\n",
       "      <td>819.517857</td>\n",
       "      <td>59885.00</td>\n",
       "      <td>731.587627</td>\n",
       "      <td>83185.867660</td>\n",
       "    </tr>\n",
       "    <tr>\n",
       "      <th>2023-03-16</th>\n",
       "      <td>828.835821</td>\n",
       "      <td>56889.00</td>\n",
       "      <td>756.497603</td>\n",
       "      <td>71219.267043</td>\n",
       "    </tr>\n",
       "    <tr>\n",
       "      <th>2023-03-17</th>\n",
       "      <td>827.830189</td>\n",
       "      <td>32850.00</td>\n",
       "      <td>760.789752</td>\n",
       "      <td>55556.949408</td>\n",
       "    </tr>\n",
       "    <tr>\n",
       "      <th>2023-03-18</th>\n",
       "      <td>817.875000</td>\n",
       "      <td>32402.00</td>\n",
       "      <td>757.906320</td>\n",
       "      <td>41937.515020</td>\n",
       "    </tr>\n",
       "    <tr>\n",
       "      <th>2023-03-19</th>\n",
       "      <td>918.515152</td>\n",
       "      <td>10571.00</td>\n",
       "      <td>789.497892</td>\n",
       "      <td>13217.156751</td>\n",
       "    </tr>\n",
       "    <tr>\n",
       "      <th>...</th>\n",
       "      <td>...</td>\n",
       "      <td>...</td>\n",
       "      <td>...</td>\n",
       "      <td>...</td>\n",
       "    </tr>\n",
       "    <tr>\n",
       "      <th>2023-09-27</th>\n",
       "      <td>1978.393939</td>\n",
       "      <td>17023.00</td>\n",
       "      <td>2986.944244</td>\n",
       "      <td>148942.500894</td>\n",
       "    </tr>\n",
       "    <tr>\n",
       "      <th>2023-09-28</th>\n",
       "      <td>2104.411765</td>\n",
       "      <td>10241.00</td>\n",
       "      <td>2998.945022</td>\n",
       "      <td>149500.815239</td>\n",
       "    </tr>\n",
       "    <tr>\n",
       "      <th>2023-09-29</th>\n",
       "      <td>1874.296296</td>\n",
       "      <td>10973.12</td>\n",
       "      <td>3011.031992</td>\n",
       "      <td>150062.730486</td>\n",
       "    </tr>\n",
       "    <tr>\n",
       "      <th>2023-09-30</th>\n",
       "      <td>1982.000000</td>\n",
       "      <td>18822.00</td>\n",
       "      <td>3023.199513</td>\n",
       "      <td>150627.346408</td>\n",
       "    </tr>\n",
       "    <tr>\n",
       "      <th>2023-10-01</th>\n",
       "      <td>1840.333333</td>\n",
       "      <td>10627.00</td>\n",
       "      <td>3035.457281</td>\n",
       "      <td>151195.751338</td>\n",
       "    </tr>\n",
       "  </tbody>\n",
       "</table>\n",
       "<p>201 rows × 4 columns</p>\n",
       "</div>"
      ],
      "text/plain": [
       "                    MODAL   Arrival   Pred_Modal   Pred_Arrival\n",
       "date_arrival                                                   \n",
       "2023-03-15     819.517857  59885.00   731.587627   83185.867660\n",
       "2023-03-16     828.835821  56889.00   756.497603   71219.267043\n",
       "2023-03-17     827.830189  32850.00   760.789752   55556.949408\n",
       "2023-03-18     817.875000  32402.00   757.906320   41937.515020\n",
       "2023-03-19     918.515152  10571.00   789.497892   13217.156751\n",
       "...                   ...       ...          ...            ...\n",
       "2023-09-27    1978.393939  17023.00  2986.944244  148942.500894\n",
       "2023-09-28    2104.411765  10241.00  2998.945022  149500.815239\n",
       "2023-09-29    1874.296296  10973.12  3011.031992  150062.730486\n",
       "2023-09-30    1982.000000  18822.00  3023.199513  150627.346408\n",
       "2023-10-01    1840.333333  10627.00  3035.457281  151195.751338\n",
       "\n",
       "[201 rows x 4 columns]"
      ]
     },
     "execution_count": 77,
     "metadata": {},
     "output_type": "execute_result"
    }
   ],
   "source": [
    "test"
   ]
  },
  {
   "cell_type": "code",
   "execution_count": 78,
   "metadata": {},
   "outputs": [
    {
     "data": {
      "image/png": "[encoded data removed]",
      "text/plain": [
       "<Figure size 1200x600 with 1 Axes>"
      ]
     },
     "metadata": {},
     "output_type": "display_data"
    }
   ],
   "source": [
    "import matplotlib.pyplot as plt\n",
    "\n",
    "# Assuming you have already set the date as the index\n",
    "plt.figure(figsize=(12, 6))  # Adjust the figure size as needed\n",
    "plt.plot(test.index, test['MODAL'], label='MODAL', color='blue', linestyle='-')\n",
    "plt.plot(test.index, test['Pred_Modal'], label='Pred_Modal', color='red', linestyle='-')\n",
    "\n",
    "# Customize the chart\n",
    "plt.xlabel('Date')\n",
    "plt.ylabel('Price')\n",
    "plt.title('MODAL vs Pred_Modal Over Time')\n",
    "plt.legend()  # Add a legend to differentiate the two lines\n",
    "\n",
    "# Rotate x-axis labels for better readability\n",
    "plt.xticks(rotation=45)\n",
    "\n",
    "# Show the chart\n",
    "plt.tight_layout()\n",
    "plt.show()"
   ]
  }
 ],
 "metadata": {
  "kernelspec": {
   "display_name": "Python 3",
   "language": "python",
   "name": "python3"
  },
  "language_info": {
   "codemirror_mode": {
    "name": "ipython",
    "version": 3
   },
   "file_extension": ".py",
   "mimetype": "text/x-python",
   "name": "python",
   "nbconvert_exporter": "python",
   "pygments_lexer": "ipython3",
   "version": "3.9.0"
  },
  "orig_nbformat": 4
 },
 "nbformat": 4,
 "nbformat_minor": 2
}
